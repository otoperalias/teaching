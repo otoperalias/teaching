{
  "nbformat": 4,
  "nbformat_minor": 0,
  "metadata": {
    "colab": {
      "provenance": [],
      "toc_visible": true,
      "authorship_tag": "ABX9TyMNIHPvg6V+PmJnaMmoGkwP",
      "include_colab_link": true
    },
    "kernelspec": {
      "name": "python3",
      "display_name": "Python 3"
    },
    "language_info": {
      "name": "python"
    }
  },
  "cells": [
    {
      "cell_type": "markdown",
      "metadata": {
        "id": "view-in-github",
        "colab_type": "text"
      },
      "source": [
        "<a href=\"https://colab.research.google.com/github/otoperalias/teaching/blob/TallerUTE_AnalisisCuanti/UTE_TallerAnalisisCuanti.ipynb\" target=\"_parent\"><img src=\"https://colab.research.google.com/assets/colab-badge.svg\" alt=\"Open In Colab\"/></a>"
      ]
    },
    {
      "cell_type": "markdown",
      "source": [
        "<img src=\"https://github.com/otoperalias/teaching/blob/TallerUTE_AnalisisCuanti/material/6.%20M%C3%89TODOS%20CUANTITATIVOS%20WORKSHOP%20(1).jpg?raw=true\" alt=\"drawing\" width=\"900\"/>\n",
        "\n"
      ],
      "metadata": {
        "id": "m8l8hADy_TjZ"
      }
    },
    {
      "cell_type": "markdown",
      "source": [
        "## Taller de Análisis de Datos Cuantitativos\n",
        "\n",
        "### Maestría en Urbanismo (UTE, Ecuador).\n",
        "\n",
        "Instructor: [Daniel Oto-Peralías](https://otoperalias.github.io/)\n",
        "_________________________"
      ],
      "metadata": {
        "id": "lByeC5V4GRSE"
      }
    },
    {
      "cell_type": "markdown",
      "source": [
        "El objetivo del taller es aprender a explotar una encuesta a través de programas estadísticos de análisis cuantitativos.\n",
        "\n",
        "Usaremos el [Censo de Población y Vivienda de Ecuador (2010)](https://www.ecuadorencifras.gob.ec/censo-de-poblacion-y-vivienda/) para analizar las características de las viviendas de la provincia de Loja.\n",
        "\n",
        "**Vamos a necesitar el siguiente material:**\n",
        "1. Los [datos del censo](https://www.ecuadorencifras.gob.ec/base-de-datos-censo-de-poblacion-y-vivienda/): hacemos clic en *A NIVEL DE SECTOR/– Censo Población y Vivienda 2010* y luego seleccionamos *Loja*.\n",
        "2. El [cuestionario del censo](https://www.ecuadorencifras.gob.ec//wp-content/descargas/Poblacion_y_demo/Cuestionario_censal/cuestionario_censal.pdf), donde podemos ver el significado de los códigos numéricos que aparecen en los datos.\n",
        "3. El diccionario de datos del censo, para saber el significado de cada variable. Se puede obtener a través de [este enlace](https://aplicaciones3.ecuadorencifras.gob.ec/BIINEC-war/index.xhtml?oe=CENSOS%20DE%20POBLACI%D3N%20Y%20VIVIENDA%20NACIONAL&a=2010&m=DECENAL&t=Datos%20Abiertos%20CSV), clicando en *Datos Abiertos CSV*, pero para evitaros tener que descargar dicho archivo tan pesado (~1GB), lo proporciono en [este enlace](https://github.com/otoperalias/teaching/raw/TallerUTE_AnalisisCuanti/material/Diccionario%20de%20Datos%20CPV2010.xls).\n",
        "4. Además, es útil tener a mano esta publicación con una descripción de los resultados para la provincia de Loja. Disponible [aquí](https://www.ecuadorencifras.gob.ec/censo-de-poblacion-y-vivienda/), clicando en *Resultados provinciales/ Loja*."
      ],
      "metadata": {
        "id": "9QJVM6_S_zYR"
      }
    },
    {
      "cell_type": "markdown",
      "source": [
        "### Sobre el programa informático\n",
        "\n",
        "* En este taller usamos **Google Colab**, que es un *notebook* desde el que podemos ejecutar muchas librerías de **Python**.\n",
        "* La librería principal que vamos a usar es **Pandas**, una \"paquete\" especialiado en el procesamiento y análisis de datos cuantitativos.\n",
        "* La gran ventaja de Python-Pandas frente a otras alternativas (SPSS/Stata/etc.) es su carácter gratuito y la gran cantidad de recusos de ayuda que existe en Internet, debido a su enorme comunidad de usuarios."
      ],
      "metadata": {
        "id": "MH3tT32NHU5I"
      }
    },
    {
      "cell_type": "markdown",
      "source": [
        "## 1. Importamos las librerías que vamos a utilizar"
      ],
      "metadata": {
        "id": "Ug_RPmKzJnC8"
      }
    },
    {
      "cell_type": "code",
      "execution_count": 1,
      "metadata": {
        "id": "Y8_GMaPLouFM"
      },
      "outputs": [],
      "source": [
        "import pandas as pd\n",
        "import matplotlib.pyplot as plt\n",
        "import seaborn as sns"
      ]
    },
    {
      "cell_type": "markdown",
      "source": [
        "## 2. Importamos los datos\n"
      ],
      "metadata": {
        "id": "fehhNZfQJ2hs"
      }
    },
    {
      "cell_type": "markdown",
      "source": [
        "Para ello, en primer lugar, tenemos que descargar los datos en nuestro ordenador y subirlos a Google Colab:\n",
        "1. Clicamos en el icono de carpeta que hay en la parte superior de la barra de la izquierda (📁) y entonces clicamos en el primer icono de upload.\n",
        "2. Se abre una ventana para seleccionar el archivo que queremos subir, y seleccionamos la carpeta comprimida \"Loja_CSV_Vivienda\".  "
      ],
      "metadata": {
        "id": "rnYzfsQZJ75j"
      }
    },
    {
      "cell_type": "markdown",
      "source": [
        "Una vez que lo tenemos subido y que aparece como tal (\"Loja_CSV_Vivienda.zip\") en la barra izquierda, podemos importarlo:"
      ],
      "metadata": {
        "id": "5oykwNuTLU-Z"
      }
    },
    {
      "cell_type": "code",
      "source": [
        "viv=pd.read_csv(\"Loja_CSV_Vivienda.zip\",compression='zip')"
      ],
      "metadata": {
        "id": "L-igsBqArNpN"
      },
      "execution_count": 2,
      "outputs": []
    },
    {
      "cell_type": "markdown",
      "source": [
        "Para visualizar la tabla, escribimos el nombre que le hemos dado"
      ],
      "metadata": {
        "id": "DgKtdN2CLa0K"
      }
    },
    {
      "cell_type": "code",
      "source": [
        "viv"
      ],
      "metadata": {
        "colab": {
          "base_uri": "https://localhost:8080/",
          "height": 424
        },
        "id": "SQI1CN6Jr5W-",
        "outputId": "2244e46a-62bb-43b9-cc81-025d70e3d07f"
      },
      "execution_count": 3,
      "outputs": [
        {
          "output_type": "execute_result",
          "data": {
            "text/plain": [
              "        I01  I02  I03  I04  I05  I09  I10  URV  VTV VAP  ... V11 V12A V12B  \\\n",
              "0        11    1   50    1    1    1    1    1    1   3  ...   1   05   00   \n",
              "1        11    1   50    1    1    2    1    1    4   3  ...   1   00   03   \n",
              "2        11    1   50    1    1    3    1    1    6   3  ...                 \n",
              "3        11    1   50    1    1    4    1    1    1   3  ...   1   02   08   \n",
              "4        11    1   50    1    1    5    1    1    4   3  ...                 \n",
              "...     ...  ...  ...  ...  ...  ...  ...  ...  ...  ..  ...  ..  ...  ...   \n",
              "155312   11   16   51  999    5   68    1    2    1   4  ...   1   05   00   \n",
              "155313   11   16   51  999    5   69    1    2    1   4  ...   1   00   05   \n",
              "155314   11   16   51  999    5   70    1    2    1   4  ...   1   00   03   \n",
              "155315   11   16   51  999    5   71    1    2    1   4  ...   1   00   04   \n",
              "155316   11   16   51  999    5   72    1    2    1   4  ...   1   00   06   \n",
              "\n",
              "       V13 V14 V15 V16 TOTPER TOTDOR TOTEMI  \n",
              "0        1   3   1   1      4      1         \n",
              "1        1   1   1   1      4      1         \n",
              "2                           0                \n",
              "3        1   3   1   1      5      2         \n",
              "4                           0                \n",
              "...     ..  ..  ..  ..    ...    ...    ...  \n",
              "155312   2   3   1   1      2      2         \n",
              "155313   2   3   1   1      1      2         \n",
              "155314   2   2   1   1      1      1         \n",
              "155315   2   2   1   1      1      2         \n",
              "155316   2   2   1   1      7      2         \n",
              "\n",
              "[155317 rows x 31 columns]"
            ],
            "text/html": [
              "\n",
              "\n",
              "  <div id=\"df-01c32e15-1d21-44d8-894e-8d0bcef579c2\">\n",
              "    <div class=\"colab-df-container\">\n",
              "      <div>\n",
              "<style scoped>\n",
              "    .dataframe tbody tr th:only-of-type {\n",
              "        vertical-align: middle;\n",
              "    }\n",
              "\n",
              "    .dataframe tbody tr th {\n",
              "        vertical-align: top;\n",
              "    }\n",
              "\n",
              "    .dataframe thead th {\n",
              "        text-align: right;\n",
              "    }\n",
              "</style>\n",
              "<table border=\"1\" class=\"dataframe\">\n",
              "  <thead>\n",
              "    <tr style=\"text-align: right;\">\n",
              "      <th></th>\n",
              "      <th>I01</th>\n",
              "      <th>I02</th>\n",
              "      <th>I03</th>\n",
              "      <th>I04</th>\n",
              "      <th>I05</th>\n",
              "      <th>I09</th>\n",
              "      <th>I10</th>\n",
              "      <th>URV</th>\n",
              "      <th>VTV</th>\n",
              "      <th>VAP</th>\n",
              "      <th>...</th>\n",
              "      <th>V11</th>\n",
              "      <th>V12A</th>\n",
              "      <th>V12B</th>\n",
              "      <th>V13</th>\n",
              "      <th>V14</th>\n",
              "      <th>V15</th>\n",
              "      <th>V16</th>\n",
              "      <th>TOTPER</th>\n",
              "      <th>TOTDOR</th>\n",
              "      <th>TOTEMI</th>\n",
              "    </tr>\n",
              "  </thead>\n",
              "  <tbody>\n",
              "    <tr>\n",
              "      <th>0</th>\n",
              "      <td>11</td>\n",
              "      <td>1</td>\n",
              "      <td>50</td>\n",
              "      <td>1</td>\n",
              "      <td>1</td>\n",
              "      <td>1</td>\n",
              "      <td>1</td>\n",
              "      <td>1</td>\n",
              "      <td>1</td>\n",
              "      <td>3</td>\n",
              "      <td>...</td>\n",
              "      <td>1</td>\n",
              "      <td>05</td>\n",
              "      <td>00</td>\n",
              "      <td>1</td>\n",
              "      <td>3</td>\n",
              "      <td>1</td>\n",
              "      <td>1</td>\n",
              "      <td>4</td>\n",
              "      <td>1</td>\n",
              "      <td></td>\n",
              "    </tr>\n",
              "    <tr>\n",
              "      <th>1</th>\n",
              "      <td>11</td>\n",
              "      <td>1</td>\n",
              "      <td>50</td>\n",
              "      <td>1</td>\n",
              "      <td>1</td>\n",
              "      <td>2</td>\n",
              "      <td>1</td>\n",
              "      <td>1</td>\n",
              "      <td>4</td>\n",
              "      <td>3</td>\n",
              "      <td>...</td>\n",
              "      <td>1</td>\n",
              "      <td>00</td>\n",
              "      <td>03</td>\n",
              "      <td>1</td>\n",
              "      <td>1</td>\n",
              "      <td>1</td>\n",
              "      <td>1</td>\n",
              "      <td>4</td>\n",
              "      <td>1</td>\n",
              "      <td></td>\n",
              "    </tr>\n",
              "    <tr>\n",
              "      <th>2</th>\n",
              "      <td>11</td>\n",
              "      <td>1</td>\n",
              "      <td>50</td>\n",
              "      <td>1</td>\n",
              "      <td>1</td>\n",
              "      <td>3</td>\n",
              "      <td>1</td>\n",
              "      <td>1</td>\n",
              "      <td>6</td>\n",
              "      <td>3</td>\n",
              "      <td>...</td>\n",
              "      <td></td>\n",
              "      <td></td>\n",
              "      <td></td>\n",
              "      <td></td>\n",
              "      <td></td>\n",
              "      <td></td>\n",
              "      <td></td>\n",
              "      <td>0</td>\n",
              "      <td></td>\n",
              "      <td></td>\n",
              "    </tr>\n",
              "    <tr>\n",
              "      <th>3</th>\n",
              "      <td>11</td>\n",
              "      <td>1</td>\n",
              "      <td>50</td>\n",
              "      <td>1</td>\n",
              "      <td>1</td>\n",
              "      <td>4</td>\n",
              "      <td>1</td>\n",
              "      <td>1</td>\n",
              "      <td>1</td>\n",
              "      <td>3</td>\n",
              "      <td>...</td>\n",
              "      <td>1</td>\n",
              "      <td>02</td>\n",
              "      <td>08</td>\n",
              "      <td>1</td>\n",
              "      <td>3</td>\n",
              "      <td>1</td>\n",
              "      <td>1</td>\n",
              "      <td>5</td>\n",
              "      <td>2</td>\n",
              "      <td></td>\n",
              "    </tr>\n",
              "    <tr>\n",
              "      <th>4</th>\n",
              "      <td>11</td>\n",
              "      <td>1</td>\n",
              "      <td>50</td>\n",
              "      <td>1</td>\n",
              "      <td>1</td>\n",
              "      <td>5</td>\n",
              "      <td>1</td>\n",
              "      <td>1</td>\n",
              "      <td>4</td>\n",
              "      <td>3</td>\n",
              "      <td>...</td>\n",
              "      <td></td>\n",
              "      <td></td>\n",
              "      <td></td>\n",
              "      <td></td>\n",
              "      <td></td>\n",
              "      <td></td>\n",
              "      <td></td>\n",
              "      <td>0</td>\n",
              "      <td></td>\n",
              "      <td></td>\n",
              "    </tr>\n",
              "    <tr>\n",
              "      <th>...</th>\n",
              "      <td>...</td>\n",
              "      <td>...</td>\n",
              "      <td>...</td>\n",
              "      <td>...</td>\n",
              "      <td>...</td>\n",
              "      <td>...</td>\n",
              "      <td>...</td>\n",
              "      <td>...</td>\n",
              "      <td>...</td>\n",
              "      <td>...</td>\n",
              "      <td>...</td>\n",
              "      <td>...</td>\n",
              "      <td>...</td>\n",
              "      <td>...</td>\n",
              "      <td>...</td>\n",
              "      <td>...</td>\n",
              "      <td>...</td>\n",
              "      <td>...</td>\n",
              "      <td>...</td>\n",
              "      <td>...</td>\n",
              "      <td>...</td>\n",
              "    </tr>\n",
              "    <tr>\n",
              "      <th>155312</th>\n",
              "      <td>11</td>\n",
              "      <td>16</td>\n",
              "      <td>51</td>\n",
              "      <td>999</td>\n",
              "      <td>5</td>\n",
              "      <td>68</td>\n",
              "      <td>1</td>\n",
              "      <td>2</td>\n",
              "      <td>1</td>\n",
              "      <td>4</td>\n",
              "      <td>...</td>\n",
              "      <td>1</td>\n",
              "      <td>05</td>\n",
              "      <td>00</td>\n",
              "      <td>2</td>\n",
              "      <td>3</td>\n",
              "      <td>1</td>\n",
              "      <td>1</td>\n",
              "      <td>2</td>\n",
              "      <td>2</td>\n",
              "      <td></td>\n",
              "    </tr>\n",
              "    <tr>\n",
              "      <th>155313</th>\n",
              "      <td>11</td>\n",
              "      <td>16</td>\n",
              "      <td>51</td>\n",
              "      <td>999</td>\n",
              "      <td>5</td>\n",
              "      <td>69</td>\n",
              "      <td>1</td>\n",
              "      <td>2</td>\n",
              "      <td>1</td>\n",
              "      <td>4</td>\n",
              "      <td>...</td>\n",
              "      <td>1</td>\n",
              "      <td>00</td>\n",
              "      <td>05</td>\n",
              "      <td>2</td>\n",
              "      <td>3</td>\n",
              "      <td>1</td>\n",
              "      <td>1</td>\n",
              "      <td>1</td>\n",
              "      <td>2</td>\n",
              "      <td></td>\n",
              "    </tr>\n",
              "    <tr>\n",
              "      <th>155314</th>\n",
              "      <td>11</td>\n",
              "      <td>16</td>\n",
              "      <td>51</td>\n",
              "      <td>999</td>\n",
              "      <td>5</td>\n",
              "      <td>70</td>\n",
              "      <td>1</td>\n",
              "      <td>2</td>\n",
              "      <td>1</td>\n",
              "      <td>4</td>\n",
              "      <td>...</td>\n",
              "      <td>1</td>\n",
              "      <td>00</td>\n",
              "      <td>03</td>\n",
              "      <td>2</td>\n",
              "      <td>2</td>\n",
              "      <td>1</td>\n",
              "      <td>1</td>\n",
              "      <td>1</td>\n",
              "      <td>1</td>\n",
              "      <td></td>\n",
              "    </tr>\n",
              "    <tr>\n",
              "      <th>155315</th>\n",
              "      <td>11</td>\n",
              "      <td>16</td>\n",
              "      <td>51</td>\n",
              "      <td>999</td>\n",
              "      <td>5</td>\n",
              "      <td>71</td>\n",
              "      <td>1</td>\n",
              "      <td>2</td>\n",
              "      <td>1</td>\n",
              "      <td>4</td>\n",
              "      <td>...</td>\n",
              "      <td>1</td>\n",
              "      <td>00</td>\n",
              "      <td>04</td>\n",
              "      <td>2</td>\n",
              "      <td>2</td>\n",
              "      <td>1</td>\n",
              "      <td>1</td>\n",
              "      <td>1</td>\n",
              "      <td>2</td>\n",
              "      <td></td>\n",
              "    </tr>\n",
              "    <tr>\n",
              "      <th>155316</th>\n",
              "      <td>11</td>\n",
              "      <td>16</td>\n",
              "      <td>51</td>\n",
              "      <td>999</td>\n",
              "      <td>5</td>\n",
              "      <td>72</td>\n",
              "      <td>1</td>\n",
              "      <td>2</td>\n",
              "      <td>1</td>\n",
              "      <td>4</td>\n",
              "      <td>...</td>\n",
              "      <td>1</td>\n",
              "      <td>00</td>\n",
              "      <td>06</td>\n",
              "      <td>2</td>\n",
              "      <td>2</td>\n",
              "      <td>1</td>\n",
              "      <td>1</td>\n",
              "      <td>7</td>\n",
              "      <td>2</td>\n",
              "      <td></td>\n",
              "    </tr>\n",
              "  </tbody>\n",
              "</table>\n",
              "<p>155317 rows × 31 columns</p>\n",
              "</div>\n",
              "      <button class=\"colab-df-convert\" onclick=\"convertToInteractive('df-01c32e15-1d21-44d8-894e-8d0bcef579c2')\"\n",
              "              title=\"Convert this dataframe to an interactive table.\"\n",
              "              style=\"display:none;\">\n",
              "\n",
              "  <svg xmlns=\"http://www.w3.org/2000/svg\" height=\"24px\"viewBox=\"0 0 24 24\"\n",
              "       width=\"24px\">\n",
              "    <path d=\"M0 0h24v24H0V0z\" fill=\"none\"/>\n",
              "    <path d=\"M18.56 5.44l.94 2.06.94-2.06 2.06-.94-2.06-.94-.94-2.06-.94 2.06-2.06.94zm-11 1L8.5 8.5l.94-2.06 2.06-.94-2.06-.94L8.5 2.5l-.94 2.06-2.06.94zm10 10l.94 2.06.94-2.06 2.06-.94-2.06-.94-.94-2.06-.94 2.06-2.06.94z\"/><path d=\"M17.41 7.96l-1.37-1.37c-.4-.4-.92-.59-1.43-.59-.52 0-1.04.2-1.43.59L10.3 9.45l-7.72 7.72c-.78.78-.78 2.05 0 2.83L4 21.41c.39.39.9.59 1.41.59.51 0 1.02-.2 1.41-.59l7.78-7.78 2.81-2.81c.8-.78.8-2.07 0-2.86zM5.41 20L4 18.59l7.72-7.72 1.47 1.35L5.41 20z\"/>\n",
              "  </svg>\n",
              "      </button>\n",
              "\n",
              "\n",
              "\n",
              "    <div id=\"df-448a1f4e-3acc-4a3f-b4d4-07739e2d2f19\">\n",
              "      <button class=\"colab-df-quickchart\" onclick=\"quickchart('df-448a1f4e-3acc-4a3f-b4d4-07739e2d2f19')\"\n",
              "              title=\"Suggest charts.\"\n",
              "              style=\"display:none;\">\n",
              "\n",
              "<svg xmlns=\"http://www.w3.org/2000/svg\" height=\"24px\"viewBox=\"0 0 24 24\"\n",
              "     width=\"24px\">\n",
              "    <g>\n",
              "        <path d=\"M19 3H5c-1.1 0-2 .9-2 2v14c0 1.1.9 2 2 2h14c1.1 0 2-.9 2-2V5c0-1.1-.9-2-2-2zM9 17H7v-7h2v7zm4 0h-2V7h2v10zm4 0h-2v-4h2v4z\"/>\n",
              "    </g>\n",
              "</svg>\n",
              "      </button>\n",
              "    </div>\n",
              "\n",
              "<style>\n",
              "  .colab-df-quickchart {\n",
              "    background-color: #E8F0FE;\n",
              "    border: none;\n",
              "    border-radius: 50%;\n",
              "    cursor: pointer;\n",
              "    display: none;\n",
              "    fill: #1967D2;\n",
              "    height: 32px;\n",
              "    padding: 0 0 0 0;\n",
              "    width: 32px;\n",
              "  }\n",
              "\n",
              "  .colab-df-quickchart:hover {\n",
              "    background-color: #E2EBFA;\n",
              "    box-shadow: 0px 1px 2px rgba(60, 64, 67, 0.3), 0px 1px 3px 1px rgba(60, 64, 67, 0.15);\n",
              "    fill: #174EA6;\n",
              "  }\n",
              "\n",
              "  [theme=dark] .colab-df-quickchart {\n",
              "    background-color: #3B4455;\n",
              "    fill: #D2E3FC;\n",
              "  }\n",
              "\n",
              "  [theme=dark] .colab-df-quickchart:hover {\n",
              "    background-color: #434B5C;\n",
              "    box-shadow: 0px 1px 3px 1px rgba(0, 0, 0, 0.15);\n",
              "    filter: drop-shadow(0px 1px 2px rgba(0, 0, 0, 0.3));\n",
              "    fill: #FFFFFF;\n",
              "  }\n",
              "</style>\n",
              "\n",
              "    <script>\n",
              "      async function quickchart(key) {\n",
              "        const containerElement = document.querySelector('#' + key);\n",
              "        const charts = await google.colab.kernel.invokeFunction(\n",
              "            'suggestCharts', [key], {});\n",
              "      }\n",
              "    </script>\n",
              "\n",
              "      <script>\n",
              "\n",
              "function displayQuickchartButton(domScope) {\n",
              "  let quickchartButtonEl =\n",
              "    domScope.querySelector('#df-448a1f4e-3acc-4a3f-b4d4-07739e2d2f19 button.colab-df-quickchart');\n",
              "  quickchartButtonEl.style.display =\n",
              "    google.colab.kernel.accessAllowed ? 'block' : 'none';\n",
              "}\n",
              "\n",
              "        displayQuickchartButton(document);\n",
              "      </script>\n",
              "      <style>\n",
              "    .colab-df-container {\n",
              "      display:flex;\n",
              "      flex-wrap:wrap;\n",
              "      gap: 12px;\n",
              "    }\n",
              "\n",
              "    .colab-df-convert {\n",
              "      background-color: #E8F0FE;\n",
              "      border: none;\n",
              "      border-radius: 50%;\n",
              "      cursor: pointer;\n",
              "      display: none;\n",
              "      fill: #1967D2;\n",
              "      height: 32px;\n",
              "      padding: 0 0 0 0;\n",
              "      width: 32px;\n",
              "    }\n",
              "\n",
              "    .colab-df-convert:hover {\n",
              "      background-color: #E2EBFA;\n",
              "      box-shadow: 0px 1px 2px rgba(60, 64, 67, 0.3), 0px 1px 3px 1px rgba(60, 64, 67, 0.15);\n",
              "      fill: #174EA6;\n",
              "    }\n",
              "\n",
              "    [theme=dark] .colab-df-convert {\n",
              "      background-color: #3B4455;\n",
              "      fill: #D2E3FC;\n",
              "    }\n",
              "\n",
              "    [theme=dark] .colab-df-convert:hover {\n",
              "      background-color: #434B5C;\n",
              "      box-shadow: 0px 1px 3px 1px rgba(0, 0, 0, 0.15);\n",
              "      filter: drop-shadow(0px 1px 2px rgba(0, 0, 0, 0.3));\n",
              "      fill: #FFFFFF;\n",
              "    }\n",
              "  </style>\n",
              "\n",
              "      <script>\n",
              "        const buttonEl =\n",
              "          document.querySelector('#df-01c32e15-1d21-44d8-894e-8d0bcef579c2 button.colab-df-convert');\n",
              "        buttonEl.style.display =\n",
              "          google.colab.kernel.accessAllowed ? 'block' : 'none';\n",
              "\n",
              "        async function convertToInteractive(key) {\n",
              "          const element = document.querySelector('#df-01c32e15-1d21-44d8-894e-8d0bcef579c2');\n",
              "          const dataTable =\n",
              "            await google.colab.kernel.invokeFunction('convertToInteractive',\n",
              "                                                     [key], {});\n",
              "          if (!dataTable) return;\n",
              "\n",
              "          const docLinkHtml = 'Like what you see? Visit the ' +\n",
              "            '<a target=\"_blank\" href=https://colab.research.google.com/notebooks/data_table.ipynb>data table notebook</a>'\n",
              "            + ' to learn more about interactive tables.';\n",
              "          element.innerHTML = '';\n",
              "          dataTable['output_type'] = 'display_data';\n",
              "          await google.colab.output.renderOutput(dataTable, element);\n",
              "          const docLink = document.createElement('div');\n",
              "          docLink.innerHTML = docLinkHtml;\n",
              "          element.appendChild(docLink);\n",
              "        }\n",
              "      </script>\n",
              "    </div>\n",
              "  </div>\n"
            ]
          },
          "metadata": {},
          "execution_count": 3
        }
      ]
    },
    {
      "cell_type": "code",
      "source": [
        "# Columnas\n",
        "viv.columns"
      ],
      "metadata": {
        "colab": {
          "base_uri": "https://localhost:8080/"
        },
        "id": "doEmXame4jNY",
        "outputId": "ad748347-796b-4980-b2cb-00294244dae2"
      },
      "execution_count": null,
      "outputs": [
        {
          "output_type": "execute_result",
          "data": {
            "text/plain": [
              "Index(['I01', 'I02', 'I03', 'I04', 'I05', 'I09', 'I10', 'URV', 'VTV', 'VAP',\n",
              "       'VCO', 'V01', 'V03', 'V05', 'V02', 'V04', 'V06', 'V07', 'V08', 'V09',\n",
              "       'V10', 'V11', 'V12A', 'V12B', 'V13', 'V14', 'V15', 'V16', 'TOTPER',\n",
              "       'TOTDOR', 'TOTEMI'],\n",
              "      dtype='object')"
            ]
          },
          "metadata": {},
          "execution_count": 27
        }
      ]
    },
    {
      "cell_type": "code",
      "source": [
        "# Creamos un diccionario con el significado de cada columna:\n",
        "cols= {\n",
        "  \"I01\": \"PROVINCIA\",\n",
        "  \"I02\": \"CANTON\",\n",
        "  \"I03\": \"PARROQUIA\",\n",
        "  \"I04\": \"ZONA\",\n",
        "  \"I05\": \"SECTOR\",\n",
        "  \"I09\": \"No. DE VIVIENDA\",\n",
        "  \"I10\": \"No. DE HOGAR\",\n",
        "  \"URV\": \"Area urbana o rural\",\n",
        "  \"VTV\": \"Tipo de vivienda\",\n",
        "  \"VAP\": \"Via de acceso principal a la vivienda\",\n",
        "  \"VCO\": \"Condición de ocupación de la vivienda\",\n",
        "  \"V01\": \"Material predominante del techo o cubierta de la vivienda\",\n",
        "  \"V03\": \"Material predominante de las paredes exteriores de la vivienda\",\n",
        "  \"V05\": \"Material predominante del piso de la vivienda\",\n",
        "  \"V02\": \"Estado del techo de la vivienda\",\n",
        "  \"V04\": \"Estado de las paredes de la vivienda\",\n",
        "  \"V06\": \"Estado del piso de la vivienda\",\n",
        "  \"V07\": \"De donde proviene principalmente el agua que recibe la vivienda\",\n",
        "  \"V08\": \"El agua que recibe la vivienda es\",\n",
        "  \"V09\": \"El servicio higiénico o escusado de la vivienda es\",\n",
        "  \"V10\": \"El servicio de luz (energía) eléctrica de la vivienda proviene principalmente\",\n",
        "  \"V11\": \"Dispone la vivienda de medidor de energía eléctrica\",\n",
        "  \"V12A\": \"Cuantos focos ahorradores tiene su vivienda\",\n",
        "  \"V12B\": \"Cuantos focos convencionales tiene su vivienda\",\n",
        "  \"V13\": \"Principalmente como elimina la basura\",\n",
        "  \"V14\": \"Sin contar la cocina, el baño y cuartos de negocio.Cuantos cuartos tiene la vivienda\",\n",
        "  \"V15\": \"Todas las personas que duermen en esta vivienda, cocinan sus alimentos en forma conjunta y comparten un mismo gasto para la comida\",\n",
        "  \"V16\": \"Cuantos grupos de personas(hogares) duermen en su vivienda y cocinan los alimentos por separado incluya su hogar\",\n",
        "  \"TOTPER\": \"Total de personas de la vivienda\",\n",
        "  \"TOTDOR\": \"Total de dormitorios de la vivienda\",\n",
        "  \"TOTEMI\": \"Total de emigrantes\"\n",
        "}"
      ],
      "metadata": {
        "id": "CU2VUW9w4pGK"
      },
      "execution_count": null,
      "outputs": []
    },
    {
      "cell_type": "markdown",
      "source": [
        "## 2. Exploración inicial"
      ],
      "metadata": {
        "id": "gq6WEgcpnecL"
      }
    },
    {
      "cell_type": "code",
      "source": [
        "# Longitud de la base de datos= Total de viviendas:\n",
        "print(len(viv))"
      ],
      "metadata": {
        "colab": {
          "base_uri": "https://localhost:8080/"
        },
        "id": "35aUF5vmtZ4T",
        "outputId": "e5b627d6-c5ac-422c-91c8-b3896640409b"
      },
      "execution_count": 43,
      "outputs": [
        {
          "output_type": "stream",
          "name": "stdout",
          "text": [
            "155317\n"
          ]
        }
      ]
    },
    {
      "cell_type": "code",
      "source": [
        "# Comprobamos en el PDF que en Loja hay 155308 viviendas. La diferencia se debe a que hay 9 cuestionarios de hogares sin viviendas (código 17).\n",
        "# Tipo de Vivienda\n",
        "viv.VTV.value_counts()"
      ],
      "metadata": {
        "colab": {
          "base_uri": "https://localhost:8080/"
        },
        "id": "ShieU-le4Gxs",
        "outputId": "c7811e75-2428-4f5c-8eb6-3047dbd0640c"
      },
      "execution_count": 44,
      "outputs": [
        {
          "output_type": "execute_result",
          "data": {
            "text/plain": [
              "1     121940\n",
              "2      12593\n",
              "4       8056\n",
              "3       7428\n",
              "6       1680\n",
              "5       1393\n",
              "7       1351\n",
              "8        605\n",
              "9         75\n",
              "10        59\n",
              "14        54\n",
              "13        25\n",
              "16        24\n",
              "11         9\n",
              "17         9\n",
              "15         9\n",
              "12         7\n",
              "Name: VTV, dtype: int64"
            ]
          },
          "metadata": {},
          "execution_count": 44
        }
      ]
    },
    {
      "cell_type": "code",
      "source": [
        "# Creamos gráfico similar al del PDF (página 7: ¿qué tipo de vivienda tenemos?)\n",
        "sns.histplot(data=viv,x=\"VTV\",stat=\"percent\")"
      ],
      "metadata": {
        "colab": {
          "base_uri": "https://localhost:8080/",
          "height": 466
        },
        "id": "dKaR0u5wyzE6",
        "outputId": "eb4279c0-cd3d-425b-f320-a32a81646ce6"
      },
      "execution_count": 45,
      "outputs": [
        {
          "output_type": "execute_result",
          "data": {
            "text/plain": [
              "<Axes: xlabel='VTV', ylabel='Percent'>"
            ]
          },
          "metadata": {},
          "execution_count": 45
        },
        {
          "output_type": "display_data",
          "data": {
            "text/plain": [
              "<Figure size 640x480 with 1 Axes>"
            ],
            "image/png": "[encoded data removed]"
          },
          "metadata": {}
        }
      ]
    },
    {
      "cell_type": "code",
      "source": [
        "# Procesamos los datos para mejorar el gráfico\n",
        "viv['tipov']=\"\" # Añadimos una nueva columna y en las líneas de código siguientes le damos contenido según los códigos de la columna VTV\n",
        "viv.loc[viv.VTV==1,'tipov']=\"Casa/Villa\"\n",
        "viv.loc[viv.VTV==2,'tipov']=\"Departamento\"\n",
        "viv.loc[viv.VTV==3,'tipov']=\"Cuarto\"\n",
        "viv.loc[viv.VTV==4,'tipov']=\"Mediagua\"\n",
        "viv.loc[viv.VTV==5,'tipov']=\"Rancho\"\n",
        "viv.loc[(viv.VTV==6) | (viv.VTV==7),'tipov']=\"Covacha/Choza\"\n",
        "viv.loc[(viv.VTV==8),'tipov']=\"Otro\"\n",
        "\n",
        "vivpar=viv.loc[viv.VTV<=8].copy() # hacemos un filtro seleccionando solo viviendas particulares\n",
        "vivpar=vivpar.sort_values(\"VTV\") # Ordenamos la tabla por la variable VTV\n",
        "\n",
        "# Creamos un gráfico\n",
        "fig,ax=plt.subplots()  # Aquí se indica que queremos crear una figura (fig) que contiene un gráfico (ax)\n",
        "sns.histplot(data=vivpar,x=\"tipov\",stat=\"percent\",ax=ax)  # Se indica que queremos representar un histograma, que muestre los porcentajes\n",
        "ax.tick_params(axis='x', rotation=90) # Etiquetas del eje x giradas 90 grados para visualizarse mejor.\n",
        "ax.set_ylabel(\"Porcentaje\") # Título del eje y, donde se indica la unidad de medida\n",
        "ax.set_xlabel(\"\")  # No queremos título en el eje x, porque se sobre entiende.\n",
        "ax.set_title(\"¿QUÉ TIPO DE VIVIENDA TENEMOS?\")  # Título de la figura\n",
        "plt.show() # Comando para que se dibuje el gráfico."
      ],
      "metadata": {
        "colab": {
          "base_uri": "https://localhost:8080/",
          "height": 548
        },
        "id": "CgghpHthzBmh",
        "outputId": "e235e1dd-da59-43c6-9b2a-dc1dcb6828b2"
      },
      "execution_count": 47,
      "outputs": [
        {
          "output_type": "display_data",
          "data": {
            "text/plain": [
              "<Figure size 640x480 with 1 Axes>"
            ],
            "image/png": "[encoded data removed]"
          },
          "metadata": {}
        }
      ]
    },
    {
      "cell_type": "markdown",
      "source": [
        "## 3. Estadística descriptiva"
      ],
      "metadata": {
        "id": "hXkT_j_VnlrZ"
      }
    },
    {
      "cell_type": "markdown",
      "source": [
        "1. Distribución de frecuencias.  \n",
        "  El gráfico anterior es un ejemplo de distribución de frecuencias, un histograma. Nos muestra como se dividen las observaciones (viviendas) por los valores o categorías de las variables.\n",
        "  <br />  \n",
        "Volvemos a crear un histograma, esta vez con la variable total de personas. Usamos la tabla ```vivpar``` y volvemos a hacer un filtro para quedarmos con aquellas viviendas particulares ocupadas con personas viviendo."
      ],
      "metadata": {
        "id": "Fe5fTKeaskEJ"
      }
    },
    {
      "cell_type": "code",
      "source": [
        "vpo=vivpar.loc[vivpar.VCO==\"1\"].copy()"
      ],
      "metadata": {
        "id": "aV3vF6bKxWmq"
      },
      "execution_count": 40,
      "outputs": []
    },
    {
      "cell_type": "code",
      "source": [
        "sns.histplot(data=vpo,x=\"TOTPER\", bins=22)\n"
      ],
      "metadata": {
        "id": "IO-VMc5eyKsB",
        "outputId": "f5de8c1f-c668-4492-be8f-140c84a3825d",
        "colab": {
          "base_uri": "https://localhost:8080/",
          "height": 466
        }
      },
      "execution_count": 71,
      "outputs": [
        {
          "output_type": "execute_result",
          "data": {
            "text/plain": [
              "<Axes: xlabel='TOTPER', ylabel='Count'>"
            ]
          },
          "metadata": {},
          "execution_count": 71
        },
        {
          "output_type": "display_data",
          "data": {
            "text/plain": [
              "<Figure size 640x480 with 1 Axes>"
            ],
            "image/png": "[encoded data removed]"
          },
          "metadata": {}
        }
      ]
    },
    {
      "cell_type": "markdown",
      "source": [
        "2. Medidas de tendencia central.  \n",
        "- La *moda* es el valor o categoría que más se repite.   \n",
        "- La *mediana* es el valor central de la distribución, que la divide en dos partes iguales.  \n",
        "- La *media* es el promedio.\n",
        "  <br />  \n",
        "  Vamos a analizar las medidas de tendencia central de la variable total de personas que residen en viviendas particulares."
      ],
      "metadata": {
        "id": "9fTO_O6gtA7X"
      }
    },
    {
      "cell_type": "code",
      "source": [
        "vpo.TOTPER.mode() # Moda"
      ],
      "metadata": {
        "colab": {
          "base_uri": "https://localhost:8080/"
        },
        "id": "uFQuoHBMzfCa",
        "outputId": "6a037363-a797-4a3a-d2cb-f0dc0929270d"
      },
      "execution_count": 74,
      "outputs": [
        {
          "output_type": "execute_result",
          "data": {
            "text/plain": [
              "0    4\n",
              "Name: TOTPER, dtype: int64"
            ]
          },
          "metadata": {},
          "execution_count": 74
        }
      ]
    },
    {
      "cell_type": "code",
      "source": [
        "vpo.TOTPER.median() # Mediana"
      ],
      "metadata": {
        "id": "uv3DSmzY0UWa",
        "outputId": "6ece1a63-b259-44c9-f465-7244673dbdc9",
        "colab": {
          "base_uri": "https://localhost:8080/"
        }
      },
      "execution_count": 76,
      "outputs": [
        {
          "output_type": "execute_result",
          "data": {
            "text/plain": [
              "4.0"
            ]
          },
          "metadata": {},
          "execution_count": 76
        }
      ]
    },
    {
      "cell_type": "code",
      "source": [
        "vpo.TOTPER.mean() # Media"
      ],
      "metadata": {
        "id": "NgXYWyz51Kh6",
        "outputId": "edb5ab31-cb31-4479-89fa-c47dfaeb3a5c",
        "colab": {
          "base_uri": "https://localhost:8080/"
        }
      },
      "execution_count": 77,
      "outputs": [
        {
          "output_type": "execute_result",
          "data": {
            "text/plain": [
              "3.907367995215816"
            ]
          },
          "metadata": {},
          "execution_count": 77
        }
      ]
    },
    {
      "cell_type": "markdown",
      "source": [
        "3. Medidas de dispersión o variabilidad:\n",
        "- Rango: valor máximo - valor mínimo.\n",
        "- Varianza: promedio de las desviaciones cuadráticas respecto a la media.\n",
        "- Desviación estándar: raíz cuadrada de la varianza. La desviación estándar es una medida interesante porque en una [distribución normal](https://upload.wikimedia.org/wikipedia/commons/thumb/3/3a/Standard_deviation_diagram_micro.svg/1920px-Standard_deviation_diagram_micro.svg.png), el 64,2% de la distribución se encuentra en torno a 1 desviación estandar de la media."
      ],
      "metadata": {
        "id": "O_sOIMA51yK7"
      }
    },
    {
      "cell_type": "code",
      "source": [
        "print(\"El rango del número de personas ocupando una vivienda es: \",\n",
        "      vpo.TOTPER.max()-vpo.TOTPER.min())"
      ],
      "metadata": {
        "id": "T4rYOVlh13Ud"
      },
      "execution_count": null,
      "outputs": []
    },
    {
      "cell_type": "code",
      "source": [
        "print(\"La varianza del número de personas ocupando una vivienda es: \",\n",
        "      vpo.TOTPER.var())"
      ],
      "metadata": {
        "id": "TPKBglOZ3S6m",
        "outputId": "fc9c2ef2-01f6-4c92-c377-d37fc7e7ec1f",
        "colab": {
          "base_uri": "https://localhost:8080/"
        }
      },
      "execution_count": 83,
      "outputs": [
        {
          "output_type": "stream",
          "name": "stdout",
          "text": [
            "La varianza del número de personas ocupando una vivienda es:  4.510358263727019\n"
          ]
        }
      ]
    },
    {
      "cell_type": "code",
      "source": [
        "print(\"La desviación estándar del número de personas ocupando una vivienda es: \",\n",
        "      vpo.TOTPER.std())"
      ],
      "metadata": {
        "id": "R1gBm_Ox3ful",
        "outputId": "f7706805-03d4-42fb-c22a-b171f8b23f18",
        "colab": {
          "base_uri": "https://localhost:8080/"
        }
      },
      "execution_count": 84,
      "outputs": [
        {
          "output_type": "stream",
          "name": "stdout",
          "text": [
            "La desviación estándar del número de personas ocupando una vivienda es:  2.1237604063846325\n"
          ]
        }
      ]
    },
    {
      "cell_type": "markdown",
      "source": [
        "4. Otras medidas de estadística descriptiva:\n",
        "- Asimetría: en qué medida la distribución objeto de estudio se parece a una normal.\n",
        "-Curtosis: elevación o achatamiento de la distribución, comparada con una normal.\n",
        "-\n"
      ],
      "metadata": {
        "id": "qrkBAhzs37Fe"
      }
    },
    {
      "cell_type": "code",
      "source": [
        "# Asimetría\n",
        "vpo.TOTPER.skew() # Valor > 0: la cola de la distribución de la derecha es mayor que la de la izquierda (valor <0 sería lo contrario)."
      ],
      "metadata": {
        "id": "XkYdLve_3o8d",
        "outputId": "2d89e1e8-a109-4d24-bacd-1decd5b44f57",
        "colab": {
          "base_uri": "https://localhost:8080/"
        }
      },
      "execution_count": 86,
      "outputs": [
        {
          "output_type": "execute_result",
          "data": {
            "text/plain": [
              "0.874998344220847"
            ]
          },
          "metadata": {},
          "execution_count": 86
        }
      ]
    },
    {
      "cell_type": "code",
      "source": [
        "# Curtosis:\n",
        "vpo.TOTPER.kurt() # Si x > 0: curtosis alta; si ~0 normal, si <0: baja. En este caso, tenemos un nivel bajo."
      ],
      "metadata": {
        "id": "lucei3k46NJe",
        "outputId": "283aa367-5248-4ff7-87bd-776eb15fb273",
        "colab": {
          "base_uri": "https://localhost:8080/"
        }
      },
      "execution_count": 88,
      "outputs": [
        {
          "output_type": "execute_result",
          "data": {
            "text/plain": [
              "1.3308714180121486"
            ]
          },
          "metadata": {},
          "execution_count": 88
        }
      ]
    },
    {
      "cell_type": "code",
      "source": [],
      "metadata": {
        "id": "3G2VSI-g7PZd"
      },
      "execution_count": null,
      "outputs": []
    }
  ]
}