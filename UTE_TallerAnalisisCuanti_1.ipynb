{
  "nbformat": 4,
  "nbformat_minor": 0,
  "metadata": {
    "colab": {
      "provenance": [],
      "authorship_tag": "ABX9TyMhIDRjZfg1vQB075fE6eix",
      "include_colab_link": true
    },
    "kernelspec": {
      "name": "python3",
      "display_name": "Python 3"
    },
    "language_info": {
      "name": "python"
    }
  },
  "cells": [
    {
      "cell_type": "markdown",
      "metadata": {
        "id": "view-in-github",
        "colab_type": "text"
      },
      "source": [
        "<a href=\"https://colab.research.google.com/github/otoperalias/teaching/blob/TallerUTE_AnalisisCuanti/UTE_TallerAnalisisCuanti_1.ipynb\" target=\"_parent\"><img src=\"https://colab.research.google.com/assets/colab-badge.svg\" alt=\"Open In Colab\"/></a>"
      ]
    },
    {
      "cell_type": "markdown",
      "source": [
        "<img src=\"https://github.com/otoperalias/teaching/blob/TallerUTE_AnalisisCuanti/material/6.%20M%C3%89TODOS%20CUANTITATIVOS%20WORKSHOP%20(1).jpg?raw=true\" alt=\"drawing\" width=\"900\"/>\n",
        "\n"
      ],
      "metadata": {
        "id": "m8l8hADy_TjZ"
      }
    },
    {
      "cell_type": "markdown",
      "source": [
        "## Taller de Análisis de Datos Cuantitativos\n",
        "\n",
        "### Maestría en Urbanismo (UTE, Ecuador).\n",
        "\n",
        "Instructor: [Daniel Oto-Peralías](https://otoperalias.github.io/)\n",
        "_________________________"
      ],
      "metadata": {
        "id": "lByeC5V4GRSE"
      }
    },
    {
      "cell_type": "markdown",
      "source": [
        "El objetivo del taller es aprender a explotar una encuesta a través de programas estadísticos de análisis cuantitativos.\n",
        "\n",
        "Usaremos el [Censo de Población y Vivienda de Ecuador (2010)](https://www.ecuadorencifras.gob.ec/censo-de-poblacion-y-vivienda/) para analizar las características de las viviendas de la provincia de Loja.\n",
        "\n",
        "**Vamos a necesitar el siguiente material:**\n",
        "1. Los [datos del censo](https://www.ecuadorencifras.gob.ec/base-de-datos-censo-de-poblacion-y-vivienda/): hacemos clic en *A NIVEL DE SECTOR/– Censo Población y Vivienda 2010* y luego seleccionamos *Loja*.\n",
        "2. El [cuestionario del censo](https://www.ecuadorencifras.gob.ec//wp-content/descargas/Poblacion_y_demo/Cuestionario_censal/cuestionario_censal.pdf), donde podemos ver el significado de los códigos numéricos que aparecen en los datos.\n",
        "3. El diccionario de datos del censo, para saber el significado de cada variable. Se puede obtener a través de [este enlace](https://aplicaciones3.ecuadorencifras.gob.ec/BIINEC-war/index.xhtml?oe=CENSOS%20DE%20POBLACI%D3N%20Y%20VIVIENDA%20NACIONAL&a=2010&m=DECENAL&t=Datos%20Abiertos%20CSV), clicando en *Datos Abiertos CSV*, pero para evitaros tener que descargar dicho archivo tan pesado (~1GB), lo proporciono en [este enlace](https://github.com/otoperalias/teaching/raw/TallerUTE_AnalisisCuanti/material/Diccionario%20de%20Datos%20CPV2010.xls).\n",
        "4. Además, es útil tener a mano esta publicación con una descripción de los resultados para la provincia de Loja. Disponible [aquí](https://www.ecuadorencifras.gob.ec/censo-de-poblacion-y-vivienda/), clicando en *Resultados provinciales/ Loja*."
      ],
      "metadata": {
        "id": "9QJVM6_S_zYR"
      }
    },
    {
      "cell_type": "markdown",
      "source": [
        "### Sobre el programa informático\n",
        "\n",
        "* En este taller usamos **Google Colab**, que es un *notebook* desde el que podemos ejecutar muchas librerías de **Python**.\n",
        "* La librería principal que vamos a usar es **Pandas**, una \"paquete\" especialiado en el procesamiento y análisis de datos cuantitativos.\n",
        "* La gran ventaja de Python-Pandas frente a otras alternativas (SPSS/Stata/etc.) es su carácter gratuito y la gran cantidad de recusos de ayuda que existe en Internet, debido a su enorme comunidad de usuarios."
      ],
      "metadata": {
        "id": "MH3tT32NHU5I"
      }
    },
    {
      "cell_type": "markdown",
      "source": [
        "## 1. Importamos las librerías que vamos a utilizar"
      ],
      "metadata": {
        "id": "Ug_RPmKzJnC8"
      }
    },
    {
      "cell_type": "code",
      "execution_count": 1,
      "metadata": {
        "id": "Y8_GMaPLouFM"
      },
      "outputs": [],
      "source": [
        "import pandas as pd\n",
        "import matplotlib.pyplot as plt\n",
        "import seaborn as sns"
      ]
    },
    {
      "cell_type": "markdown",
      "source": [
        "## 2. Importamos los datos\n"
      ],
      "metadata": {
        "id": "fehhNZfQJ2hs"
      }
    },
    {
      "cell_type": "markdown",
      "source": [
        "Para ello, en primer lugar, tenemos que descargar los datos en nuestro ordenador y subirlos a Google Colab:\n",
        "1. Clicamos en el icono de carpeta que hay en la parte superior de la barra de la izquierda (📁) y entonces clicamos en el primer icono de upload.\n",
        "2. Se abre una ventana para seleccionar el archivo que queremos subir, y seleccionamos la carpeta comprimida \"Loja_CSV_Vivienda\".  "
      ],
      "metadata": {
        "id": "rnYzfsQZJ75j"
      }
    },
    {
      "cell_type": "markdown",
      "source": [
        "Una vez que lo tenemos subido y que aparece como tal (\"Loja_CSV_Vivienda.zip\") en la barra izquierda, podemos importarlo:"
      ],
      "metadata": {
        "id": "5oykwNuTLU-Z"
      }
    },
    {
      "cell_type": "code",
      "source": [
        "viv=pd.read_csv(\"Loja_CSV_Vivienda.zip\",compression='zip')"
      ],
      "metadata": {
        "id": "L-igsBqArNpN"
      },
      "execution_count": 2,
      "outputs": []
    },
    {
      "cell_type": "markdown",
      "source": [
        "Para visualizar la tabla, escribimos el nombre que le hemos dado"
      ],
      "metadata": {
        "id": "DgKtdN2CLa0K"
      }
    },
    {
      "cell_type": "code",
      "source": [
        "viv"
      ],
      "metadata": {
        "colab": {
          "base_uri": "https://localhost:8080/",
          "height": 423
        },
        "id": "SQI1CN6Jr5W-",
        "outputId": "5c9dadaf-0299-4d14-fc0d-fac0b0f66ede"
      },
      "execution_count": null,
      "outputs": [
        {
          "output_type": "execute_result",
          "data": {
            "text/plain": [
              "        I01  I02  I03  I04  I05  I09  I10  URV  VTV VAP  ... V11 V12A V12B  \\\n",
              "0        11    1   50    1    1    1    1    1    1   3  ...   1   05   00   \n",
              "1        11    1   50    1    1    2    1    1    4   3  ...   1   00   03   \n",
              "2        11    1   50    1    1    3    1    1    6   3  ...                 \n",
              "3        11    1   50    1    1    4    1    1    1   3  ...   1   02   08   \n",
              "4        11    1   50    1    1    5    1    1    4   3  ...                 \n",
              "...     ...  ...  ...  ...  ...  ...  ...  ...  ...  ..  ...  ..  ...  ...   \n",
              "155312   11   16   51  999    5   68    1    2    1   4  ...   1   05   00   \n",
              "155313   11   16   51  999    5   69    1    2    1   4  ...   1   00   05   \n",
              "155314   11   16   51  999    5   70    1    2    1   4  ...   1   00   03   \n",
              "155315   11   16   51  999    5   71    1    2    1   4  ...   1   00   04   \n",
              "155316   11   16   51  999    5   72    1    2    1   4  ...   1   00   06   \n",
              "\n",
              "       V13 V14 V15 V16 TOTPER TOTDOR TOTEMI  \n",
              "0        1   3   1   1      4      1         \n",
              "1        1   1   1   1      4      1         \n",
              "2                           0                \n",
              "3        1   3   1   1      5      2         \n",
              "4                           0                \n",
              "...     ..  ..  ..  ..    ...    ...    ...  \n",
              "155312   2   3   1   1      2      2         \n",
              "155313   2   3   1   1      1      2         \n",
              "155314   2   2   1   1      1      1         \n",
              "155315   2   2   1   1      1      2         \n",
              "155316   2   2   1   1      7      2         \n",
              "\n",
              "[155317 rows x 31 columns]"
            ],
            "text/html": [
              "\n",
              "\n",
              "  <div id=\"df-4c5d1c50-2a6a-467b-b108-89678d50f04f\">\n",
              "    <div class=\"colab-df-container\">\n",
              "      <div>\n",
              "<style scoped>\n",
              "    .dataframe tbody tr th:only-of-type {\n",
              "        vertical-align: middle;\n",
              "    }\n",
              "\n",
              "    .dataframe tbody tr th {\n",
              "        vertical-align: top;\n",
              "    }\n",
              "\n",
              "    .dataframe thead th {\n",
              "        text-align: right;\n",
              "    }\n",
              "</style>\n",
              "<table border=\"1\" class=\"dataframe\">\n",
              "  <thead>\n",
              "    <tr style=\"text-align: right;\">\n",
              "      <th></th>\n",
              "      <th>I01</th>\n",
              "      <th>I02</th>\n",
              "      <th>I03</th>\n",
              "      <th>I04</th>\n",
              "      <th>I05</th>\n",
              "      <th>I09</th>\n",
              "      <th>I10</th>\n",
              "      <th>URV</th>\n",
              "      <th>VTV</th>\n",
              "      <th>VAP</th>\n",
              "      <th>...</th>\n",
              "      <th>V11</th>\n",
              "      <th>V12A</th>\n",
              "      <th>V12B</th>\n",
              "      <th>V13</th>\n",
              "      <th>V14</th>\n",
              "      <th>V15</th>\n",
              "      <th>V16</th>\n",
              "      <th>TOTPER</th>\n",
              "      <th>TOTDOR</th>\n",
              "      <th>TOTEMI</th>\n",
              "    </tr>\n",
              "  </thead>\n",
              "  <tbody>\n",
              "    <tr>\n",
              "      <th>0</th>\n",
              "      <td>11</td>\n",
              "      <td>1</td>\n",
              "      <td>50</td>\n",
              "      <td>1</td>\n",
              "      <td>1</td>\n",
              "      <td>1</td>\n",
              "      <td>1</td>\n",
              "      <td>1</td>\n",
              "      <td>1</td>\n",
              "      <td>3</td>\n",
              "      <td>...</td>\n",
              "      <td>1</td>\n",
              "      <td>05</td>\n",
              "      <td>00</td>\n",
              "      <td>1</td>\n",
              "      <td>3</td>\n",
              "      <td>1</td>\n",
              "      <td>1</td>\n",
              "      <td>4</td>\n",
              "      <td>1</td>\n",
              "      <td></td>\n",
              "    </tr>\n",
              "    <tr>\n",
              "      <th>1</th>\n",
              "      <td>11</td>\n",
              "      <td>1</td>\n",
              "      <td>50</td>\n",
              "      <td>1</td>\n",
              "      <td>1</td>\n",
              "      <td>2</td>\n",
              "      <td>1</td>\n",
              "      <td>1</td>\n",
              "      <td>4</td>\n",
              "      <td>3</td>\n",
              "      <td>...</td>\n",
              "      <td>1</td>\n",
              "      <td>00</td>\n",
              "      <td>03</td>\n",
              "      <td>1</td>\n",
              "      <td>1</td>\n",
              "      <td>1</td>\n",
              "      <td>1</td>\n",
              "      <td>4</td>\n",
              "      <td>1</td>\n",
              "      <td></td>\n",
              "    </tr>\n",
              "    <tr>\n",
              "      <th>2</th>\n",
              "      <td>11</td>\n",
              "      <td>1</td>\n",
              "      <td>50</td>\n",
              "      <td>1</td>\n",
              "      <td>1</td>\n",
              "      <td>3</td>\n",
              "      <td>1</td>\n",
              "      <td>1</td>\n",
              "      <td>6</td>\n",
              "      <td>3</td>\n",
              "      <td>...</td>\n",
              "      <td></td>\n",
              "      <td></td>\n",
              "      <td></td>\n",
              "      <td></td>\n",
              "      <td></td>\n",
              "      <td></td>\n",
              "      <td></td>\n",
              "      <td>0</td>\n",
              "      <td></td>\n",
              "      <td></td>\n",
              "    </tr>\n",
              "    <tr>\n",
              "      <th>3</th>\n",
              "      <td>11</td>\n",
              "      <td>1</td>\n",
              "      <td>50</td>\n",
              "      <td>1</td>\n",
              "      <td>1</td>\n",
              "      <td>4</td>\n",
              "      <td>1</td>\n",
              "      <td>1</td>\n",
              "      <td>1</td>\n",
              "      <td>3</td>\n",
              "      <td>...</td>\n",
              "      <td>1</td>\n",
              "      <td>02</td>\n",
              "      <td>08</td>\n",
              "      <td>1</td>\n",
              "      <td>3</td>\n",
              "      <td>1</td>\n",
              "      <td>1</td>\n",
              "      <td>5</td>\n",
              "      <td>2</td>\n",
              "      <td></td>\n",
              "    </tr>\n",
              "    <tr>\n",
              "      <th>4</th>\n",
              "      <td>11</td>\n",
              "      <td>1</td>\n",
              "      <td>50</td>\n",
              "      <td>1</td>\n",
              "      <td>1</td>\n",
              "      <td>5</td>\n",
              "      <td>1</td>\n",
              "      <td>1</td>\n",
              "      <td>4</td>\n",
              "      <td>3</td>\n",
              "      <td>...</td>\n",
              "      <td></td>\n",
              "      <td></td>\n",
              "      <td></td>\n",
              "      <td></td>\n",
              "      <td></td>\n",
              "      <td></td>\n",
              "      <td></td>\n",
              "      <td>0</td>\n",
              "      <td></td>\n",
              "      <td></td>\n",
              "    </tr>\n",
              "    <tr>\n",
              "      <th>...</th>\n",
              "      <td>...</td>\n",
              "      <td>...</td>\n",
              "      <td>...</td>\n",
              "      <td>...</td>\n",
              "      <td>...</td>\n",
              "      <td>...</td>\n",
              "      <td>...</td>\n",
              "      <td>...</td>\n",
              "      <td>...</td>\n",
              "      <td>...</td>\n",
              "      <td>...</td>\n",
              "      <td>...</td>\n",
              "      <td>...</td>\n",
              "      <td>...</td>\n",
              "      <td>...</td>\n",
              "      <td>...</td>\n",
              "      <td>...</td>\n",
              "      <td>...</td>\n",
              "      <td>...</td>\n",
              "      <td>...</td>\n",
              "      <td>...</td>\n",
              "    </tr>\n",
              "    <tr>\n",
              "      <th>155312</th>\n",
              "      <td>11</td>\n",
              "      <td>16</td>\n",
              "      <td>51</td>\n",
              "      <td>999</td>\n",
              "      <td>5</td>\n",
              "      <td>68</td>\n",
              "      <td>1</td>\n",
              "      <td>2</td>\n",
              "      <td>1</td>\n",
              "      <td>4</td>\n",
              "      <td>...</td>\n",
              "      <td>1</td>\n",
              "      <td>05</td>\n",
              "      <td>00</td>\n",
              "      <td>2</td>\n",
              "      <td>3</td>\n",
              "      <td>1</td>\n",
              "      <td>1</td>\n",
              "      <td>2</td>\n",
              "      <td>2</td>\n",
              "      <td></td>\n",
              "    </tr>\n",
              "    <tr>\n",
              "      <th>155313</th>\n",
              "      <td>11</td>\n",
              "      <td>16</td>\n",
              "      <td>51</td>\n",
              "      <td>999</td>\n",
              "      <td>5</td>\n",
              "      <td>69</td>\n",
              "      <td>1</td>\n",
              "      <td>2</td>\n",
              "      <td>1</td>\n",
              "      <td>4</td>\n",
              "      <td>...</td>\n",
              "      <td>1</td>\n",
              "      <td>00</td>\n",
              "      <td>05</td>\n",
              "      <td>2</td>\n",
              "      <td>3</td>\n",
              "      <td>1</td>\n",
              "      <td>1</td>\n",
              "      <td>1</td>\n",
              "      <td>2</td>\n",
              "      <td></td>\n",
              "    </tr>\n",
              "    <tr>\n",
              "      <th>155314</th>\n",
              "      <td>11</td>\n",
              "      <td>16</td>\n",
              "      <td>51</td>\n",
              "      <td>999</td>\n",
              "      <td>5</td>\n",
              "      <td>70</td>\n",
              "      <td>1</td>\n",
              "      <td>2</td>\n",
              "      <td>1</td>\n",
              "      <td>4</td>\n",
              "      <td>...</td>\n",
              "      <td>1</td>\n",
              "      <td>00</td>\n",
              "      <td>03</td>\n",
              "      <td>2</td>\n",
              "      <td>2</td>\n",
              "      <td>1</td>\n",
              "      <td>1</td>\n",
              "      <td>1</td>\n",
              "      <td>1</td>\n",
              "      <td></td>\n",
              "    </tr>\n",
              "    <tr>\n",
              "      <th>155315</th>\n",
              "      <td>11</td>\n",
              "      <td>16</td>\n",
              "      <td>51</td>\n",
              "      <td>999</td>\n",
              "      <td>5</td>\n",
              "      <td>71</td>\n",
              "      <td>1</td>\n",
              "      <td>2</td>\n",
              "      <td>1</td>\n",
              "      <td>4</td>\n",
              "      <td>...</td>\n",
              "      <td>1</td>\n",
              "      <td>00</td>\n",
              "      <td>04</td>\n",
              "      <td>2</td>\n",
              "      <td>2</td>\n",
              "      <td>1</td>\n",
              "      <td>1</td>\n",
              "      <td>1</td>\n",
              "      <td>2</td>\n",
              "      <td></td>\n",
              "    </tr>\n",
              "    <tr>\n",
              "      <th>155316</th>\n",
              "      <td>11</td>\n",
              "      <td>16</td>\n",
              "      <td>51</td>\n",
              "      <td>999</td>\n",
              "      <td>5</td>\n",
              "      <td>72</td>\n",
              "      <td>1</td>\n",
              "      <td>2</td>\n",
              "      <td>1</td>\n",
              "      <td>4</td>\n",
              "      <td>...</td>\n",
              "      <td>1</td>\n",
              "      <td>00</td>\n",
              "      <td>06</td>\n",
              "      <td>2</td>\n",
              "      <td>2</td>\n",
              "      <td>1</td>\n",
              "      <td>1</td>\n",
              "      <td>7</td>\n",
              "      <td>2</td>\n",
              "      <td></td>\n",
              "    </tr>\n",
              "  </tbody>\n",
              "</table>\n",
              "<p>155317 rows × 31 columns</p>\n",
              "</div>\n",
              "      <button class=\"colab-df-convert\" onclick=\"convertToInteractive('df-4c5d1c50-2a6a-467b-b108-89678d50f04f')\"\n",
              "              title=\"Convert this dataframe to an interactive table.\"\n",
              "              style=\"display:none;\">\n",
              "\n",
              "  <svg xmlns=\"http://www.w3.org/2000/svg\" height=\"24px\"viewBox=\"0 0 24 24\"\n",
              "       width=\"24px\">\n",
              "    <path d=\"M0 0h24v24H0V0z\" fill=\"none\"/>\n",
              "    <path d=\"M18.56 5.44l.94 2.06.94-2.06 2.06-.94-2.06-.94-.94-2.06-.94 2.06-2.06.94zm-11 1L8.5 8.5l.94-2.06 2.06-.94-2.06-.94L8.5 2.5l-.94 2.06-2.06.94zm10 10l.94 2.06.94-2.06 2.06-.94-2.06-.94-.94-2.06-.94 2.06-2.06.94z\"/><path d=\"M17.41 7.96l-1.37-1.37c-.4-.4-.92-.59-1.43-.59-.52 0-1.04.2-1.43.59L10.3 9.45l-7.72 7.72c-.78.78-.78 2.05 0 2.83L4 21.41c.39.39.9.59 1.41.59.51 0 1.02-.2 1.41-.59l7.78-7.78 2.81-2.81c.8-.78.8-2.07 0-2.86zM5.41 20L4 18.59l7.72-7.72 1.47 1.35L5.41 20z\"/>\n",
              "  </svg>\n",
              "      </button>\n",
              "\n",
              "\n",
              "\n",
              "    <div id=\"df-56960062-aa20-45d5-a8f4-a642a5f712ca\">\n",
              "      <button class=\"colab-df-quickchart\" onclick=\"quickchart('df-56960062-aa20-45d5-a8f4-a642a5f712ca')\"\n",
              "              title=\"Suggest charts.\"\n",
              "              style=\"display:none;\">\n",
              "\n",
              "<svg xmlns=\"http://www.w3.org/2000/svg\" height=\"24px\"viewBox=\"0 0 24 24\"\n",
              "     width=\"24px\">\n",
              "    <g>\n",
              "        <path d=\"M19 3H5c-1.1 0-2 .9-2 2v14c0 1.1.9 2 2 2h14c1.1 0 2-.9 2-2V5c0-1.1-.9-2-2-2zM9 17H7v-7h2v7zm4 0h-2V7h2v10zm4 0h-2v-4h2v4z\"/>\n",
              "    </g>\n",
              "</svg>\n",
              "      </button>\n",
              "    </div>\n",
              "\n",
              "<style>\n",
              "  .colab-df-quickchart {\n",
              "    background-color: #E8F0FE;\n",
              "    border: none;\n",
              "    border-radius: 50%;\n",
              "    cursor: pointer;\n",
              "    display: none;\n",
              "    fill: #1967D2;\n",
              "    height: 32px;\n",
              "    padding: 0 0 0 0;\n",
              "    width: 32px;\n",
              "  }\n",
              "\n",
              "  .colab-df-quickchart:hover {\n",
              "    background-color: #E2EBFA;\n",
              "    box-shadow: 0px 1px 2px rgba(60, 64, 67, 0.3), 0px 1px 3px 1px rgba(60, 64, 67, 0.15);\n",
              "    fill: #174EA6;\n",
              "  }\n",
              "\n",
              "  [theme=dark] .colab-df-quickchart {\n",
              "    background-color: #3B4455;\n",
              "    fill: #D2E3FC;\n",
              "  }\n",
              "\n",
              "  [theme=dark] .colab-df-quickchart:hover {\n",
              "    background-color: #434B5C;\n",
              "    box-shadow: 0px 1px 3px 1px rgba(0, 0, 0, 0.15);\n",
              "    filter: drop-shadow(0px 1px 2px rgba(0, 0, 0, 0.3));\n",
              "    fill: #FFFFFF;\n",
              "  }\n",
              "</style>\n",
              "\n",
              "    <script>\n",
              "      async function quickchart(key) {\n",
              "        const containerElement = document.querySelector('#' + key);\n",
              "        const charts = await google.colab.kernel.invokeFunction(\n",
              "            'suggestCharts', [key], {});\n",
              "      }\n",
              "    </script>\n",
              "\n",
              "      <script>\n",
              "\n",
              "function displayQuickchartButton(domScope) {\n",
              "  let quickchartButtonEl =\n",
              "    domScope.querySelector('#df-56960062-aa20-45d5-a8f4-a642a5f712ca button.colab-df-quickchart');\n",
              "  quickchartButtonEl.style.display =\n",
              "    google.colab.kernel.accessAllowed ? 'block' : 'none';\n",
              "}\n",
              "\n",
              "        displayQuickchartButton(document);\n",
              "      </script>\n",
              "      <style>\n",
              "    .colab-df-container {\n",
              "      display:flex;\n",
              "      flex-wrap:wrap;\n",
              "      gap: 12px;\n",
              "    }\n",
              "\n",
              "    .colab-df-convert {\n",
              "      background-color: #E8F0FE;\n",
              "      border: none;\n",
              "      border-radius: 50%;\n",
              "      cursor: pointer;\n",
              "      display: none;\n",
              "      fill: #1967D2;\n",
              "      height: 32px;\n",
              "      padding: 0 0 0 0;\n",
              "      width: 32px;\n",
              "    }\n",
              "\n",
              "    .colab-df-convert:hover {\n",
              "      background-color: #E2EBFA;\n",
              "      box-shadow: 0px 1px 2px rgba(60, 64, 67, 0.3), 0px 1px 3px 1px rgba(60, 64, 67, 0.15);\n",
              "      fill: #174EA6;\n",
              "    }\n",
              "\n",
              "    [theme=dark] .colab-df-convert {\n",
              "      background-color: #3B4455;\n",
              "      fill: #D2E3FC;\n",
              "    }\n",
              "\n",
              "    [theme=dark] .colab-df-convert:hover {\n",
              "      background-color: #434B5C;\n",
              "      box-shadow: 0px 1px 3px 1px rgba(0, 0, 0, 0.15);\n",
              "      filter: drop-shadow(0px 1px 2px rgba(0, 0, 0, 0.3));\n",
              "      fill: #FFFFFF;\n",
              "    }\n",
              "  </style>\n",
              "\n",
              "      <script>\n",
              "        const buttonEl =\n",
              "          document.querySelector('#df-4c5d1c50-2a6a-467b-b108-89678d50f04f button.colab-df-convert');\n",
              "        buttonEl.style.display =\n",
              "          google.colab.kernel.accessAllowed ? 'block' : 'none';\n",
              "\n",
              "        async function convertToInteractive(key) {\n",
              "          const element = document.querySelector('#df-4c5d1c50-2a6a-467b-b108-89678d50f04f');\n",
              "          const dataTable =\n",
              "            await google.colab.kernel.invokeFunction('convertToInteractive',\n",
              "                                                     [key], {});\n",
              "          if (!dataTable) return;\n",
              "\n",
              "          const docLinkHtml = 'Like what you see? Visit the ' +\n",
              "            '<a target=\"_blank\" href=https://colab.research.google.com/notebooks/data_table.ipynb>data table notebook</a>'\n",
              "            + ' to learn more about interactive tables.';\n",
              "          element.innerHTML = '';\n",
              "          dataTable['output_type'] = 'display_data';\n",
              "          await google.colab.output.renderOutput(dataTable, element);\n",
              "          const docLink = document.createElement('div');\n",
              "          docLink.innerHTML = docLinkHtml;\n",
              "          element.appendChild(docLink);\n",
              "        }\n",
              "      </script>\n",
              "    </div>\n",
              "  </div>\n"
            ]
          },
          "metadata": {},
          "execution_count": 3
        }
      ]
    },
    {
      "cell_type": "markdown",
      "source": [
        "Como se observa, esta tabla de datos (```dataframe```) tiene 155317 filas y 31 columnas. Cada fila contiene los datos censales de una vivienda.  \n",
        "En los ```dataframe``` las filas se identifican con un ```index```, que generalmente es único para cada fila. Las columnas se identifican con un nombre, que generalmente es un texto o código. No debe confundirse el index de la tabla con una columna. Es decir, el index no es la primera columna.\n",
        "\n",
        "<img src=\"https://github.com/otoperalias/teaching/blob/TallerUTE_AnalisisCuanti/material/df_structure.jpg?raw=true\" alt=\"drawing\" width=\"550\"/>"
      ],
      "metadata": {
        "id": "TGf4OQxaKtCF"
      }
    },
    {
      "cell_type": "markdown",
      "source": [
        "## 3. Exploración inicial"
      ],
      "metadata": {
        "id": "gq6WEgcpnecL"
      }
    },
    {
      "cell_type": "markdown",
      "source": [
        "Para conocer las columnas que contiene nuestra tabla, escribimos el siguiente código:"
      ],
      "metadata": {
        "id": "97F5KvCZMYKH"
      }
    },
    {
      "cell_type": "code",
      "source": [
        "viv.columns"
      ],
      "metadata": {
        "colab": {
          "base_uri": "https://localhost:8080/"
        },
        "id": "doEmXame4jNY",
        "outputId": "a87998d4-51bb-482d-9a03-cd9d56267957"
      },
      "execution_count": null,
      "outputs": [
        {
          "output_type": "execute_result",
          "data": {
            "text/plain": [
              "Index(['I01', 'I02', 'I03', 'I04', 'I05', 'I09', 'I10', 'URV', 'VTV', 'VAP',\n",
              "       'VCO', 'V01', 'V03', 'V05', 'V02', 'V04', 'V06', 'V07', 'V08', 'V09',\n",
              "       'V10', 'V11', 'V12A', 'V12B', 'V13', 'V14', 'V15', 'V16', 'TOTPER',\n",
              "       'TOTDOR', 'TOTEMI'],\n",
              "      dtype='object')"
            ]
          },
          "metadata": {},
          "execution_count": 8
        }
      ]
    },
    {
      "cell_type": "markdown",
      "source": [
        "Nótese que necesitamos el diccionario de datos del censo para conocer el significado de cada columna. Por otra parte, para saber el significado de los diferentes valores que toman las variables, necesitamos el cuestionario del censo. Ambos documentos se mencionan al comienzo de este notebook."
      ],
      "metadata": {
        "id": "SZW7L5PyMf_X"
      }
    },
    {
      "cell_type": "markdown",
      "source": [
        "Para conocer el número de filas de la tabla (o sea, su longitud) escribimos lo siguiente:"
      ],
      "metadata": {
        "id": "XwyB3AvuNEtv"
      }
    },
    {
      "cell_type": "code",
      "source": [
        "# Longitud de la base de datos= Total de viviendas:\n",
        "len(viv)"
      ],
      "metadata": {
        "colab": {
          "base_uri": "https://localhost:8080/"
        },
        "id": "35aUF5vmtZ4T",
        "outputId": "f38cf96d-a4af-4363-9e3d-c8bfb8f8cda6"
      },
      "execution_count": null,
      "outputs": [
        {
          "output_type": "execute_result",
          "data": {
            "text/plain": [
              "155317"
            ]
          },
          "metadata": {},
          "execution_count": 21
        }
      ]
    },
    {
      "cell_type": "markdown",
      "source": [
        "Podemos comprobar en el PDF con los resultados para Loja que en esta provincia hay 155308 viviendas. La pequeña diferencia se debe a que hay 9 cuestionarios de hogares sin viviendas (código 17 en la variable VTV).  \n",
        "La función ```value_counts()``` nos da la distribución de frecuencias de una variable."
      ],
      "metadata": {
        "id": "JOcZtO3eNS-G"
      }
    },
    {
      "cell_type": "code",
      "source": [
        "# Tipo de Vivienda\n",
        "viv[\"VTV\"].value_counts()"
      ],
      "metadata": {
        "id": "ShieU-le4Gxs"
      },
      "execution_count": null,
      "outputs": []
    },
    {
      "cell_type": "markdown",
      "source": [
        "*En cuanto a terminología, las palabras variable, campo y columna se refieren a lo mismo. En inglés, variable, field and column.*"
      ],
      "metadata": {
        "id": "wiMGw81ZN8JA"
      }
    },
    {
      "cell_type": "markdown",
      "source": [
        "Ahora creamos un gráfico similar al del PDF (página 7: ¿qué tipo de vivienda tenemos?):"
      ],
      "metadata": {
        "id": "Uc7vPFZKOUYl"
      }
    },
    {
      "cell_type": "code",
      "source": [
        "sns.histplot(data=viv,x=\"VTV\",stat=\"percent\")"
      ],
      "metadata": {
        "id": "dKaR0u5wyzE6"
      },
      "execution_count": null,
      "outputs": []
    },
    {
      "cell_type": "markdown",
      "source": [
        "El siguiente bloque de código procesa ligeramente los datos para crear un gráfico más entendible:"
      ],
      "metadata": {
        "id": "V5M0RTKgO0H_"
      }
    },
    {
      "cell_type": "code",
      "source": [
        "# Procesamos los datos para mejorar el gráfico\n",
        "viv['tipov']=\"\" # Añadimos una nueva columna y en las líneas de código siguientes le damos contenido según los códigos de la columna VTV\n",
        "viv.loc[viv['VTV']==1,'tipov']=\"Casa/Villa\"\n",
        "viv.loc[viv['VTV']==2,'tipov']=\"Departamento\"\n",
        "viv.loc[viv['VTV']==3,'tipov']=\"Cuarto\"\n",
        "viv.loc[viv['VTV']==4,'tipov']=\"Mediagua\"\n",
        "viv.loc[viv['VTV']==5,'tipov']=\"Rancho\"\n",
        "viv.loc[(viv['VTV']==6) | (viv['VTV']==7),'tipov']=\"Covacha/Choza\"\n",
        "viv.loc[(viv['VTV']==8),'tipov']=\"Otro\"\n",
        "\n",
        "vivpar=viv.loc[viv['VTV']<=8].copy() # hacemos un filtro seleccionando solo viviendas particulares\n",
        "vivpar=vivpar.sort_values(\"VTV\") # Ordenamos la tabla por la variable VTV\n",
        "\n",
        "# Creamos un gráfico\n",
        "fig,ax=plt.subplots()  # Aquí se indica que queremos crear una figura (fig) que contiene un gráfico (ax)\n",
        "sns.histplot(data=vivpar,x=\"tipov\",stat=\"percent\",ax=ax)  # Se indica que queremos representar un histograma, que muestre los porcentajes\n",
        "ax.tick_params(axis='x', rotation=90) # Etiquetas del eje x giradas 90 grados para visualizarse mejor.\n",
        "ax.set_ylabel(\"Porcentaje\") # Título del eje y, donde se indica la unidad de medida\n",
        "ax.set_xlabel(\"\")  # No queremos título en el eje x, porque se sobre entiende.\n",
        "ax.set_title(\"¿QUÉ TIPO DE VIVIENDA TENEMOS?\")  # Título de la figura\n",
        "plt.show() # Comando para que se dibuje el gráfico."
      ],
      "metadata": {
        "colab": {
          "base_uri": "https://localhost:8080/",
          "height": 548
        },
        "id": "CgghpHthzBmh",
        "outputId": "02a3897a-a414-49a6-d1fb-87ff50cac6b2"
      },
      "execution_count": 3,
      "outputs": [
        {
          "output_type": "display_data",
          "data": {
            "text/plain": [
              "<Figure size 640x480 with 1 Axes>"
            ],
            "image/png": "[encoded data removed]"
          },
          "metadata": {}
        }
      ]
    },
    {
      "cell_type": "markdown",
      "source": [
        "## 4. Estadística descriptiva"
      ],
      "metadata": {
        "id": "hXkT_j_VnlrZ"
      }
    },
    {
      "cell_type": "markdown",
      "source": [
        "### 4.1. Distribución de frecuencias.  \n",
        "  El gráfico anterior es un ejemplo de distribución de frecuencias, un histograma. Nos muestra como se dividen las observaciones (viviendas) por los valores o categorías de las variables.\n",
        "  <br />  \n",
        "Volvemos a crear un histograma, esta vez con la variable total de personas. Usamos la tabla ```vivpar``` y volvemos a hacer un filtro para quedarmos con aquellas viviendas particulares ocupadas con personas viviendo."
      ],
      "metadata": {
        "id": "Fe5fTKeaskEJ"
      }
    },
    {
      "cell_type": "code",
      "source": [
        "# Creamos tabla de viviendas particulares ocupadas (que la llamamos vpo)\n",
        "vpo=vivpar.loc[vivpar['VCO']==\"1\"].copy()"
      ],
      "metadata": {
        "id": "aV3vF6bKxWmq"
      },
      "execution_count": 4,
      "outputs": []
    },
    {
      "cell_type": "code",
      "source": [
        "sns.histplot(data=vpo,x=\"TOTPER\", bins=22)\n"
      ],
      "metadata": {
        "colab": {
          "base_uri": "https://localhost:8080/",
          "height": 466
        },
        "id": "IO-VMc5eyKsB",
        "outputId": "1226ac4d-a487-49f1-a08f-dfaf444a957a"
      },
      "execution_count": null,
      "outputs": [
        {
          "output_type": "execute_result",
          "data": {
            "text/plain": [
              "<Axes: xlabel='TOTPER', ylabel='Count'>"
            ]
          },
          "metadata": {},
          "execution_count": 11
        },
        {
          "output_type": "display_data",
          "data": {
            "text/plain": [
              "<Figure size 640x480 with 1 Axes>"
            ],
            "image/png": "[encoded data removed]"
          },
          "metadata": {}
        }
      ]
    },
    {
      "cell_type": "markdown",
      "source": [
        "### 4.2. Medidas de tendencia central.  \n",
        "- La *moda* es el valor o categoría que más se repite.   \n",
        "- La *mediana* es el valor central de la distribución, que la divide en dos partes iguales.  \n",
        "- La *media* es el promedio.\n",
        "  <br />  \n",
        "  Vamos a analizar las medidas de tendencia central de la variable total de personas que residen en viviendas particulares."
      ],
      "metadata": {
        "id": "9fTO_O6gtA7X"
      }
    },
    {
      "cell_type": "code",
      "source": [
        "vpo['TOTPER'].mode() # Moda"
      ],
      "metadata": {
        "colab": {
          "base_uri": "https://localhost:8080/"
        },
        "id": "uFQuoHBMzfCa",
        "outputId": "80ea9d4d-7d27-4bc1-caa2-efe0d952e1e9"
      },
      "execution_count": null,
      "outputs": [
        {
          "output_type": "execute_result",
          "data": {
            "text/plain": [
              "0    4\n",
              "Name: TOTPER, dtype: int64"
            ]
          },
          "metadata": {},
          "execution_count": 14
        }
      ]
    },
    {
      "cell_type": "code",
      "source": [
        "vpo['TOTPER'].median() # Mediana"
      ],
      "metadata": {
        "id": "uv3DSmzY0UWa",
        "colab": {
          "base_uri": "https://localhost:8080/"
        },
        "outputId": "42e3d5dc-5eea-4c47-ae1a-50720f486a61"
      },
      "execution_count": null,
      "outputs": [
        {
          "output_type": "execute_result",
          "data": {
            "text/plain": [
              "4.0"
            ]
          },
          "metadata": {},
          "execution_count": 15
        }
      ]
    },
    {
      "cell_type": "code",
      "source": [
        "vpo['TOTPER'].mean() # Media"
      ],
      "metadata": {
        "colab": {
          "base_uri": "https://localhost:8080/"
        },
        "id": "NgXYWyz51Kh6",
        "outputId": "230f6c4b-248d-4431-fb47-4772166a24b3"
      },
      "execution_count": null,
      "outputs": [
        {
          "output_type": "execute_result",
          "data": {
            "text/plain": [
              "3.907367995215816"
            ]
          },
          "metadata": {},
          "execution_count": 16
        }
      ]
    },
    {
      "cell_type": "markdown",
      "source": [
        "### 4.3. Medidas de dispersión o variabilidad:\n",
        "- Rango: valor máximo - valor mínimo.\n",
        "- Varianza: promedio de las desviaciones cuadráticas respecto a la media.\n",
        "- Desviación estándar: raíz cuadrada de la varianza. La desviación estándar es una medida interesante porque en una [distribución normal](https://upload.wikimedia.org/wikipedia/commons/thumb/3/3a/Standard_deviation_diagram_micro.svg/1920px-Standard_deviation_diagram_micro.svg.png), el 64,2% de la distribución se encuentra en torno a 1 desviación estandar de la media."
      ],
      "metadata": {
        "id": "O_sOIMA51yK7"
      }
    },
    {
      "cell_type": "code",
      "source": [
        "print(\"El rango del número de personas ocupando una vivienda es: \",\n",
        "      vpo['TOTPER'].max()-vpo['TOTPER'].min())"
      ],
      "metadata": {
        "id": "T4rYOVlh13Ud",
        "colab": {
          "base_uri": "https://localhost:8080/"
        },
        "outputId": "ea15185c-d58c-43c1-b614-a9daa235be6d"
      },
      "execution_count": null,
      "outputs": [
        {
          "output_type": "stream",
          "name": "stdout",
          "text": [
            "El rango del número de personas ocupando una vivienda es:  21\n"
          ]
        }
      ]
    },
    {
      "cell_type": "code",
      "source": [
        "print(\"La varianza del número de personas ocupando una vivienda es: \",\n",
        "      vpo['TOTPER'].var())"
      ],
      "metadata": {
        "colab": {
          "base_uri": "https://localhost:8080/"
        },
        "id": "TPKBglOZ3S6m",
        "outputId": "46d54a82-7a04-4c62-90a1-7233fc07d5dd"
      },
      "execution_count": null,
      "outputs": [
        {
          "output_type": "stream",
          "name": "stdout",
          "text": [
            "La varianza del número de personas ocupando una vivienda es:  4.510358263727019\n"
          ]
        }
      ]
    },
    {
      "cell_type": "code",
      "source": [
        "print(\"La desviación estándar del número de personas ocupando una vivienda es: \",\n",
        "      vpo['TOTPER'].std())"
      ],
      "metadata": {
        "colab": {
          "base_uri": "https://localhost:8080/"
        },
        "id": "R1gBm_Ox3ful",
        "outputId": "dfb68ce8-aa74-46b4-80b7-70368dec1881"
      },
      "execution_count": null,
      "outputs": [
        {
          "output_type": "stream",
          "name": "stdout",
          "text": [
            "La desviación estándar del número de personas ocupando una vivienda es:  2.1237604063846325\n"
          ]
        }
      ]
    },
    {
      "cell_type": "markdown",
      "source": [
        "### 4.4. Otras medidas de estadística descriptiva:\n",
        "- Asimetría: en qué medida la distribución objeto de estudio se parece a una normal.\n",
        "-Curtosis: elevación o achatamiento de la distribución, comparada con una normal.\n",
        "-z-score: valor normalizado por la media y desviación estándar ```(x-u)/sigma```. Indica cuántas veces está un valor alejado de la media.\n"
      ],
      "metadata": {
        "id": "qrkBAhzs37Fe"
      }
    },
    {
      "cell_type": "code",
      "source": [
        "# Asimetría\n",
        "vpo['TOTPER'].skew() # Valor > 0: la cola de la distribución de la derecha es mayor que la de la izquierda (valor <0 sería lo contrario)."
      ],
      "metadata": {
        "colab": {
          "base_uri": "https://localhost:8080/"
        },
        "id": "XkYdLve_3o8d",
        "outputId": "bc21859b-a219-4db9-dadf-1bae716e2d86"
      },
      "execution_count": null,
      "outputs": [
        {
          "output_type": "execute_result",
          "data": {
            "text/plain": [
              "0.874998344220847"
            ]
          },
          "metadata": {},
          "execution_count": 20
        }
      ]
    },
    {
      "cell_type": "code",
      "source": [
        "# Curtosis:\n",
        "vpo['TOTPER'].kurt() # Si x > 0: curtosis alta; si ~0 normal, si <0: baja. En este caso, tenemos un nivel bajo."
      ],
      "metadata": {
        "colab": {
          "base_uri": "https://localhost:8080/"
        },
        "id": "lucei3k46NJe",
        "outputId": "1af4b707-4862-4c44-c79a-9bcc6748a878"
      },
      "execution_count": null,
      "outputs": [
        {
          "output_type": "execute_result",
          "data": {
            "text/plain": [
              "1.3308714180121486"
            ]
          },
          "metadata": {},
          "execution_count": 21
        }
      ]
    },
    {
      "cell_type": "code",
      "source": [
        "# Z-score:\n",
        "zscore=(vpo['TOTPER']-vpo['TOTPER'].mean())/vpo['TOTPER'].std()\n",
        "sns.histplot(zscore, bins=22)\n"
      ],
      "metadata": {
        "colab": {
          "base_uri": "https://localhost:8080/",
          "height": 466
        },
        "id": "3G2VSI-g7PZd",
        "outputId": "22b8a4e3-beba-4e0a-8a4d-191c68cb6d2d"
      },
      "execution_count": null,
      "outputs": [
        {
          "output_type": "execute_result",
          "data": {
            "text/plain": [
              "<Axes: xlabel='TOTPER', ylabel='Count'>"
            ]
          },
          "metadata": {},
          "execution_count": 22
        },
        {
          "output_type": "display_data",
          "data": {
            "text/plain": [
              "<Figure size 640x480 with 1 Axes>"
            ],
            "image/png": "[encoded data removed]"
          },
          "metadata": {}
        }
      ]
    },
    {
      "cell_type": "markdown",
      "source": [
        "### 4.5. Resumen de estadísticos descriptivos"
      ],
      "metadata": {
        "id": "FkuAhjlYHyFQ"
      }
    },
    {
      "cell_type": "code",
      "source": [
        "# Resumen de la variable TOTPER\n",
        "vpo['TOTPER'].describe()"
      ],
      "metadata": {
        "id": "NTWcR4KbH21f",
        "outputId": "94390dba-d040-432b-97f8-7dc094f485cc",
        "colab": {
          "base_uri": "https://localhost:8080/"
        }
      },
      "execution_count": null,
      "outputs": [
        {
          "output_type": "execute_result",
          "data": {
            "text/plain": [
              "count    113708.000000\n",
              "mean          3.907368\n",
              "std           2.123760\n",
              "min           1.000000\n",
              "25%           2.000000\n",
              "50%           4.000000\n",
              "75%           5.000000\n",
              "max          22.000000\n",
              "Name: TOTPER, dtype: float64"
            ]
          },
          "metadata": {},
          "execution_count": 23
        }
      ]
    },
    {
      "cell_type": "code",
      "source": [
        "# Resumen de la tabla vpo completa\n",
        "vpo.describe()\n",
        "\n",
        "# Cuidado: esto solo tiene sentido para las variables numéricas cardinales/ordinales, pero no para las que establecen categorías (!).\n",
        "# Además, aquí podemos comprobar que algunas variables que deben ser numéricas están almacenadas como texto, por ej. el número de focos."
      ],
      "metadata": {
        "id": "ca9fQyZrH_E_",
        "outputId": "5033e432-0d1e-43cb-c5fb-30a5d779f8f3",
        "colab": {
          "base_uri": "https://localhost:8080/",
          "height": 300
        }
      },
      "execution_count": null,
      "outputs": [
        {
          "output_type": "execute_result",
          "data": {
            "text/plain": [
              "            I01            I02            I03            I04            I05  \\\n",
              "count  113708.0  113708.000000  113708.000000  113708.000000  113708.000000   \n",
              "mean       11.0       4.477688      51.434086     385.766481       5.735841   \n",
              "std         0.0       4.410396       2.714843     476.608025       5.155489   \n",
              "min        11.0       1.000000      50.000000       1.000000       1.000000   \n",
              "25%        11.0       1.000000      50.000000       4.000000       2.000000   \n",
              "50%        11.0       2.000000      50.000000      31.000000       5.000000   \n",
              "75%        11.0       8.000000      52.000000     999.000000       7.000000   \n",
              "max        11.0      16.000000      63.000000     999.000000      39.000000   \n",
              "\n",
              "                 I09       I10            URV            VTV         TOTPER  \n",
              "count  113708.000000  113708.0  113708.000000  113708.000000  113708.000000  \n",
              "mean       61.103317       1.0       1.448368       1.356131       3.907368  \n",
              "std        43.212976       0.0       0.497329       0.865544       2.123760  \n",
              "min         1.000000       1.0       1.000000       1.000000       1.000000  \n",
              "25%        27.000000       1.0       1.000000       1.000000       2.000000  \n",
              "50%        54.000000       1.0       1.000000       1.000000       4.000000  \n",
              "75%        88.000000       1.0       2.000000       1.000000       5.000000  \n",
              "max       378.000000       1.0       2.000000       8.000000      22.000000  "
            ],
            "text/html": [
              "\n",
              "\n",
              "  <div id=\"df-d6a592e6-aa29-4793-9500-deb588953dbf\">\n",
              "    <div class=\"colab-df-container\">\n",
              "      <div>\n",
              "<style scoped>\n",
              "    .dataframe tbody tr th:only-of-type {\n",
              "        vertical-align: middle;\n",
              "    }\n",
              "\n",
              "    .dataframe tbody tr th {\n",
              "        vertical-align: top;\n",
              "    }\n",
              "\n",
              "    .dataframe thead th {\n",
              "        text-align: right;\n",
              "    }\n",
              "</style>\n",
              "<table border=\"1\" class=\"dataframe\">\n",
              "  <thead>\n",
              "    <tr style=\"text-align: right;\">\n",
              "      <th></th>\n",
              "      <th>I01</th>\n",
              "      <th>I02</th>\n",
              "      <th>I03</th>\n",
              "      <th>I04</th>\n",
              "      <th>I05</th>\n",
              "      <th>I09</th>\n",
              "      <th>I10</th>\n",
              "      <th>URV</th>\n",
              "      <th>VTV</th>\n",
              "      <th>TOTPER</th>\n",
              "    </tr>\n",
              "  </thead>\n",
              "  <tbody>\n",
              "    <tr>\n",
              "      <th>count</th>\n",
              "      <td>113708.0</td>\n",
              "      <td>113708.000000</td>\n",
              "      <td>113708.000000</td>\n",
              "      <td>113708.000000</td>\n",
              "      <td>113708.000000</td>\n",
              "      <td>113708.000000</td>\n",
              "      <td>113708.0</td>\n",
              "      <td>113708.000000</td>\n",
              "      <td>113708.000000</td>\n",
              "      <td>113708.000000</td>\n",
              "    </tr>\n",
              "    <tr>\n",
              "      <th>mean</th>\n",
              "      <td>11.0</td>\n",
              "      <td>4.477688</td>\n",
              "      <td>51.434086</td>\n",
              "      <td>385.766481</td>\n",
              "      <td>5.735841</td>\n",
              "      <td>61.103317</td>\n",
              "      <td>1.0</td>\n",
              "      <td>1.448368</td>\n",
              "      <td>1.356131</td>\n",
              "      <td>3.907368</td>\n",
              "    </tr>\n",
              "    <tr>\n",
              "      <th>std</th>\n",
              "      <td>0.0</td>\n",
              "      <td>4.410396</td>\n",
              "      <td>2.714843</td>\n",
              "      <td>476.608025</td>\n",
              "      <td>5.155489</td>\n",
              "      <td>43.212976</td>\n",
              "      <td>0.0</td>\n",
              "      <td>0.497329</td>\n",
              "      <td>0.865544</td>\n",
              "      <td>2.123760</td>\n",
              "    </tr>\n",
              "    <tr>\n",
              "      <th>min</th>\n",
              "      <td>11.0</td>\n",
              "      <td>1.000000</td>\n",
              "      <td>50.000000</td>\n",
              "      <td>1.000000</td>\n",
              "      <td>1.000000</td>\n",
              "      <td>1.000000</td>\n",
              "      <td>1.0</td>\n",
              "      <td>1.000000</td>\n",
              "      <td>1.000000</td>\n",
              "      <td>1.000000</td>\n",
              "    </tr>\n",
              "    <tr>\n",
              "      <th>25%</th>\n",
              "      <td>11.0</td>\n",
              "      <td>1.000000</td>\n",
              "      <td>50.000000</td>\n",
              "      <td>4.000000</td>\n",
              "      <td>2.000000</td>\n",
              "      <td>27.000000</td>\n",
              "      <td>1.0</td>\n",
              "      <td>1.000000</td>\n",
              "      <td>1.000000</td>\n",
              "      <td>2.000000</td>\n",
              "    </tr>\n",
              "    <tr>\n",
              "      <th>50%</th>\n",
              "      <td>11.0</td>\n",
              "      <td>2.000000</td>\n",
              "      <td>50.000000</td>\n",
              "      <td>31.000000</td>\n",
              "      <td>5.000000</td>\n",
              "      <td>54.000000</td>\n",
              "      <td>1.0</td>\n",
              "      <td>1.000000</td>\n",
              "      <td>1.000000</td>\n",
              "      <td>4.000000</td>\n",
              "    </tr>\n",
              "    <tr>\n",
              "      <th>75%</th>\n",
              "      <td>11.0</td>\n",
              "      <td>8.000000</td>\n",
              "      <td>52.000000</td>\n",
              "      <td>999.000000</td>\n",
              "      <td>7.000000</td>\n",
              "      <td>88.000000</td>\n",
              "      <td>1.0</td>\n",
              "      <td>2.000000</td>\n",
              "      <td>1.000000</td>\n",
              "      <td>5.000000</td>\n",
              "    </tr>\n",
              "    <tr>\n",
              "      <th>max</th>\n",
              "      <td>11.0</td>\n",
              "      <td>16.000000</td>\n",
              "      <td>63.000000</td>\n",
              "      <td>999.000000</td>\n",
              "      <td>39.000000</td>\n",
              "      <td>378.000000</td>\n",
              "      <td>1.0</td>\n",
              "      <td>2.000000</td>\n",
              "      <td>8.000000</td>\n",
              "      <td>22.000000</td>\n",
              "    </tr>\n",
              "  </tbody>\n",
              "</table>\n",
              "</div>\n",
              "      <button class=\"colab-df-convert\" onclick=\"convertToInteractive('df-d6a592e6-aa29-4793-9500-deb588953dbf')\"\n",
              "              title=\"Convert this dataframe to an interactive table.\"\n",
              "              style=\"display:none;\">\n",
              "\n",
              "  <svg xmlns=\"http://www.w3.org/2000/svg\" height=\"24px\"viewBox=\"0 0 24 24\"\n",
              "       width=\"24px\">\n",
              "    <path d=\"M0 0h24v24H0V0z\" fill=\"none\"/>\n",
              "    <path d=\"M18.56 5.44l.94 2.06.94-2.06 2.06-.94-2.06-.94-.94-2.06-.94 2.06-2.06.94zm-11 1L8.5 8.5l.94-2.06 2.06-.94-2.06-.94L8.5 2.5l-.94 2.06-2.06.94zm10 10l.94 2.06.94-2.06 2.06-.94-2.06-.94-.94-2.06-.94 2.06-2.06.94z\"/><path d=\"M17.41 7.96l-1.37-1.37c-.4-.4-.92-.59-1.43-.59-.52 0-1.04.2-1.43.59L10.3 9.45l-7.72 7.72c-.78.78-.78 2.05 0 2.83L4 21.41c.39.39.9.59 1.41.59.51 0 1.02-.2 1.41-.59l7.78-7.78 2.81-2.81c.8-.78.8-2.07 0-2.86zM5.41 20L4 18.59l7.72-7.72 1.47 1.35L5.41 20z\"/>\n",
              "  </svg>\n",
              "      </button>\n",
              "\n",
              "\n",
              "\n",
              "    <div id=\"df-6774afde-88dc-4134-a56b-93f605fb206a\">\n",
              "      <button class=\"colab-df-quickchart\" onclick=\"quickchart('df-6774afde-88dc-4134-a56b-93f605fb206a')\"\n",
              "              title=\"Suggest charts.\"\n",
              "              style=\"display:none;\">\n",
              "\n",
              "<svg xmlns=\"http://www.w3.org/2000/svg\" height=\"24px\"viewBox=\"0 0 24 24\"\n",
              "     width=\"24px\">\n",
              "    <g>\n",
              "        <path d=\"M19 3H5c-1.1 0-2 .9-2 2v14c0 1.1.9 2 2 2h14c1.1 0 2-.9 2-2V5c0-1.1-.9-2-2-2zM9 17H7v-7h2v7zm4 0h-2V7h2v10zm4 0h-2v-4h2v4z\"/>\n",
              "    </g>\n",
              "</svg>\n",
              "      </button>\n",
              "    </div>\n",
              "\n",
              "<style>\n",
              "  .colab-df-quickchart {\n",
              "    background-color: #E8F0FE;\n",
              "    border: none;\n",
              "    border-radius: 50%;\n",
              "    cursor: pointer;\n",
              "    display: none;\n",
              "    fill: #1967D2;\n",
              "    height: 32px;\n",
              "    padding: 0 0 0 0;\n",
              "    width: 32px;\n",
              "  }\n",
              "\n",
              "  .colab-df-quickchart:hover {\n",
              "    background-color: #E2EBFA;\n",
              "    box-shadow: 0px 1px 2px rgba(60, 64, 67, 0.3), 0px 1px 3px 1px rgba(60, 64, 67, 0.15);\n",
              "    fill: #174EA6;\n",
              "  }\n",
              "\n",
              "  [theme=dark] .colab-df-quickchart {\n",
              "    background-color: #3B4455;\n",
              "    fill: #D2E3FC;\n",
              "  }\n",
              "\n",
              "  [theme=dark] .colab-df-quickchart:hover {\n",
              "    background-color: #434B5C;\n",
              "    box-shadow: 0px 1px 3px 1px rgba(0, 0, 0, 0.15);\n",
              "    filter: drop-shadow(0px 1px 2px rgba(0, 0, 0, 0.3));\n",
              "    fill: #FFFFFF;\n",
              "  }\n",
              "</style>\n",
              "\n",
              "    <script>\n",
              "      async function quickchart(key) {\n",
              "        const containerElement = document.querySelector('#' + key);\n",
              "        const charts = await google.colab.kernel.invokeFunction(\n",
              "            'suggestCharts', [key], {});\n",
              "      }\n",
              "    </script>\n",
              "\n",
              "      <script>\n",
              "\n",
              "function displayQuickchartButton(domScope) {\n",
              "  let quickchartButtonEl =\n",
              "    domScope.querySelector('#df-6774afde-88dc-4134-a56b-93f605fb206a button.colab-df-quickchart');\n",
              "  quickchartButtonEl.style.display =\n",
              "    google.colab.kernel.accessAllowed ? 'block' : 'none';\n",
              "}\n",
              "\n",
              "        displayQuickchartButton(document);\n",
              "      </script>\n",
              "      <style>\n",
              "    .colab-df-container {\n",
              "      display:flex;\n",
              "      flex-wrap:wrap;\n",
              "      gap: 12px;\n",
              "    }\n",
              "\n",
              "    .colab-df-convert {\n",
              "      background-color: #E8F0FE;\n",
              "      border: none;\n",
              "      border-radius: 50%;\n",
              "      cursor: pointer;\n",
              "      display: none;\n",
              "      fill: #1967D2;\n",
              "      height: 32px;\n",
              "      padding: 0 0 0 0;\n",
              "      width: 32px;\n",
              "    }\n",
              "\n",
              "    .colab-df-convert:hover {\n",
              "      background-color: #E2EBFA;\n",
              "      box-shadow: 0px 1px 2px rgba(60, 64, 67, 0.3), 0px 1px 3px 1px rgba(60, 64, 67, 0.15);\n",
              "      fill: #174EA6;\n",
              "    }\n",
              "\n",
              "    [theme=dark] .colab-df-convert {\n",
              "      background-color: #3B4455;\n",
              "      fill: #D2E3FC;\n",
              "    }\n",
              "\n",
              "    [theme=dark] .colab-df-convert:hover {\n",
              "      background-color: #434B5C;\n",
              "      box-shadow: 0px 1px 3px 1px rgba(0, 0, 0, 0.15);\n",
              "      filter: drop-shadow(0px 1px 2px rgba(0, 0, 0, 0.3));\n",
              "      fill: #FFFFFF;\n",
              "    }\n",
              "  </style>\n",
              "\n",
              "      <script>\n",
              "        const buttonEl =\n",
              "          document.querySelector('#df-d6a592e6-aa29-4793-9500-deb588953dbf button.colab-df-convert');\n",
              "        buttonEl.style.display =\n",
              "          google.colab.kernel.accessAllowed ? 'block' : 'none';\n",
              "\n",
              "        async function convertToInteractive(key) {\n",
              "          const element = document.querySelector('#df-d6a592e6-aa29-4793-9500-deb588953dbf');\n",
              "          const dataTable =\n",
              "            await google.colab.kernel.invokeFunction('convertToInteractive',\n",
              "                                                     [key], {});\n",
              "          if (!dataTable) return;\n",
              "\n",
              "          const docLinkHtml = 'Like what you see? Visit the ' +\n",
              "            '<a target=\"_blank\" href=https://colab.research.google.com/notebooks/data_table.ipynb>data table notebook</a>'\n",
              "            + ' to learn more about interactive tables.';\n",
              "          element.innerHTML = '';\n",
              "          dataTable['output_type'] = 'display_data';\n",
              "          await google.colab.output.renderOutput(dataTable, element);\n",
              "          const docLink = document.createElement('div');\n",
              "          docLink.innerHTML = docLinkHtml;\n",
              "          element.appendChild(docLink);\n",
              "        }\n",
              "      </script>\n",
              "    </div>\n",
              "  </div>\n"
            ]
          },
          "metadata": {},
          "execution_count": 136
        }
      ]
    },
    {
      "cell_type": "markdown",
      "source": [
        "## 5. Agregaciones espaciales"
      ],
      "metadata": {
        "id": "oxzazpMvebsm"
      }
    },
    {
      "cell_type": "markdown",
      "source": [
        "Hemos estado usando datos individuales (a nivel de vivienda) hasta ahora, pero con frecuencia nos interesa conocer los datos agregados de diferentes unidades espaciales o territoriales, como la parroquia, el cantón y la provincia. Vamos a agrupar las filas de la tabla por cantones usando la función ```groupby()```.  \n",
        "Para ello, tenemos que preparar las variables que nos interesa agrupar. Supongamos que queremos medir la calidad de los materiales de las viviendas, su estado de conservación, su nivel de ocupación (personas) y el número de dormitorios. Por tanto, nos interesan las siguientes variables:  V01, V03, V05, V02, V04, V06, TOTPER. Vamos a ir variable a variable."
      ],
      "metadata": {
        "id": "hdQwH5DcefqG"
      }
    },
    {
      "cell_type": "code",
      "source": [
        "# Material techo (1 si teja u hormigon, 0 lo demás)\n",
        "vpo['techo_mat']=0\n",
        "vpo.loc[(vpo['V01']==\"1\") | (vpo['V01']==\"4\"), 'techo_mat']=1\n",
        "\n",
        "# Material paredes (1 si hormigón o ladrillo/bloque, 0 lo demás)\n",
        "vpo['pared_mat']=0\n",
        "vpo.loc[(vpo['V03']==\"1\") | (vpo['V03']==\"2\"), 'pared_mat']=1\n",
        "\n",
        "# Material suelo (1 si cerámica o duela/parquet..., 0 lo demás)\n",
        "vpo['suelo_mat']=0\n",
        "vpo.loc[(vpo['V05']==\"1\") | (vpo['V05']==\"3\"), 'suelo_mat']=1\n"
      ],
      "metadata": {
        "id": "_6_wBNpph-GF"
      },
      "execution_count": null,
      "outputs": []
    },
    {
      "cell_type": "code",
      "source": [
        "# Podemos echar un vistazo a los estadísticos descriptivos de estas tres variables\n",
        "vpo[['techo_mat','pared_mat','suelo_mat']].describe()"
      ],
      "metadata": {
        "id": "byb2dGzGkWho",
        "outputId": "0af17d71-a7e7-446c-ca6b-d1027e620f77",
        "colab": {
          "base_uri": "https://localhost:8080/",
          "height": 300
        }
      },
      "execution_count": null,
      "outputs": [
        {
          "output_type": "execute_result",
          "data": {
            "text/plain": [
              "           techo_mat      pared_mat      suelo_mat\n",
              "count  113708.000000  113708.000000  113708.000000\n",
              "mean        0.722113       0.585491       0.343758\n",
              "std         0.447959       0.492639       0.474963\n",
              "min         0.000000       0.000000       0.000000\n",
              "25%         0.000000       0.000000       0.000000\n",
              "50%         1.000000       1.000000       0.000000\n",
              "75%         1.000000       1.000000       1.000000\n",
              "max         1.000000       1.000000       1.000000"
            ],
            "text/html": [
              "\n",
              "\n",
              "  <div id=\"df-f1f6909d-8c4c-4364-82dd-6f4509fa9fe1\">\n",
              "    <div class=\"colab-df-container\">\n",
              "      <div>\n",
              "<style scoped>\n",
              "    .dataframe tbody tr th:only-of-type {\n",
              "        vertical-align: middle;\n",
              "    }\n",
              "\n",
              "    .dataframe tbody tr th {\n",
              "        vertical-align: top;\n",
              "    }\n",
              "\n",
              "    .dataframe thead th {\n",
              "        text-align: right;\n",
              "    }\n",
              "</style>\n",
              "<table border=\"1\" class=\"dataframe\">\n",
              "  <thead>\n",
              "    <tr style=\"text-align: right;\">\n",
              "      <th></th>\n",
              "      <th>techo_mat</th>\n",
              "      <th>pared_mat</th>\n",
              "      <th>suelo_mat</th>\n",
              "    </tr>\n",
              "  </thead>\n",
              "  <tbody>\n",
              "    <tr>\n",
              "      <th>count</th>\n",
              "      <td>113708.000000</td>\n",
              "      <td>113708.000000</td>\n",
              "      <td>113708.000000</td>\n",
              "    </tr>\n",
              "    <tr>\n",
              "      <th>mean</th>\n",
              "      <td>0.722113</td>\n",
              "      <td>0.585491</td>\n",
              "      <td>0.343758</td>\n",
              "    </tr>\n",
              "    <tr>\n",
              "      <th>std</th>\n",
              "      <td>0.447959</td>\n",
              "      <td>0.492639</td>\n",
              "      <td>0.474963</td>\n",
              "    </tr>\n",
              "    <tr>\n",
              "      <th>min</th>\n",
              "      <td>0.000000</td>\n",
              "      <td>0.000000</td>\n",
              "      <td>0.000000</td>\n",
              "    </tr>\n",
              "    <tr>\n",
              "      <th>25%</th>\n",
              "      <td>0.000000</td>\n",
              "      <td>0.000000</td>\n",
              "      <td>0.000000</td>\n",
              "    </tr>\n",
              "    <tr>\n",
              "      <th>50%</th>\n",
              "      <td>1.000000</td>\n",
              "      <td>1.000000</td>\n",
              "      <td>0.000000</td>\n",
              "    </tr>\n",
              "    <tr>\n",
              "      <th>75%</th>\n",
              "      <td>1.000000</td>\n",
              "      <td>1.000000</td>\n",
              "      <td>1.000000</td>\n",
              "    </tr>\n",
              "    <tr>\n",
              "      <th>max</th>\n",
              "      <td>1.000000</td>\n",
              "      <td>1.000000</td>\n",
              "      <td>1.000000</td>\n",
              "    </tr>\n",
              "  </tbody>\n",
              "</table>\n",
              "</div>\n",
              "      <button class=\"colab-df-convert\" onclick=\"convertToInteractive('df-f1f6909d-8c4c-4364-82dd-6f4509fa9fe1')\"\n",
              "              title=\"Convert this dataframe to an interactive table.\"\n",
              "              style=\"display:none;\">\n",
              "\n",
              "  <svg xmlns=\"http://www.w3.org/2000/svg\" height=\"24px\"viewBox=\"0 0 24 24\"\n",
              "       width=\"24px\">\n",
              "    <path d=\"M0 0h24v24H0V0z\" fill=\"none\"/>\n",
              "    <path d=\"M18.56 5.44l.94 2.06.94-2.06 2.06-.94-2.06-.94-.94-2.06-.94 2.06-2.06.94zm-11 1L8.5 8.5l.94-2.06 2.06-.94-2.06-.94L8.5 2.5l-.94 2.06-2.06.94zm10 10l.94 2.06.94-2.06 2.06-.94-2.06-.94-.94-2.06-.94 2.06-2.06.94z\"/><path d=\"M17.41 7.96l-1.37-1.37c-.4-.4-.92-.59-1.43-.59-.52 0-1.04.2-1.43.59L10.3 9.45l-7.72 7.72c-.78.78-.78 2.05 0 2.83L4 21.41c.39.39.9.59 1.41.59.51 0 1.02-.2 1.41-.59l7.78-7.78 2.81-2.81c.8-.78.8-2.07 0-2.86zM5.41 20L4 18.59l7.72-7.72 1.47 1.35L5.41 20z\"/>\n",
              "  </svg>\n",
              "      </button>\n",
              "\n",
              "\n",
              "\n",
              "    <div id=\"df-7580ab10-595c-45e3-848f-ff8319f135cf\">\n",
              "      <button class=\"colab-df-quickchart\" onclick=\"quickchart('df-7580ab10-595c-45e3-848f-ff8319f135cf')\"\n",
              "              title=\"Suggest charts.\"\n",
              "              style=\"display:none;\">\n",
              "\n",
              "<svg xmlns=\"http://www.w3.org/2000/svg\" height=\"24px\"viewBox=\"0 0 24 24\"\n",
              "     width=\"24px\">\n",
              "    <g>\n",
              "        <path d=\"M19 3H5c-1.1 0-2 .9-2 2v14c0 1.1.9 2 2 2h14c1.1 0 2-.9 2-2V5c0-1.1-.9-2-2-2zM9 17H7v-7h2v7zm4 0h-2V7h2v10zm4 0h-2v-4h2v4z\"/>\n",
              "    </g>\n",
              "</svg>\n",
              "      </button>\n",
              "    </div>\n",
              "\n",
              "<style>\n",
              "  .colab-df-quickchart {\n",
              "    background-color: #E8F0FE;\n",
              "    border: none;\n",
              "    border-radius: 50%;\n",
              "    cursor: pointer;\n",
              "    display: none;\n",
              "    fill: #1967D2;\n",
              "    height: 32px;\n",
              "    padding: 0 0 0 0;\n",
              "    width: 32px;\n",
              "  }\n",
              "\n",
              "  .colab-df-quickchart:hover {\n",
              "    background-color: #E2EBFA;\n",
              "    box-shadow: 0px 1px 2px rgba(60, 64, 67, 0.3), 0px 1px 3px 1px rgba(60, 64, 67, 0.15);\n",
              "    fill: #174EA6;\n",
              "  }\n",
              "\n",
              "  [theme=dark] .colab-df-quickchart {\n",
              "    background-color: #3B4455;\n",
              "    fill: #D2E3FC;\n",
              "  }\n",
              "\n",
              "  [theme=dark] .colab-df-quickchart:hover {\n",
              "    background-color: #434B5C;\n",
              "    box-shadow: 0px 1px 3px 1px rgba(0, 0, 0, 0.15);\n",
              "    filter: drop-shadow(0px 1px 2px rgba(0, 0, 0, 0.3));\n",
              "    fill: #FFFFFF;\n",
              "  }\n",
              "</style>\n",
              "\n",
              "    <script>\n",
              "      async function quickchart(key) {\n",
              "        const containerElement = document.querySelector('#' + key);\n",
              "        const charts = await google.colab.kernel.invokeFunction(\n",
              "            'suggestCharts', [key], {});\n",
              "      }\n",
              "    </script>\n",
              "\n",
              "      <script>\n",
              "\n",
              "function displayQuickchartButton(domScope) {\n",
              "  let quickchartButtonEl =\n",
              "    domScope.querySelector('#df-7580ab10-595c-45e3-848f-ff8319f135cf button.colab-df-quickchart');\n",
              "  quickchartButtonEl.style.display =\n",
              "    google.colab.kernel.accessAllowed ? 'block' : 'none';\n",
              "}\n",
              "\n",
              "        displayQuickchartButton(document);\n",
              "      </script>\n",
              "      <style>\n",
              "    .colab-df-container {\n",
              "      display:flex;\n",
              "      flex-wrap:wrap;\n",
              "      gap: 12px;\n",
              "    }\n",
              "\n",
              "    .colab-df-convert {\n",
              "      background-color: #E8F0FE;\n",
              "      border: none;\n",
              "      border-radius: 50%;\n",
              "      cursor: pointer;\n",
              "      display: none;\n",
              "      fill: #1967D2;\n",
              "      height: 32px;\n",
              "      padding: 0 0 0 0;\n",
              "      width: 32px;\n",
              "    }\n",
              "\n",
              "    .colab-df-convert:hover {\n",
              "      background-color: #E2EBFA;\n",
              "      box-shadow: 0px 1px 2px rgba(60, 64, 67, 0.3), 0px 1px 3px 1px rgba(60, 64, 67, 0.15);\n",
              "      fill: #174EA6;\n",
              "    }\n",
              "\n",
              "    [theme=dark] .colab-df-convert {\n",
              "      background-color: #3B4455;\n",
              "      fill: #D2E3FC;\n",
              "    }\n",
              "\n",
              "    [theme=dark] .colab-df-convert:hover {\n",
              "      background-color: #434B5C;\n",
              "      box-shadow: 0px 1px 3px 1px rgba(0, 0, 0, 0.15);\n",
              "      filter: drop-shadow(0px 1px 2px rgba(0, 0, 0, 0.3));\n",
              "      fill: #FFFFFF;\n",
              "    }\n",
              "  </style>\n",
              "\n",
              "      <script>\n",
              "        const buttonEl =\n",
              "          document.querySelector('#df-f1f6909d-8c4c-4364-82dd-6f4509fa9fe1 button.colab-df-convert');\n",
              "        buttonEl.style.display =\n",
              "          google.colab.kernel.accessAllowed ? 'block' : 'none';\n",
              "\n",
              "        async function convertToInteractive(key) {\n",
              "          const element = document.querySelector('#df-f1f6909d-8c4c-4364-82dd-6f4509fa9fe1');\n",
              "          const dataTable =\n",
              "            await google.colab.kernel.invokeFunction('convertToInteractive',\n",
              "                                                     [key], {});\n",
              "          if (!dataTable) return;\n",
              "\n",
              "          const docLinkHtml = 'Like what you see? Visit the ' +\n",
              "            '<a target=\"_blank\" href=https://colab.research.google.com/notebooks/data_table.ipynb>data table notebook</a>'\n",
              "            + ' to learn more about interactive tables.';\n",
              "          element.innerHTML = '';\n",
              "          dataTable['output_type'] = 'display_data';\n",
              "          await google.colab.output.renderOutput(dataTable, element);\n",
              "          const docLink = document.createElement('div');\n",
              "          docLink.innerHTML = docLinkHtml;\n",
              "          element.appendChild(docLink);\n",
              "        }\n",
              "      </script>\n",
              "    </div>\n",
              "  </div>\n"
            ]
          },
          "metadata": {},
          "execution_count": 13
        }
      ]
    },
    {
      "cell_type": "code",
      "source": [
        "# Estado de conservación (1 si bueno, 0 el resto)\n",
        "vpo['techo_est']=0\n",
        "vpo.loc[(vpo['V02']==\"1\") , 'techo_est']=1\n",
        "\n",
        "vpo['pared_est']=0\n",
        "vpo.loc[(vpo['V04']==\"1\") , 'pared_est']=1\n",
        "\n",
        "vpo['suelo_est']=0\n",
        "vpo.loc[(vpo['V06']==\"1\") , 'suelo_est']=1\n",
        "\n",
        "vpo[['techo_est','pared_est','suelo_est']].describe()"
      ],
      "metadata": {
        "id": "LDHMEZhkk_7q",
        "outputId": "084962af-9251-4e11-827e-3cc45235cadb",
        "colab": {
          "base_uri": "https://localhost:8080/",
          "height": 300
        }
      },
      "execution_count": null,
      "outputs": [
        {
          "output_type": "execute_result",
          "data": {
            "text/plain": [
              "           techo_est      pared_est      suelo_est\n",
              "count  113708.000000  113708.000000  113708.000000\n",
              "mean        0.391415       0.432072       0.392417\n",
              "std         0.488069       0.495366       0.488291\n",
              "min         0.000000       0.000000       0.000000\n",
              "25%         0.000000       0.000000       0.000000\n",
              "50%         0.000000       0.000000       0.000000\n",
              "75%         1.000000       1.000000       1.000000\n",
              "max         1.000000       1.000000       1.000000"
            ],
            "text/html": [
              "\n",
              "\n",
              "  <div id=\"df-4196752f-c2b8-42ee-8552-19470d865314\">\n",
              "    <div class=\"colab-df-container\">\n",
              "      <div>\n",
              "<style scoped>\n",
              "    .dataframe tbody tr th:only-of-type {\n",
              "        vertical-align: middle;\n",
              "    }\n",
              "\n",
              "    .dataframe tbody tr th {\n",
              "        vertical-align: top;\n",
              "    }\n",
              "\n",
              "    .dataframe thead th {\n",
              "        text-align: right;\n",
              "    }\n",
              "</style>\n",
              "<table border=\"1\" class=\"dataframe\">\n",
              "  <thead>\n",
              "    <tr style=\"text-align: right;\">\n",
              "      <th></th>\n",
              "      <th>techo_est</th>\n",
              "      <th>pared_est</th>\n",
              "      <th>suelo_est</th>\n",
              "    </tr>\n",
              "  </thead>\n",
              "  <tbody>\n",
              "    <tr>\n",
              "      <th>count</th>\n",
              "      <td>113708.000000</td>\n",
              "      <td>113708.000000</td>\n",
              "      <td>113708.000000</td>\n",
              "    </tr>\n",
              "    <tr>\n",
              "      <th>mean</th>\n",
              "      <td>0.391415</td>\n",
              "      <td>0.432072</td>\n",
              "      <td>0.392417</td>\n",
              "    </tr>\n",
              "    <tr>\n",
              "      <th>std</th>\n",
              "      <td>0.488069</td>\n",
              "      <td>0.495366</td>\n",
              "      <td>0.488291</td>\n",
              "    </tr>\n",
              "    <tr>\n",
              "      <th>min</th>\n",
              "      <td>0.000000</td>\n",
              "      <td>0.000000</td>\n",
              "      <td>0.000000</td>\n",
              "    </tr>\n",
              "    <tr>\n",
              "      <th>25%</th>\n",
              "      <td>0.000000</td>\n",
              "      <td>0.000000</td>\n",
              "      <td>0.000000</td>\n",
              "    </tr>\n",
              "    <tr>\n",
              "      <th>50%</th>\n",
              "      <td>0.000000</td>\n",
              "      <td>0.000000</td>\n",
              "      <td>0.000000</td>\n",
              "    </tr>\n",
              "    <tr>\n",
              "      <th>75%</th>\n",
              "      <td>1.000000</td>\n",
              "      <td>1.000000</td>\n",
              "      <td>1.000000</td>\n",
              "    </tr>\n",
              "    <tr>\n",
              "      <th>max</th>\n",
              "      <td>1.000000</td>\n",
              "      <td>1.000000</td>\n",
              "      <td>1.000000</td>\n",
              "    </tr>\n",
              "  </tbody>\n",
              "</table>\n",
              "</div>\n",
              "      <button class=\"colab-df-convert\" onclick=\"convertToInteractive('df-4196752f-c2b8-42ee-8552-19470d865314')\"\n",
              "              title=\"Convert this dataframe to an interactive table.\"\n",
              "              style=\"display:none;\">\n",
              "\n",
              "  <svg xmlns=\"http://www.w3.org/2000/svg\" height=\"24px\"viewBox=\"0 0 24 24\"\n",
              "       width=\"24px\">\n",
              "    <path d=\"M0 0h24v24H0V0z\" fill=\"none\"/>\n",
              "    <path d=\"M18.56 5.44l.94 2.06.94-2.06 2.06-.94-2.06-.94-.94-2.06-.94 2.06-2.06.94zm-11 1L8.5 8.5l.94-2.06 2.06-.94-2.06-.94L8.5 2.5l-.94 2.06-2.06.94zm10 10l.94 2.06.94-2.06 2.06-.94-2.06-.94-.94-2.06-.94 2.06-2.06.94z\"/><path d=\"M17.41 7.96l-1.37-1.37c-.4-.4-.92-.59-1.43-.59-.52 0-1.04.2-1.43.59L10.3 9.45l-7.72 7.72c-.78.78-.78 2.05 0 2.83L4 21.41c.39.39.9.59 1.41.59.51 0 1.02-.2 1.41-.59l7.78-7.78 2.81-2.81c.8-.78.8-2.07 0-2.86zM5.41 20L4 18.59l7.72-7.72 1.47 1.35L5.41 20z\"/>\n",
              "  </svg>\n",
              "      </button>\n",
              "\n",
              "\n",
              "\n",
              "    <div id=\"df-5e5c1567-1a85-4a7d-b7df-c147adece8e4\">\n",
              "      <button class=\"colab-df-quickchart\" onclick=\"quickchart('df-5e5c1567-1a85-4a7d-b7df-c147adece8e4')\"\n",
              "              title=\"Suggest charts.\"\n",
              "              style=\"display:none;\">\n",
              "\n",
              "<svg xmlns=\"http://www.w3.org/2000/svg\" height=\"24px\"viewBox=\"0 0 24 24\"\n",
              "     width=\"24px\">\n",
              "    <g>\n",
              "        <path d=\"M19 3H5c-1.1 0-2 .9-2 2v14c0 1.1.9 2 2 2h14c1.1 0 2-.9 2-2V5c0-1.1-.9-2-2-2zM9 17H7v-7h2v7zm4 0h-2V7h2v10zm4 0h-2v-4h2v4z\"/>\n",
              "    </g>\n",
              "</svg>\n",
              "      </button>\n",
              "    </div>\n",
              "\n",
              "<style>\n",
              "  .colab-df-quickchart {\n",
              "    background-color: #E8F0FE;\n",
              "    border: none;\n",
              "    border-radius: 50%;\n",
              "    cursor: pointer;\n",
              "    display: none;\n",
              "    fill: #1967D2;\n",
              "    height: 32px;\n",
              "    padding: 0 0 0 0;\n",
              "    width: 32px;\n",
              "  }\n",
              "\n",
              "  .colab-df-quickchart:hover {\n",
              "    background-color: #E2EBFA;\n",
              "    box-shadow: 0px 1px 2px rgba(60, 64, 67, 0.3), 0px 1px 3px 1px rgba(60, 64, 67, 0.15);\n",
              "    fill: #174EA6;\n",
              "  }\n",
              "\n",
              "  [theme=dark] .colab-df-quickchart {\n",
              "    background-color: #3B4455;\n",
              "    fill: #D2E3FC;\n",
              "  }\n",
              "\n",
              "  [theme=dark] .colab-df-quickchart:hover {\n",
              "    background-color: #434B5C;\n",
              "    box-shadow: 0px 1px 3px 1px rgba(0, 0, 0, 0.15);\n",
              "    filter: drop-shadow(0px 1px 2px rgba(0, 0, 0, 0.3));\n",
              "    fill: #FFFFFF;\n",
              "  }\n",
              "</style>\n",
              "\n",
              "    <script>\n",
              "      async function quickchart(key) {\n",
              "        const containerElement = document.querySelector('#' + key);\n",
              "        const charts = await google.colab.kernel.invokeFunction(\n",
              "            'suggestCharts', [key], {});\n",
              "      }\n",
              "    </script>\n",
              "\n",
              "      <script>\n",
              "\n",
              "function displayQuickchartButton(domScope) {\n",
              "  let quickchartButtonEl =\n",
              "    domScope.querySelector('#df-5e5c1567-1a85-4a7d-b7df-c147adece8e4 button.colab-df-quickchart');\n",
              "  quickchartButtonEl.style.display =\n",
              "    google.colab.kernel.accessAllowed ? 'block' : 'none';\n",
              "}\n",
              "\n",
              "        displayQuickchartButton(document);\n",
              "      </script>\n",
              "      <style>\n",
              "    .colab-df-container {\n",
              "      display:flex;\n",
              "      flex-wrap:wrap;\n",
              "      gap: 12px;\n",
              "    }\n",
              "\n",
              "    .colab-df-convert {\n",
              "      background-color: #E8F0FE;\n",
              "      border: none;\n",
              "      border-radius: 50%;\n",
              "      cursor: pointer;\n",
              "      display: none;\n",
              "      fill: #1967D2;\n",
              "      height: 32px;\n",
              "      padding: 0 0 0 0;\n",
              "      width: 32px;\n",
              "    }\n",
              "\n",
              "    .colab-df-convert:hover {\n",
              "      background-color: #E2EBFA;\n",
              "      box-shadow: 0px 1px 2px rgba(60, 64, 67, 0.3), 0px 1px 3px 1px rgba(60, 64, 67, 0.15);\n",
              "      fill: #174EA6;\n",
              "    }\n",
              "\n",
              "    [theme=dark] .colab-df-convert {\n",
              "      background-color: #3B4455;\n",
              "      fill: #D2E3FC;\n",
              "    }\n",
              "\n",
              "    [theme=dark] .colab-df-convert:hover {\n",
              "      background-color: #434B5C;\n",
              "      box-shadow: 0px 1px 3px 1px rgba(0, 0, 0, 0.15);\n",
              "      filter: drop-shadow(0px 1px 2px rgba(0, 0, 0, 0.3));\n",
              "      fill: #FFFFFF;\n",
              "    }\n",
              "  </style>\n",
              "\n",
              "      <script>\n",
              "        const buttonEl =\n",
              "          document.querySelector('#df-4196752f-c2b8-42ee-8552-19470d865314 button.colab-df-convert');\n",
              "        buttonEl.style.display =\n",
              "          google.colab.kernel.accessAllowed ? 'block' : 'none';\n",
              "\n",
              "        async function convertToInteractive(key) {\n",
              "          const element = document.querySelector('#df-4196752f-c2b8-42ee-8552-19470d865314');\n",
              "          const dataTable =\n",
              "            await google.colab.kernel.invokeFunction('convertToInteractive',\n",
              "                                                     [key], {});\n",
              "          if (!dataTable) return;\n",
              "\n",
              "          const docLinkHtml = 'Like what you see? Visit the ' +\n",
              "            '<a target=\"_blank\" href=https://colab.research.google.com/notebooks/data_table.ipynb>data table notebook</a>'\n",
              "            + ' to learn more about interactive tables.';\n",
              "          element.innerHTML = '';\n",
              "          dataTable['output_type'] = 'display_data';\n",
              "          await google.colab.output.renderOutput(dataTable, element);\n",
              "          const docLink = document.createElement('div');\n",
              "          docLink.innerHTML = docLinkHtml;\n",
              "          element.appendChild(docLink);\n",
              "        }\n",
              "      </script>\n",
              "    </div>\n",
              "  </div>\n"
            ]
          },
          "metadata": {},
          "execution_count": 14
        }
      ]
    },
    {
      "cell_type": "markdown",
      "source": [
        "Ahora ya podemos pasar a agrupar por cantones (variable I02) usando la función ```groupby()```. Antes de ello, vamos a crear una variable que toma siempre el valor 1 para contabilizar el total de viviendas en cada cantón."
      ],
      "metadata": {
        "id": "NToRAoaHlucY"
      }
    },
    {
      "cell_type": "code",
      "source": [
        "vpo[\"num\"]=1\n",
        "\n",
        "vpo_c=vpo[['I02','num','TOTPER', 'techo_mat', 'pared_mat',\n",
        "       'suelo_mat', 'techo_est', 'pared_est', 'suelo_est']].groupby(\"I02\").sum()"
      ],
      "metadata": {
        "id": "U4ucf3LmmIV2"
      },
      "execution_count": null,
      "outputs": []
    },
    {
      "cell_type": "code",
      "source": [
        "# Esta es la tabla agregada a nivel cantonal\n",
        "vpo_c"
      ],
      "metadata": {
        "id": "3j5MpYPomXyu",
        "outputId": "6420255f-33bf-4429-dab7-d375b107537d",
        "colab": {
          "base_uri": "https://localhost:8080/",
          "height": 582
        }
      },
      "execution_count": null,
      "outputs": [
        {
          "output_type": "execute_result",
          "data": {
            "text/plain": [
              "       num  TOTPER  techo_mat  pared_mat  suelo_mat  techo_est  pared_est  \\\n",
              "I02                                                                         \n",
              "1    54729  212208      40536      40987      30944      27956      30653   \n",
              "2     6768   27736       5769       3764       1857       2339       2516   \n",
              "3     7589   30419       5811       4868       1458       2460       2774   \n",
              "4     3483   14042       2088       1784        605       1116       1165   \n",
              "5     1983    7020       1535        963        125        469        554   \n",
              "6     3443   14773       2703       1192        239        878        904   \n",
              "7     3606   12692       3030       1152        330        798        919   \n",
              "8     4696   18589       2228       2366        757       1420       1598   \n",
              "9     6196   23733       4956       1917        625       1692       1917   \n",
              "10    4014   15427       1616       2175        536       1274       1480   \n",
              "11    7644   30136       5983       2000       1097       1925       2190   \n",
              "12    1838    7459       1408        426         73        391        466   \n",
              "13    3196   12249       1200       1381        159        827        890   \n",
              "14    2008    8625       1131        761        117        425        528   \n",
              "15    1142    4328        924        384        103        249        265   \n",
              "16    1373    4863       1192        455         63        288        311   \n",
              "\n",
              "     suelo_est  \n",
              "I02             \n",
              "1        29183  \n",
              "2         2184  \n",
              "3         2518  \n",
              "4          985  \n",
              "5          437  \n",
              "6          742  \n",
              "7          732  \n",
              "8         1352  \n",
              "9         1586  \n",
              "10        1263  \n",
              "11        1887  \n",
              "12         329  \n",
              "13         601  \n",
              "14         369  \n",
              "15         190  \n",
              "16         263  "
            ],
            "text/html": [
              "\n",
              "\n",
              "  <div id=\"df-4aa58cbc-3c9f-44e3-a2ff-757eafa65535\">\n",
              "    <div class=\"colab-df-container\">\n",
              "      <div>\n",
              "<style scoped>\n",
              "    .dataframe tbody tr th:only-of-type {\n",
              "        vertical-align: middle;\n",
              "    }\n",
              "\n",
              "    .dataframe tbody tr th {\n",
              "        vertical-align: top;\n",
              "    }\n",
              "\n",
              "    .dataframe thead th {\n",
              "        text-align: right;\n",
              "    }\n",
              "</style>\n",
              "<table border=\"1\" class=\"dataframe\">\n",
              "  <thead>\n",
              "    <tr style=\"text-align: right;\">\n",
              "      <th></th>\n",
              "      <th>num</th>\n",
              "      <th>TOTPER</th>\n",
              "      <th>techo_mat</th>\n",
              "      <th>pared_mat</th>\n",
              "      <th>suelo_mat</th>\n",
              "      <th>techo_est</th>\n",
              "      <th>pared_est</th>\n",
              "      <th>suelo_est</th>\n",
              "    </tr>\n",
              "    <tr>\n",
              "      <th>I02</th>\n",
              "      <th></th>\n",
              "      <th></th>\n",
              "      <th></th>\n",
              "      <th></th>\n",
              "      <th></th>\n",
              "      <th></th>\n",
              "      <th></th>\n",
              "      <th></th>\n",
              "    </tr>\n",
              "  </thead>\n",
              "  <tbody>\n",
              "    <tr>\n",
              "      <th>1</th>\n",
              "      <td>54729</td>\n",
              "      <td>212208</td>\n",
              "      <td>40536</td>\n",
              "      <td>40987</td>\n",
              "      <td>30944</td>\n",
              "      <td>27956</td>\n",
              "      <td>30653</td>\n",
              "      <td>29183</td>\n",
              "    </tr>\n",
              "    <tr>\n",
              "      <th>2</th>\n",
              "      <td>6768</td>\n",
              "      <td>27736</td>\n",
              "      <td>5769</td>\n",
              "      <td>3764</td>\n",
              "      <td>1857</td>\n",
              "      <td>2339</td>\n",
              "      <td>2516</td>\n",
              "      <td>2184</td>\n",
              "    </tr>\n",
              "    <tr>\n",
              "      <th>3</th>\n",
              "      <td>7589</td>\n",
              "      <td>30419</td>\n",
              "      <td>5811</td>\n",
              "      <td>4868</td>\n",
              "      <td>1458</td>\n",
              "      <td>2460</td>\n",
              "      <td>2774</td>\n",
              "      <td>2518</td>\n",
              "    </tr>\n",
              "    <tr>\n",
              "      <th>4</th>\n",
              "      <td>3483</td>\n",
              "      <td>14042</td>\n",
              "      <td>2088</td>\n",
              "      <td>1784</td>\n",
              "      <td>605</td>\n",
              "      <td>1116</td>\n",
              "      <td>1165</td>\n",
              "      <td>985</td>\n",
              "    </tr>\n",
              "    <tr>\n",
              "      <th>5</th>\n",
              "      <td>1983</td>\n",
              "      <td>7020</td>\n",
              "      <td>1535</td>\n",
              "      <td>963</td>\n",
              "      <td>125</td>\n",
              "      <td>469</td>\n",
              "      <td>554</td>\n",
              "      <td>437</td>\n",
              "    </tr>\n",
              "    <tr>\n",
              "      <th>6</th>\n",
              "      <td>3443</td>\n",
              "      <td>14773</td>\n",
              "      <td>2703</td>\n",
              "      <td>1192</td>\n",
              "      <td>239</td>\n",
              "      <td>878</td>\n",
              "      <td>904</td>\n",
              "      <td>742</td>\n",
              "    </tr>\n",
              "    <tr>\n",
              "      <th>7</th>\n",
              "      <td>3606</td>\n",
              "      <td>12692</td>\n",
              "      <td>3030</td>\n",
              "      <td>1152</td>\n",
              "      <td>330</td>\n",
              "      <td>798</td>\n",
              "      <td>919</td>\n",
              "      <td>732</td>\n",
              "    </tr>\n",
              "    <tr>\n",
              "      <th>8</th>\n",
              "      <td>4696</td>\n",
              "      <td>18589</td>\n",
              "      <td>2228</td>\n",
              "      <td>2366</td>\n",
              "      <td>757</td>\n",
              "      <td>1420</td>\n",
              "      <td>1598</td>\n",
              "      <td>1352</td>\n",
              "    </tr>\n",
              "    <tr>\n",
              "      <th>9</th>\n",
              "      <td>6196</td>\n",
              "      <td>23733</td>\n",
              "      <td>4956</td>\n",
              "      <td>1917</td>\n",
              "      <td>625</td>\n",
              "      <td>1692</td>\n",
              "      <td>1917</td>\n",
              "      <td>1586</td>\n",
              "    </tr>\n",
              "    <tr>\n",
              "      <th>10</th>\n",
              "      <td>4014</td>\n",
              "      <td>15427</td>\n",
              "      <td>1616</td>\n",
              "      <td>2175</td>\n",
              "      <td>536</td>\n",
              "      <td>1274</td>\n",
              "      <td>1480</td>\n",
              "      <td>1263</td>\n",
              "    </tr>\n",
              "    <tr>\n",
              "      <th>11</th>\n",
              "      <td>7644</td>\n",
              "      <td>30136</td>\n",
              "      <td>5983</td>\n",
              "      <td>2000</td>\n",
              "      <td>1097</td>\n",
              "      <td>1925</td>\n",
              "      <td>2190</td>\n",
              "      <td>1887</td>\n",
              "    </tr>\n",
              "    <tr>\n",
              "      <th>12</th>\n",
              "      <td>1838</td>\n",
              "      <td>7459</td>\n",
              "      <td>1408</td>\n",
              "      <td>426</td>\n",
              "      <td>73</td>\n",
              "      <td>391</td>\n",
              "      <td>466</td>\n",
              "      <td>329</td>\n",
              "    </tr>\n",
              "    <tr>\n",
              "      <th>13</th>\n",
              "      <td>3196</td>\n",
              "      <td>12249</td>\n",
              "      <td>1200</td>\n",
              "      <td>1381</td>\n",
              "      <td>159</td>\n",
              "      <td>827</td>\n",
              "      <td>890</td>\n",
              "      <td>601</td>\n",
              "    </tr>\n",
              "    <tr>\n",
              "      <th>14</th>\n",
              "      <td>2008</td>\n",
              "      <td>8625</td>\n",
              "      <td>1131</td>\n",
              "      <td>761</td>\n",
              "      <td>117</td>\n",
              "      <td>425</td>\n",
              "      <td>528</td>\n",
              "      <td>369</td>\n",
              "    </tr>\n",
              "    <tr>\n",
              "      <th>15</th>\n",
              "      <td>1142</td>\n",
              "      <td>4328</td>\n",
              "      <td>924</td>\n",
              "      <td>384</td>\n",
              "      <td>103</td>\n",
              "      <td>249</td>\n",
              "      <td>265</td>\n",
              "      <td>190</td>\n",
              "    </tr>\n",
              "    <tr>\n",
              "      <th>16</th>\n",
              "      <td>1373</td>\n",
              "      <td>4863</td>\n",
              "      <td>1192</td>\n",
              "      <td>455</td>\n",
              "      <td>63</td>\n",
              "      <td>288</td>\n",
              "      <td>311</td>\n",
              "      <td>263</td>\n",
              "    </tr>\n",
              "  </tbody>\n",
              "</table>\n",
              "</div>\n",
              "      <button class=\"colab-df-convert\" onclick=\"convertToInteractive('df-4aa58cbc-3c9f-44e3-a2ff-757eafa65535')\"\n",
              "              title=\"Convert this dataframe to an interactive table.\"\n",
              "              style=\"display:none;\">\n",
              "\n",
              "  <svg xmlns=\"http://www.w3.org/2000/svg\" height=\"24px\"viewBox=\"0 0 24 24\"\n",
              "       width=\"24px\">\n",
              "    <path d=\"M0 0h24v24H0V0z\" fill=\"none\"/>\n",
              "    <path d=\"M18.56 5.44l.94 2.06.94-2.06 2.06-.94-2.06-.94-.94-2.06-.94 2.06-2.06.94zm-11 1L8.5 8.5l.94-2.06 2.06-.94-2.06-.94L8.5 2.5l-.94 2.06-2.06.94zm10 10l.94 2.06.94-2.06 2.06-.94-2.06-.94-.94-2.06-.94 2.06-2.06.94z\"/><path d=\"M17.41 7.96l-1.37-1.37c-.4-.4-.92-.59-1.43-.59-.52 0-1.04.2-1.43.59L10.3 9.45l-7.72 7.72c-.78.78-.78 2.05 0 2.83L4 21.41c.39.39.9.59 1.41.59.51 0 1.02-.2 1.41-.59l7.78-7.78 2.81-2.81c.8-.78.8-2.07 0-2.86zM5.41 20L4 18.59l7.72-7.72 1.47 1.35L5.41 20z\"/>\n",
              "  </svg>\n",
              "      </button>\n",
              "\n",
              "\n",
              "\n",
              "    <div id=\"df-6cf0655d-bee1-403f-aaad-d7b4d6ebd971\">\n",
              "      <button class=\"colab-df-quickchart\" onclick=\"quickchart('df-6cf0655d-bee1-403f-aaad-d7b4d6ebd971')\"\n",
              "              title=\"Suggest charts.\"\n",
              "              style=\"display:none;\">\n",
              "\n",
              "<svg xmlns=\"http://www.w3.org/2000/svg\" height=\"24px\"viewBox=\"0 0 24 24\"\n",
              "     width=\"24px\">\n",
              "    <g>\n",
              "        <path d=\"M19 3H5c-1.1 0-2 .9-2 2v14c0 1.1.9 2 2 2h14c1.1 0 2-.9 2-2V5c0-1.1-.9-2-2-2zM9 17H7v-7h2v7zm4 0h-2V7h2v10zm4 0h-2v-4h2v4z\"/>\n",
              "    </g>\n",
              "</svg>\n",
              "      </button>\n",
              "    </div>\n",
              "\n",
              "<style>\n",
              "  .colab-df-quickchart {\n",
              "    background-color: #E8F0FE;\n",
              "    border: none;\n",
              "    border-radius: 50%;\n",
              "    cursor: pointer;\n",
              "    display: none;\n",
              "    fill: #1967D2;\n",
              "    height: 32px;\n",
              "    padding: 0 0 0 0;\n",
              "    width: 32px;\n",
              "  }\n",
              "\n",
              "  .colab-df-quickchart:hover {\n",
              "    background-color: #E2EBFA;\n",
              "    box-shadow: 0px 1px 2px rgba(60, 64, 67, 0.3), 0px 1px 3px 1px rgba(60, 64, 67, 0.15);\n",
              "    fill: #174EA6;\n",
              "  }\n",
              "\n",
              "  [theme=dark] .colab-df-quickchart {\n",
              "    background-color: #3B4455;\n",
              "    fill: #D2E3FC;\n",
              "  }\n",
              "\n",
              "  [theme=dark] .colab-df-quickchart:hover {\n",
              "    background-color: #434B5C;\n",
              "    box-shadow: 0px 1px 3px 1px rgba(0, 0, 0, 0.15);\n",
              "    filter: drop-shadow(0px 1px 2px rgba(0, 0, 0, 0.3));\n",
              "    fill: #FFFFFF;\n",
              "  }\n",
              "</style>\n",
              "\n",
              "    <script>\n",
              "      async function quickchart(key) {\n",
              "        const containerElement = document.querySelector('#' + key);\n",
              "        const charts = await google.colab.kernel.invokeFunction(\n",
              "            'suggestCharts', [key], {});\n",
              "      }\n",
              "    </script>\n",
              "\n",
              "      <script>\n",
              "\n",
              "function displayQuickchartButton(domScope) {\n",
              "  let quickchartButtonEl =\n",
              "    domScope.querySelector('#df-6cf0655d-bee1-403f-aaad-d7b4d6ebd971 button.colab-df-quickchart');\n",
              "  quickchartButtonEl.style.display =\n",
              "    google.colab.kernel.accessAllowed ? 'block' : 'none';\n",
              "}\n",
              "\n",
              "        displayQuickchartButton(document);\n",
              "      </script>\n",
              "      <style>\n",
              "    .colab-df-container {\n",
              "      display:flex;\n",
              "      flex-wrap:wrap;\n",
              "      gap: 12px;\n",
              "    }\n",
              "\n",
              "    .colab-df-convert {\n",
              "      background-color: #E8F0FE;\n",
              "      border: none;\n",
              "      border-radius: 50%;\n",
              "      cursor: pointer;\n",
              "      display: none;\n",
              "      fill: #1967D2;\n",
              "      height: 32px;\n",
              "      padding: 0 0 0 0;\n",
              "      width: 32px;\n",
              "    }\n",
              "\n",
              "    .colab-df-convert:hover {\n",
              "      background-color: #E2EBFA;\n",
              "      box-shadow: 0px 1px 2px rgba(60, 64, 67, 0.3), 0px 1px 3px 1px rgba(60, 64, 67, 0.15);\n",
              "      fill: #174EA6;\n",
              "    }\n",
              "\n",
              "    [theme=dark] .colab-df-convert {\n",
              "      background-color: #3B4455;\n",
              "      fill: #D2E3FC;\n",
              "    }\n",
              "\n",
              "    [theme=dark] .colab-df-convert:hover {\n",
              "      background-color: #434B5C;\n",
              "      box-shadow: 0px 1px 3px 1px rgba(0, 0, 0, 0.15);\n",
              "      filter: drop-shadow(0px 1px 2px rgba(0, 0, 0, 0.3));\n",
              "      fill: #FFFFFF;\n",
              "    }\n",
              "  </style>\n",
              "\n",
              "      <script>\n",
              "        const buttonEl =\n",
              "          document.querySelector('#df-4aa58cbc-3c9f-44e3-a2ff-757eafa65535 button.colab-df-convert');\n",
              "        buttonEl.style.display =\n",
              "          google.colab.kernel.accessAllowed ? 'block' : 'none';\n",
              "\n",
              "        async function convertToInteractive(key) {\n",
              "          const element = document.querySelector('#df-4aa58cbc-3c9f-44e3-a2ff-757eafa65535');\n",
              "          const dataTable =\n",
              "            await google.colab.kernel.invokeFunction('convertToInteractive',\n",
              "                                                     [key], {});\n",
              "          if (!dataTable) return;\n",
              "\n",
              "          const docLinkHtml = 'Like what you see? Visit the ' +\n",
              "            '<a target=\"_blank\" href=https://colab.research.google.com/notebooks/data_table.ipynb>data table notebook</a>'\n",
              "            + ' to learn more about interactive tables.';\n",
              "          element.innerHTML = '';\n",
              "          dataTable['output_type'] = 'display_data';\n",
              "          await google.colab.output.renderOutput(dataTable, element);\n",
              "          const docLink = document.createElement('div');\n",
              "          docLink.innerHTML = docLinkHtml;\n",
              "          element.appendChild(docLink);\n",
              "        }\n",
              "      </script>\n",
              "    </div>\n",
              "  </div>\n"
            ]
          },
          "metadata": {},
          "execution_count": 17
        }
      ]
    },
    {
      "cell_type": "markdown",
      "source": [
        "Obsérvese que la función ```sum()``` tiene sentido para agregar estas variables. Por el contrario, no hubiera tenido sentido agregar de esta manera las variables originales (V01, V03 ...).  \n",
        "Por otra parte, sería interesante conocer el nombre de cada cantón, no solo su código numérico. Para ello, vamos a enlazar esta tabla con otra que contiene el código y nombre de cada cantón. Está disponible [aquí](https://github.com/otoperalias/teaching/blob/TallerUTE_AnalisisCuanti/material/cantones_loja.xlsx). Tenemos que descargarlo y subirlo a Google Colab."
      ],
      "metadata": {
        "id": "dZ-pXlCDqmtR"
      }
    },
    {
      "cell_type": "code",
      "source": [
        "cantones=pd.read_excel(\"cantones_loja.xlsx\")\n",
        "cantones"
      ],
      "metadata": {
        "id": "fe8ra4bvq8Gs",
        "outputId": "ee6c5477-b060-48c0-8778-68908a66e089",
        "colab": {
          "base_uri": "https://localhost:8080/",
          "height": 551
        }
      },
      "execution_count": null,
      "outputs": [
        {
          "output_type": "execute_result",
          "data": {
            "text/plain": [
              "    I02         Cantón\n",
              "0     1           Loja\n",
              "1     2         Calvas\n",
              "2     3       Catamayo\n",
              "3     4         Celica\n",
              "4     5   Chaguarpamba\n",
              "5     6      Espindola\n",
              "6     7      Gonzanama\n",
              "7     8         Macara\n",
              "8     9         Paltas\n",
              "9    10        Puyango\n",
              "10   11       Saraguro\n",
              "11   12      Sozoranga\n",
              "12   13      Zapotillo\n",
              "13   14         Pindal\n",
              "14   15       Quilanga\n",
              "15   16         Olmedo"
            ],
            "text/html": [
              "\n",
              "\n",
              "  <div id=\"df-99921aa2-298f-447a-aa6a-f78388ae37ad\">\n",
              "    <div class=\"colab-df-container\">\n",
              "      <div>\n",
              "<style scoped>\n",
              "    .dataframe tbody tr th:only-of-type {\n",
              "        vertical-align: middle;\n",
              "    }\n",
              "\n",
              "    .dataframe tbody tr th {\n",
              "        vertical-align: top;\n",
              "    }\n",
              "\n",
              "    .dataframe thead th {\n",
              "        text-align: right;\n",
              "    }\n",
              "</style>\n",
              "<table border=\"1\" class=\"dataframe\">\n",
              "  <thead>\n",
              "    <tr style=\"text-align: right;\">\n",
              "      <th></th>\n",
              "      <th>I02</th>\n",
              "      <th>Cantón</th>\n",
              "    </tr>\n",
              "  </thead>\n",
              "  <tbody>\n",
              "    <tr>\n",
              "      <th>0</th>\n",
              "      <td>1</td>\n",
              "      <td>Loja</td>\n",
              "    </tr>\n",
              "    <tr>\n",
              "      <th>1</th>\n",
              "      <td>2</td>\n",
              "      <td>Calvas</td>\n",
              "    </tr>\n",
              "    <tr>\n",
              "      <th>2</th>\n",
              "      <td>3</td>\n",
              "      <td>Catamayo</td>\n",
              "    </tr>\n",
              "    <tr>\n",
              "      <th>3</th>\n",
              "      <td>4</td>\n",
              "      <td>Celica</td>\n",
              "    </tr>\n",
              "    <tr>\n",
              "      <th>4</th>\n",
              "      <td>5</td>\n",
              "      <td>Chaguarpamba</td>\n",
              "    </tr>\n",
              "    <tr>\n",
              "      <th>5</th>\n",
              "      <td>6</td>\n",
              "      <td>Espindola</td>\n",
              "    </tr>\n",
              "    <tr>\n",
              "      <th>6</th>\n",
              "      <td>7</td>\n",
              "      <td>Gonzanama</td>\n",
              "    </tr>\n",
              "    <tr>\n",
              "      <th>7</th>\n",
              "      <td>8</td>\n",
              "      <td>Macara</td>\n",
              "    </tr>\n",
              "    <tr>\n",
              "      <th>8</th>\n",
              "      <td>9</td>\n",
              "      <td>Paltas</td>\n",
              "    </tr>\n",
              "    <tr>\n",
              "      <th>9</th>\n",
              "      <td>10</td>\n",
              "      <td>Puyango</td>\n",
              "    </tr>\n",
              "    <tr>\n",
              "      <th>10</th>\n",
              "      <td>11</td>\n",
              "      <td>Saraguro</td>\n",
              "    </tr>\n",
              "    <tr>\n",
              "      <th>11</th>\n",
              "      <td>12</td>\n",
              "      <td>Sozoranga</td>\n",
              "    </tr>\n",
              "    <tr>\n",
              "      <th>12</th>\n",
              "      <td>13</td>\n",
              "      <td>Zapotillo</td>\n",
              "    </tr>\n",
              "    <tr>\n",
              "      <th>13</th>\n",
              "      <td>14</td>\n",
              "      <td>Pindal</td>\n",
              "    </tr>\n",
              "    <tr>\n",
              "      <th>14</th>\n",
              "      <td>15</td>\n",
              "      <td>Quilanga</td>\n",
              "    </tr>\n",
              "    <tr>\n",
              "      <th>15</th>\n",
              "      <td>16</td>\n",
              "      <td>Olmedo</td>\n",
              "    </tr>\n",
              "  </tbody>\n",
              "</table>\n",
              "</div>\n",
              "      <button class=\"colab-df-convert\" onclick=\"convertToInteractive('df-99921aa2-298f-447a-aa6a-f78388ae37ad')\"\n",
              "              title=\"Convert this dataframe to an interactive table.\"\n",
              "              style=\"display:none;\">\n",
              "\n",
              "  <svg xmlns=\"http://www.w3.org/2000/svg\" height=\"24px\"viewBox=\"0 0 24 24\"\n",
              "       width=\"24px\">\n",
              "    <path d=\"M0 0h24v24H0V0z\" fill=\"none\"/>\n",
              "    <path d=\"M18.56 5.44l.94 2.06.94-2.06 2.06-.94-2.06-.94-.94-2.06-.94 2.06-2.06.94zm-11 1L8.5 8.5l.94-2.06 2.06-.94-2.06-.94L8.5 2.5l-.94 2.06-2.06.94zm10 10l.94 2.06.94-2.06 2.06-.94-2.06-.94-.94-2.06-.94 2.06-2.06.94z\"/><path d=\"M17.41 7.96l-1.37-1.37c-.4-.4-.92-.59-1.43-.59-.52 0-1.04.2-1.43.59L10.3 9.45l-7.72 7.72c-.78.78-.78 2.05 0 2.83L4 21.41c.39.39.9.59 1.41.59.51 0 1.02-.2 1.41-.59l7.78-7.78 2.81-2.81c.8-.78.8-2.07 0-2.86zM5.41 20L4 18.59l7.72-7.72 1.47 1.35L5.41 20z\"/>\n",
              "  </svg>\n",
              "      </button>\n",
              "\n",
              "\n",
              "\n",
              "    <div id=\"df-2169f343-7bf5-4ccc-859a-2d00dbb59f18\">\n",
              "      <button class=\"colab-df-quickchart\" onclick=\"quickchart('df-2169f343-7bf5-4ccc-859a-2d00dbb59f18')\"\n",
              "              title=\"Suggest charts.\"\n",
              "              style=\"display:none;\">\n",
              "\n",
              "<svg xmlns=\"http://www.w3.org/2000/svg\" height=\"24px\"viewBox=\"0 0 24 24\"\n",
              "     width=\"24px\">\n",
              "    <g>\n",
              "        <path d=\"M19 3H5c-1.1 0-2 .9-2 2v14c0 1.1.9 2 2 2h14c1.1 0 2-.9 2-2V5c0-1.1-.9-2-2-2zM9 17H7v-7h2v7zm4 0h-2V7h2v10zm4 0h-2v-4h2v4z\"/>\n",
              "    </g>\n",
              "</svg>\n",
              "      </button>\n",
              "    </div>\n",
              "\n",
              "<style>\n",
              "  .colab-df-quickchart {\n",
              "    background-color: #E8F0FE;\n",
              "    border: none;\n",
              "    border-radius: 50%;\n",
              "    cursor: pointer;\n",
              "    display: none;\n",
              "    fill: #1967D2;\n",
              "    height: 32px;\n",
              "    padding: 0 0 0 0;\n",
              "    width: 32px;\n",
              "  }\n",
              "\n",
              "  .colab-df-quickchart:hover {\n",
              "    background-color: #E2EBFA;\n",
              "    box-shadow: 0px 1px 2px rgba(60, 64, 67, 0.3), 0px 1px 3px 1px rgba(60, 64, 67, 0.15);\n",
              "    fill: #174EA6;\n",
              "  }\n",
              "\n",
              "  [theme=dark] .colab-df-quickchart {\n",
              "    background-color: #3B4455;\n",
              "    fill: #D2E3FC;\n",
              "  }\n",
              "\n",
              "  [theme=dark] .colab-df-quickchart:hover {\n",
              "    background-color: #434B5C;\n",
              "    box-shadow: 0px 1px 3px 1px rgba(0, 0, 0, 0.15);\n",
              "    filter: drop-shadow(0px 1px 2px rgba(0, 0, 0, 0.3));\n",
              "    fill: #FFFFFF;\n",
              "  }\n",
              "</style>\n",
              "\n",
              "    <script>\n",
              "      async function quickchart(key) {\n",
              "        const containerElement = document.querySelector('#' + key);\n",
              "        const charts = await google.colab.kernel.invokeFunction(\n",
              "            'suggestCharts', [key], {});\n",
              "      }\n",
              "    </script>\n",
              "\n",
              "      <script>\n",
              "\n",
              "function displayQuickchartButton(domScope) {\n",
              "  let quickchartButtonEl =\n",
              "    domScope.querySelector('#df-2169f343-7bf5-4ccc-859a-2d00dbb59f18 button.colab-df-quickchart');\n",
              "  quickchartButtonEl.style.display =\n",
              "    google.colab.kernel.accessAllowed ? 'block' : 'none';\n",
              "}\n",
              "\n",
              "        displayQuickchartButton(document);\n",
              "      </script>\n",
              "      <style>\n",
              "    .colab-df-container {\n",
              "      display:flex;\n",
              "      flex-wrap:wrap;\n",
              "      gap: 12px;\n",
              "    }\n",
              "\n",
              "    .colab-df-convert {\n",
              "      background-color: #E8F0FE;\n",
              "      border: none;\n",
              "      border-radius: 50%;\n",
              "      cursor: pointer;\n",
              "      display: none;\n",
              "      fill: #1967D2;\n",
              "      height: 32px;\n",
              "      padding: 0 0 0 0;\n",
              "      width: 32px;\n",
              "    }\n",
              "\n",
              "    .colab-df-convert:hover {\n",
              "      background-color: #E2EBFA;\n",
              "      box-shadow: 0px 1px 2px rgba(60, 64, 67, 0.3), 0px 1px 3px 1px rgba(60, 64, 67, 0.15);\n",
              "      fill: #174EA6;\n",
              "    }\n",
              "\n",
              "    [theme=dark] .colab-df-convert {\n",
              "      background-color: #3B4455;\n",
              "      fill: #D2E3FC;\n",
              "    }\n",
              "\n",
              "    [theme=dark] .colab-df-convert:hover {\n",
              "      background-color: #434B5C;\n",
              "      box-shadow: 0px 1px 3px 1px rgba(0, 0, 0, 0.15);\n",
              "      filter: drop-shadow(0px 1px 2px rgba(0, 0, 0, 0.3));\n",
              "      fill: #FFFFFF;\n",
              "    }\n",
              "  </style>\n",
              "\n",
              "      <script>\n",
              "        const buttonEl =\n",
              "          document.querySelector('#df-99921aa2-298f-447a-aa6a-f78388ae37ad button.colab-df-convert');\n",
              "        buttonEl.style.display =\n",
              "          google.colab.kernel.accessAllowed ? 'block' : 'none';\n",
              "\n",
              "        async function convertToInteractive(key) {\n",
              "          const element = document.querySelector('#df-99921aa2-298f-447a-aa6a-f78388ae37ad');\n",
              "          const dataTable =\n",
              "            await google.colab.kernel.invokeFunction('convertToInteractive',\n",
              "                                                     [key], {});\n",
              "          if (!dataTable) return;\n",
              "\n",
              "          const docLinkHtml = 'Like what you see? Visit the ' +\n",
              "            '<a target=\"_blank\" href=https://colab.research.google.com/notebooks/data_table.ipynb>data table notebook</a>'\n",
              "            + ' to learn more about interactive tables.';\n",
              "          element.innerHTML = '';\n",
              "          dataTable['output_type'] = 'display_data';\n",
              "          await google.colab.output.renderOutput(dataTable, element);\n",
              "          const docLink = document.createElement('div');\n",
              "          docLink.innerHTML = docLinkHtml;\n",
              "          element.appendChild(docLink);\n",
              "        }\n",
              "      </script>\n",
              "    </div>\n",
              "  </div>\n"
            ]
          },
          "metadata": {},
          "execution_count": 18
        }
      ]
    },
    {
      "cell_type": "code",
      "source": [
        "vpo_c=vpo_c.reset_index() # para que I02 vuelva a ser una columna en la tabla en lugar del index"
      ],
      "metadata": {
        "id": "chN6GnJqsZRu"
      },
      "execution_count": null,
      "outputs": []
    },
    {
      "cell_type": "code",
      "source": [
        "vpo_c=vpo_c.merge(cantones,on=\"I02\")\n",
        "vpo_c"
      ],
      "metadata": {
        "id": "sBGOIyHfs7Lw",
        "outputId": "41f7a4a8-ff2c-40f3-fdf8-955145f2b042",
        "colab": {
          "base_uri": "https://localhost:8080/",
          "height": 551
        }
      },
      "execution_count": null,
      "outputs": [
        {
          "output_type": "execute_result",
          "data": {
            "text/plain": [
              "    I02    num  TOTPER  techo_mat  pared_mat  suelo_mat  techo_est  pared_est  \\\n",
              "0     1  54729  212208      40536      40987      30944      27956      30653   \n",
              "1     2   6768   27736       5769       3764       1857       2339       2516   \n",
              "2     3   7589   30419       5811       4868       1458       2460       2774   \n",
              "3     4   3483   14042       2088       1784        605       1116       1165   \n",
              "4     5   1983    7020       1535        963        125        469        554   \n",
              "5     6   3443   14773       2703       1192        239        878        904   \n",
              "6     7   3606   12692       3030       1152        330        798        919   \n",
              "7     8   4696   18589       2228       2366        757       1420       1598   \n",
              "8     9   6196   23733       4956       1917        625       1692       1917   \n",
              "9    10   4014   15427       1616       2175        536       1274       1480   \n",
              "10   11   7644   30136       5983       2000       1097       1925       2190   \n",
              "11   12   1838    7459       1408        426         73        391        466   \n",
              "12   13   3196   12249       1200       1381        159        827        890   \n",
              "13   14   2008    8625       1131        761        117        425        528   \n",
              "14   15   1142    4328        924        384        103        249        265   \n",
              "15   16   1373    4863       1192        455         63        288        311   \n",
              "\n",
              "    suelo_est         Cantón  \n",
              "0       29183           Loja  \n",
              "1        2184         Calvas  \n",
              "2        2518       Catamayo  \n",
              "3         985         Celica  \n",
              "4         437   Chaguarpamba  \n",
              "5         742      Espindola  \n",
              "6         732      Gonzanama  \n",
              "7        1352         Macara  \n",
              "8        1586         Paltas  \n",
              "9        1263        Puyango  \n",
              "10       1887       Saraguro  \n",
              "11        329      Sozoranga  \n",
              "12        601      Zapotillo  \n",
              "13        369         Pindal  \n",
              "14        190       Quilanga  \n",
              "15        263         Olmedo  "
            ],
            "text/html": [
              "\n",
              "\n",
              "  <div id=\"df-c44f0107-0d40-4d42-a5b0-77413335537d\">\n",
              "    <div class=\"colab-df-container\">\n",
              "      <div>\n",
              "<style scoped>\n",
              "    .dataframe tbody tr th:only-of-type {\n",
              "        vertical-align: middle;\n",
              "    }\n",
              "\n",
              "    .dataframe tbody tr th {\n",
              "        vertical-align: top;\n",
              "    }\n",
              "\n",
              "    .dataframe thead th {\n",
              "        text-align: right;\n",
              "    }\n",
              "</style>\n",
              "<table border=\"1\" class=\"dataframe\">\n",
              "  <thead>\n",
              "    <tr style=\"text-align: right;\">\n",
              "      <th></th>\n",
              "      <th>I02</th>\n",
              "      <th>num</th>\n",
              "      <th>TOTPER</th>\n",
              "      <th>techo_mat</th>\n",
              "      <th>pared_mat</th>\n",
              "      <th>suelo_mat</th>\n",
              "      <th>techo_est</th>\n",
              "      <th>pared_est</th>\n",
              "      <th>suelo_est</th>\n",
              "      <th>Cantón</th>\n",
              "    </tr>\n",
              "  </thead>\n",
              "  <tbody>\n",
              "    <tr>\n",
              "      <th>0</th>\n",
              "      <td>1</td>\n",
              "      <td>54729</td>\n",
              "      <td>212208</td>\n",
              "      <td>40536</td>\n",
              "      <td>40987</td>\n",
              "      <td>30944</td>\n",
              "      <td>27956</td>\n",
              "      <td>30653</td>\n",
              "      <td>29183</td>\n",
              "      <td>Loja</td>\n",
              "    </tr>\n",
              "    <tr>\n",
              "      <th>1</th>\n",
              "      <td>2</td>\n",
              "      <td>6768</td>\n",
              "      <td>27736</td>\n",
              "      <td>5769</td>\n",
              "      <td>3764</td>\n",
              "      <td>1857</td>\n",
              "      <td>2339</td>\n",
              "      <td>2516</td>\n",
              "      <td>2184</td>\n",
              "      <td>Calvas</td>\n",
              "    </tr>\n",
              "    <tr>\n",
              "      <th>2</th>\n",
              "      <td>3</td>\n",
              "      <td>7589</td>\n",
              "      <td>30419</td>\n",
              "      <td>5811</td>\n",
              "      <td>4868</td>\n",
              "      <td>1458</td>\n",
              "      <td>2460</td>\n",
              "      <td>2774</td>\n",
              "      <td>2518</td>\n",
              "      <td>Catamayo</td>\n",
              "    </tr>\n",
              "    <tr>\n",
              "      <th>3</th>\n",
              "      <td>4</td>\n",
              "      <td>3483</td>\n",
              "      <td>14042</td>\n",
              "      <td>2088</td>\n",
              "      <td>1784</td>\n",
              "      <td>605</td>\n",
              "      <td>1116</td>\n",
              "      <td>1165</td>\n",
              "      <td>985</td>\n",
              "      <td>Celica</td>\n",
              "    </tr>\n",
              "    <tr>\n",
              "      <th>4</th>\n",
              "      <td>5</td>\n",
              "      <td>1983</td>\n",
              "      <td>7020</td>\n",
              "      <td>1535</td>\n",
              "      <td>963</td>\n",
              "      <td>125</td>\n",
              "      <td>469</td>\n",
              "      <td>554</td>\n",
              "      <td>437</td>\n",
              "      <td>Chaguarpamba</td>\n",
              "    </tr>\n",
              "    <tr>\n",
              "      <th>5</th>\n",
              "      <td>6</td>\n",
              "      <td>3443</td>\n",
              "      <td>14773</td>\n",
              "      <td>2703</td>\n",
              "      <td>1192</td>\n",
              "      <td>239</td>\n",
              "      <td>878</td>\n",
              "      <td>904</td>\n",
              "      <td>742</td>\n",
              "      <td>Espindola</td>\n",
              "    </tr>\n",
              "    <tr>\n",
              "      <th>6</th>\n",
              "      <td>7</td>\n",
              "      <td>3606</td>\n",
              "      <td>12692</td>\n",
              "      <td>3030</td>\n",
              "      <td>1152</td>\n",
              "      <td>330</td>\n",
              "      <td>798</td>\n",
              "      <td>919</td>\n",
              "      <td>732</td>\n",
              "      <td>Gonzanama</td>\n",
              "    </tr>\n",
              "    <tr>\n",
              "      <th>7</th>\n",
              "      <td>8</td>\n",
              "      <td>4696</td>\n",
              "      <td>18589</td>\n",
              "      <td>2228</td>\n",
              "      <td>2366</td>\n",
              "      <td>757</td>\n",
              "      <td>1420</td>\n",
              "      <td>1598</td>\n",
              "      <td>1352</td>\n",
              "      <td>Macara</td>\n",
              "    </tr>\n",
              "    <tr>\n",
              "      <th>8</th>\n",
              "      <td>9</td>\n",
              "      <td>6196</td>\n",
              "      <td>23733</td>\n",
              "      <td>4956</td>\n",
              "      <td>1917</td>\n",
              "      <td>625</td>\n",
              "      <td>1692</td>\n",
              "      <td>1917</td>\n",
              "      <td>1586</td>\n",
              "      <td>Paltas</td>\n",
              "    </tr>\n",
              "    <tr>\n",
              "      <th>9</th>\n",
              "      <td>10</td>\n",
              "      <td>4014</td>\n",
              "      <td>15427</td>\n",
              "      <td>1616</td>\n",
              "      <td>2175</td>\n",
              "      <td>536</td>\n",
              "      <td>1274</td>\n",
              "      <td>1480</td>\n",
              "      <td>1263</td>\n",
              "      <td>Puyango</td>\n",
              "    </tr>\n",
              "    <tr>\n",
              "      <th>10</th>\n",
              "      <td>11</td>\n",
              "      <td>7644</td>\n",
              "      <td>30136</td>\n",
              "      <td>5983</td>\n",
              "      <td>2000</td>\n",
              "      <td>1097</td>\n",
              "      <td>1925</td>\n",
              "      <td>2190</td>\n",
              "      <td>1887</td>\n",
              "      <td>Saraguro</td>\n",
              "    </tr>\n",
              "    <tr>\n",
              "      <th>11</th>\n",
              "      <td>12</td>\n",
              "      <td>1838</td>\n",
              "      <td>7459</td>\n",
              "      <td>1408</td>\n",
              "      <td>426</td>\n",
              "      <td>73</td>\n",
              "      <td>391</td>\n",
              "      <td>466</td>\n",
              "      <td>329</td>\n",
              "      <td>Sozoranga</td>\n",
              "    </tr>\n",
              "    <tr>\n",
              "      <th>12</th>\n",
              "      <td>13</td>\n",
              "      <td>3196</td>\n",
              "      <td>12249</td>\n",
              "      <td>1200</td>\n",
              "      <td>1381</td>\n",
              "      <td>159</td>\n",
              "      <td>827</td>\n",
              "      <td>890</td>\n",
              "      <td>601</td>\n",
              "      <td>Zapotillo</td>\n",
              "    </tr>\n",
              "    <tr>\n",
              "      <th>13</th>\n",
              "      <td>14</td>\n",
              "      <td>2008</td>\n",
              "      <td>8625</td>\n",
              "      <td>1131</td>\n",
              "      <td>761</td>\n",
              "      <td>117</td>\n",
              "      <td>425</td>\n",
              "      <td>528</td>\n",
              "      <td>369</td>\n",
              "      <td>Pindal</td>\n",
              "    </tr>\n",
              "    <tr>\n",
              "      <th>14</th>\n",
              "      <td>15</td>\n",
              "      <td>1142</td>\n",
              "      <td>4328</td>\n",
              "      <td>924</td>\n",
              "      <td>384</td>\n",
              "      <td>103</td>\n",
              "      <td>249</td>\n",
              "      <td>265</td>\n",
              "      <td>190</td>\n",
              "      <td>Quilanga</td>\n",
              "    </tr>\n",
              "    <tr>\n",
              "      <th>15</th>\n",
              "      <td>16</td>\n",
              "      <td>1373</td>\n",
              "      <td>4863</td>\n",
              "      <td>1192</td>\n",
              "      <td>455</td>\n",
              "      <td>63</td>\n",
              "      <td>288</td>\n",
              "      <td>311</td>\n",
              "      <td>263</td>\n",
              "      <td>Olmedo</td>\n",
              "    </tr>\n",
              "  </tbody>\n",
              "</table>\n",
              "</div>\n",
              "      <button class=\"colab-df-convert\" onclick=\"convertToInteractive('df-c44f0107-0d40-4d42-a5b0-77413335537d')\"\n",
              "              title=\"Convert this dataframe to an interactive table.\"\n",
              "              style=\"display:none;\">\n",
              "\n",
              "  <svg xmlns=\"http://www.w3.org/2000/svg\" height=\"24px\"viewBox=\"0 0 24 24\"\n",
              "       width=\"24px\">\n",
              "    <path d=\"M0 0h24v24H0V0z\" fill=\"none\"/>\n",
              "    <path d=\"M18.56 5.44l.94 2.06.94-2.06 2.06-.94-2.06-.94-.94-2.06-.94 2.06-2.06.94zm-11 1L8.5 8.5l.94-2.06 2.06-.94-2.06-.94L8.5 2.5l-.94 2.06-2.06.94zm10 10l.94 2.06.94-2.06 2.06-.94-2.06-.94-.94-2.06-.94 2.06-2.06.94z\"/><path d=\"M17.41 7.96l-1.37-1.37c-.4-.4-.92-.59-1.43-.59-.52 0-1.04.2-1.43.59L10.3 9.45l-7.72 7.72c-.78.78-.78 2.05 0 2.83L4 21.41c.39.39.9.59 1.41.59.51 0 1.02-.2 1.41-.59l7.78-7.78 2.81-2.81c.8-.78.8-2.07 0-2.86zM5.41 20L4 18.59l7.72-7.72 1.47 1.35L5.41 20z\"/>\n",
              "  </svg>\n",
              "      </button>\n",
              "\n",
              "\n",
              "\n",
              "    <div id=\"df-45af362c-1220-4826-9a32-5a1680244747\">\n",
              "      <button class=\"colab-df-quickchart\" onclick=\"quickchart('df-45af362c-1220-4826-9a32-5a1680244747')\"\n",
              "              title=\"Suggest charts.\"\n",
              "              style=\"display:none;\">\n",
              "\n",
              "<svg xmlns=\"http://www.w3.org/2000/svg\" height=\"24px\"viewBox=\"0 0 24 24\"\n",
              "     width=\"24px\">\n",
              "    <g>\n",
              "        <path d=\"M19 3H5c-1.1 0-2 .9-2 2v14c0 1.1.9 2 2 2h14c1.1 0 2-.9 2-2V5c0-1.1-.9-2-2-2zM9 17H7v-7h2v7zm4 0h-2V7h2v10zm4 0h-2v-4h2v4z\"/>\n",
              "    </g>\n",
              "</svg>\n",
              "      </button>\n",
              "    </div>\n",
              "\n",
              "<style>\n",
              "  .colab-df-quickchart {\n",
              "    background-color: #E8F0FE;\n",
              "    border: none;\n",
              "    border-radius: 50%;\n",
              "    cursor: pointer;\n",
              "    display: none;\n",
              "    fill: #1967D2;\n",
              "    height: 32px;\n",
              "    padding: 0 0 0 0;\n",
              "    width: 32px;\n",
              "  }\n",
              "\n",
              "  .colab-df-quickchart:hover {\n",
              "    background-color: #E2EBFA;\n",
              "    box-shadow: 0px 1px 2px rgba(60, 64, 67, 0.3), 0px 1px 3px 1px rgba(60, 64, 67, 0.15);\n",
              "    fill: #174EA6;\n",
              "  }\n",
              "\n",
              "  [theme=dark] .colab-df-quickchart {\n",
              "    background-color: #3B4455;\n",
              "    fill: #D2E3FC;\n",
              "  }\n",
              "\n",
              "  [theme=dark] .colab-df-quickchart:hover {\n",
              "    background-color: #434B5C;\n",
              "    box-shadow: 0px 1px 3px 1px rgba(0, 0, 0, 0.15);\n",
              "    filter: drop-shadow(0px 1px 2px rgba(0, 0, 0, 0.3));\n",
              "    fill: #FFFFFF;\n",
              "  }\n",
              "</style>\n",
              "\n",
              "    <script>\n",
              "      async function quickchart(key) {\n",
              "        const containerElement = document.querySelector('#' + key);\n",
              "        const charts = await google.colab.kernel.invokeFunction(\n",
              "            'suggestCharts', [key], {});\n",
              "      }\n",
              "    </script>\n",
              "\n",
              "      <script>\n",
              "\n",
              "function displayQuickchartButton(domScope) {\n",
              "  let quickchartButtonEl =\n",
              "    domScope.querySelector('#df-45af362c-1220-4826-9a32-5a1680244747 button.colab-df-quickchart');\n",
              "  quickchartButtonEl.style.display =\n",
              "    google.colab.kernel.accessAllowed ? 'block' : 'none';\n",
              "}\n",
              "\n",
              "        displayQuickchartButton(document);\n",
              "      </script>\n",
              "      <style>\n",
              "    .colab-df-container {\n",
              "      display:flex;\n",
              "      flex-wrap:wrap;\n",
              "      gap: 12px;\n",
              "    }\n",
              "\n",
              "    .colab-df-convert {\n",
              "      background-color: #E8F0FE;\n",
              "      border: none;\n",
              "      border-radius: 50%;\n",
              "      cursor: pointer;\n",
              "      display: none;\n",
              "      fill: #1967D2;\n",
              "      height: 32px;\n",
              "      padding: 0 0 0 0;\n",
              "      width: 32px;\n",
              "    }\n",
              "\n",
              "    .colab-df-convert:hover {\n",
              "      background-color: #E2EBFA;\n",
              "      box-shadow: 0px 1px 2px rgba(60, 64, 67, 0.3), 0px 1px 3px 1px rgba(60, 64, 67, 0.15);\n",
              "      fill: #174EA6;\n",
              "    }\n",
              "\n",
              "    [theme=dark] .colab-df-convert {\n",
              "      background-color: #3B4455;\n",
              "      fill: #D2E3FC;\n",
              "    }\n",
              "\n",
              "    [theme=dark] .colab-df-convert:hover {\n",
              "      background-color: #434B5C;\n",
              "      box-shadow: 0px 1px 3px 1px rgba(0, 0, 0, 0.15);\n",
              "      filter: drop-shadow(0px 1px 2px rgba(0, 0, 0, 0.3));\n",
              "      fill: #FFFFFF;\n",
              "    }\n",
              "  </style>\n",
              "\n",
              "      <script>\n",
              "        const buttonEl =\n",
              "          document.querySelector('#df-c44f0107-0d40-4d42-a5b0-77413335537d button.colab-df-convert');\n",
              "        buttonEl.style.display =\n",
              "          google.colab.kernel.accessAllowed ? 'block' : 'none';\n",
              "\n",
              "        async function convertToInteractive(key) {\n",
              "          const element = document.querySelector('#df-c44f0107-0d40-4d42-a5b0-77413335537d');\n",
              "          const dataTable =\n",
              "            await google.colab.kernel.invokeFunction('convertToInteractive',\n",
              "                                                     [key], {});\n",
              "          if (!dataTable) return;\n",
              "\n",
              "          const docLinkHtml = 'Like what you see? Visit the ' +\n",
              "            '<a target=\"_blank\" href=https://colab.research.google.com/notebooks/data_table.ipynb>data table notebook</a>'\n",
              "            + ' to learn more about interactive tables.';\n",
              "          element.innerHTML = '';\n",
              "          dataTable['output_type'] = 'display_data';\n",
              "          await google.colab.output.renderOutput(dataTable, element);\n",
              "          const docLink = document.createElement('div');\n",
              "          docLink.innerHTML = docLinkHtml;\n",
              "          element.appendChild(docLink);\n",
              "        }\n",
              "      </script>\n",
              "    </div>\n",
              "  </div>\n"
            ]
          },
          "metadata": {},
          "execution_count": 20
        }
      ]
    },
    {
      "cell_type": "markdown",
      "source": [
        "## 6. Cálculo de tasas"
      ],
      "metadata": {
        "id": "AuCBD4NltWtQ"
      }
    },
    {
      "cell_type": "markdown",
      "source": [
        "Podemos calcular a modo de ejemplo, las siguientes tasas:\n",
        "* Porcentaje de viviendas en cada cantón con el techo de teja.\n",
        "* Porcentaje de viviendas con los techos en buen estado de conservación.\n",
        "* Porcentaje de viviendas en cada cantón con las paredes de hormigón o ladrillo.\n",
        "* Porcentaje de viviendas con las paredes en buen estado de conservación.\n",
        "\n",
        "Además, podemos calcular la ocupación media de las viviendas en cada cantón."
      ],
      "metadata": {
        "id": "XFW9-QdyPPuG"
      }
    },
    {
      "cell_type": "code",
      "source": [
        "vpo_c['techo_mat_p']=vpo_c['techo_mat']/vpo_c['num']\n",
        "vpo_c['techo_est_p']=vpo_c['techo_est']/vpo_c['num']\n",
        "\n",
        "vpo_c['pared_mat_p']=vpo_c['pared_mat']/vpo_c['num']\n",
        "vpo_c['pared_est_p']=vpo_c['pared_est']/vpo_c['num']\n",
        "\n",
        "vpo_c['totper_med']=vpo_c['TOTPER']/vpo_c['num']"
      ],
      "metadata": {
        "id": "6v19ocaRP7Kk"
      },
      "execution_count": null,
      "outputs": []
    },
    {
      "cell_type": "markdown",
      "source": [
        "Ahora podemos representar gráficamente las variables. Por ejemplo, la tasa de viviendas con techos de teja/hormigón:"
      ],
      "metadata": {
        "id": "krw-Ecg3S8w_"
      }
    },
    {
      "cell_type": "code",
      "source": [
        "sns.barplot(data=vpo_c, y=\"Cantón\",x=\"techo_mat_p\", color=\"tab:red\")\n"
      ],
      "metadata": {
        "id": "a2LAGx6HQkI3"
      },
      "execution_count": null,
      "outputs": []
    },
    {
      "cell_type": "markdown",
      "source": [
        "Es fácil mejorar la apariencia e inteligibilidad del gráfico anterior:"
      ],
      "metadata": {
        "id": "h2F_sipcTJ0v"
      }
    },
    {
      "cell_type": "code",
      "source": [
        "fig,ax=plt.subplots()\n",
        "sns.barplot(data=vpo_c, y=\"Cantón\",x=\"techo_mat_p\", color=\"tab:red\")\n",
        "ax.set_xlabel(\"Porcentaje de viviendas\")\n",
        "ax.set_ylabel(\"\")\n",
        "ax.spines['top'].set_visible(False)\n",
        "ax.spines['right'].set_visible(False)\n",
        "ax.set_title(\"Viviendas con techos de teja u hormigón \\n\")\n",
        "plt.show()"
      ],
      "metadata": {
        "id": "TF3wmQZ5TOUn"
      },
      "execution_count": null,
      "outputs": []
    },
    {
      "cell_type": "markdown",
      "source": [
        "En cualquier caso, si os resulta al principio más fácil, podéis exportar los datos procesados y realizar el gráfico en otro programa con el que estéis más familiarizados. Para ello, usaís la función ```to_excel()``` como se muestra a continuación:"
      ],
      "metadata": {
        "id": "--lndJqSUQFB"
      }
    },
    {
      "cell_type": "code",
      "source": [
        "vpo_c.to_excel(\"datos_cantones.xlsx\")"
      ],
      "metadata": {
        "id": "rgOKPNWMUjZv"
      },
      "execution_count": null,
      "outputs": []
    },
    {
      "cell_type": "markdown",
      "source": [
        "El archivo os lo guarda junto a los otros archivos que habéis subido. Solamente hay que descargarlo."
      ],
      "metadata": {
        "id": "njiIVU8uU2h1"
      }
    },
    {
      "cell_type": "markdown",
      "source": [
        "*Nótese que si queremos calcular el porcentaje de viviendas con techo de tejas y paredes de labrillo, tenemos que volver a la tabla a nivel de viviendas y crear una variable que combine ambas condiciones. Por ejemplo:\n",
        "\n",
        "```\n",
        "vpo['techo_pared']=0\n",
        "vpo.loc[(vpo['techo_mat']==1) & (vpo['pared_mat']==1),'techo_pared']=1\n",
        "```\n",
        "\n",
        "Y posteriormente habría que volver a aplicar la función ```groupby()```.\n",
        "\n",
        "\n"
      ],
      "metadata": {
        "id": "jhUmoL9mU39f"
      }
    },
    {
      "cell_type": "markdown",
      "source": [
        "## 5. Análisis bivariante"
      ],
      "metadata": {
        "id": "2DqS17djJ0rZ"
      }
    },
    {
      "cell_type": "markdown",
      "source": [
        "### 5.1. Correlaciones"
      ],
      "metadata": {
        "id": "HKb2dur61FPC"
      }
    },
    {
      "cell_type": "markdown",
      "source": [
        "A modo de ejemplo, vamos a ver la correlación entre el porcentaje de"
      ],
      "metadata": {
        "id": "-wbGJPji2Z9h"
      }
    },
    {
      "cell_type": "code",
      "source": [
        "sns.scatterplot(data=vpo_c,x=\"techo_est_p\",y=\"pared_est_p\")"
      ],
      "metadata": {
        "id": "mMEe7OE-Dv9O",
        "outputId": "855aa33b-2ecc-46f5-a91f-a7890cf47dd6",
        "colab": {
          "base_uri": "https://localhost:8080/",
          "height": 467
        }
      },
      "execution_count": null,
      "outputs": [
        {
          "output_type": "execute_result",
          "data": {
            "text/plain": [
              "<Axes: xlabel='techo_est_p', ylabel='pared_est_p'>"
            ]
          },
          "metadata": {},
          "execution_count": 60
        },
        {
          "output_type": "display_data",
          "data": {
            "text/plain": [
              "<Figure size 640x480 with 1 Axes>"
            ],
            "image/png": "[encoded data removed]"
          },
          "metadata": {}
        }
      ]
    },
    {
      "cell_type": "code",
      "source": [
        "vpo.TOTPER.describe()"
      ],
      "metadata": {
        "id": "7wDiT7jVF8yW",
        "outputId": "a4ed0a5a-5186-4b81-f293-6652c7d28166",
        "colab": {
          "base_uri": "https://localhost:8080/"
        }
      },
      "execution_count": null,
      "outputs": [
        {
          "output_type": "execute_result",
          "data": {
            "text/plain": [
              "count    113708.000000\n",
              "mean          3.907368\n",
              "std           2.123760\n",
              "min           1.000000\n",
              "25%           2.000000\n",
              "50%           4.000000\n",
              "75%           5.000000\n",
              "max          22.000000\n",
              "Name: TOTPER, dtype: float64"
            ]
          },
          "metadata": {},
          "execution_count": 134
        }
      ]
    },
    {
      "cell_type": "code",
      "source": [],
      "metadata": {
        "id": "3Rkksz4-Hnn-"
      },
      "execution_count": null,
      "outputs": []
    },
    {
      "cell_type": "code",
      "source": [
        "sns.scatterplot(data=vpo_c,x=\"pared_mat_p\",y=\"totper_med\")"
      ],
      "metadata": {
        "id": "0a_0Y8quWL1g",
        "outputId": "abd52253-3afe-4b21-86ce-6084226be38c",
        "colab": {
          "base_uri": "https://localhost:8080/",
          "height": 467
        }
      },
      "execution_count": null,
      "outputs": [
        {
          "output_type": "execute_result",
          "data": {
            "text/plain": [
              "<Axes: xlabel='pared_mat_p', ylabel='totper_med'>"
            ]
          },
          "metadata": {},
          "execution_count": 58
        },
        {
          "output_type": "display_data",
          "data": {
            "text/plain": [
              "<Figure size 640x480 with 1 Axes>"
            ],
            "image/png": "[encoded data removed]"
          },
          "metadata": {}
        }
      ]
    },
    {
      "cell_type": "code",
      "source": [],
      "metadata": {
        "id": "7OGuHk43WOzI"
      },
      "execution_count": null,
      "outputs": []
    }
  ]
}