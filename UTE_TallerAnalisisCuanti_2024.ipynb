{
  "nbformat": 4,
  "nbformat_minor": 0,
  "metadata": {
    "colab": {
      "provenance": [],
      "toc_visible": true,
      "authorship_tag": "ABX9TyM0wVJT0tSRQrNFxqbJ7s6E",
      "include_colab_link": true
    },
    "kernelspec": {
      "name": "python3",
      "display_name": "Python 3"
    },
    "language_info": {
      "name": "python"
    }
  },
  "cells": [
    {
      "cell_type": "markdown",
      "metadata": {
        "id": "view-in-github",
        "colab_type": "text"
      },
      "source": [
        "<a href=\"https://colab.research.google.com/github/otoperalias/teaching/blob/TallerUTE_AnalisisCuanti/UTE_TallerAnalisisCuanti_2024.ipynb\" target=\"_parent\"><img src=\"https://colab.research.google.com/assets/colab-badge.svg\" alt=\"Open In Colab\"/></a>"
      ]
    },
    {
      "cell_type": "markdown",
      "source": [
        "<img src=\"https://github.com/otoperalias/teaching/blob/TallerUTE_AnalisisCuanti/material/6.%20M%C3%89TODOS%20CUANTITATIVOS%20WORKSHOP%20(1).jpg?raw=true\" alt=\"drawing\" width=\"900\"/>\n",
        "\n"
      ],
      "metadata": {
        "id": "m8l8hADy_TjZ"
      }
    },
    {
      "cell_type": "markdown",
      "source": [
        "## Taller de Análisis de Datos Cuantitativos\n",
        "\n",
        "### Maestría en Urbanismo (UTE, Ecuador).\n",
        "\n",
        "Instructor: [Daniel Oto-Peralías](https://otoperalias.github.io/)\n",
        "_________________________"
      ],
      "metadata": {
        "id": "lByeC5V4GRSE"
      }
    },
    {
      "cell_type": "markdown",
      "source": [
        "El objetivo del taller es aprender a explotar una encuesta o un censo a través de programas estadísticos de análisis cuantitativo.\n",
        "\n",
        "Usaremos el [Censo de Población y Vivienda de Ecuador (2010)](https://www.ecuadorencifras.gob.ec/censo-de-poblacion-y-vivienda/) para analizar las características de las viviendas de la provincia de Loja. La tarea a realizar será la creación de un indicador de calidad de las viviendas.\n",
        "\n",
        "**Vamos a necesitar el siguiente material:**\n",
        "1. Los [datos del censo](https://www.ecuadorencifras.gob.ec/base-de-datos-censo-de-poblacion-y-vivienda/): en *A NIVEL DE SECTOR*, hacemos clic en *Censo Población y Vivienda 2010* y luego seleccionamos *Loja  (formato CSV)*.  \n",
        "Nótese que al realizar la descarga, se obtiene una carpeta comprimida. Una vez descomprimida, vemos que dentro hay 4 carpetas comprimidas, una de ellas \"Loja_CSV_Vivienda\", que es la que vamos a utilizar. Esta última carpeta no debe descomprimirse ya que se importa directamente comprimida.\n",
        "2. El [cuestionario del censo](https://www.ecuadorencifras.gob.ec//wp-content/descargas/Poblacion_y_demo/Cuestionario_censal/cuestionario_censal.pdf), donde podemos ver el significado de los códigos numéricos que aparecen en los datos.\n",
        "3. El diccionario de datos del censo, para conocer el significado de cada variable. Se puede obtener a través de [este enlace](https://aplicaciones3.ecuadorencifras.gob.ec/BIINEC-war/index.xhtml?oe=CENSOS%20DE%20POBLACI%D3N%20Y%20VIVIENDA%20NACIONAL&a=2010&m=DECENAL&t=Datos%20Abiertos%20CSV), clicando en *Datos Abiertos CSV*, pero para evitaros tener que descargar dicho archivo tan pesado (~1GB), lo proporciono en [este enlace](https://github.com/otoperalias/teaching/raw/TallerUTE_AnalisisCuanti/material/Diccionario%20de%20Datos%20CPV2010.xls).\n",
        "4. Además, es útil tener a mano esta publicación con una descripción de los resultados del Censo para la provincia de Loja. Disponible [aquí](https://www.ecuadorencifras.gob.ec/censo-de-poblacion-y-vivienda/), clicando en *Resultados provinciales* en *Loja*.\n",
        "5. Por ultimo, descargamos las capas geográficas del *Clasificador Geográfico Estadístico*, disponible en el [portal de Geografía Estadística del INEC](https://www.ecuadorencifras.gob.ec/documentos/web-inec/Geografia_Estadistica/Micrositio_geoportal/index.html). Le damos al ratón para abajo hasta la sección **Clasificador Geográfico Estadístico**, seleccionamos \"2010-CENSAL\" y clicamos en el icono \"zip SHP\". Nótese que descargamos una carpeta comprimida con tres capas geográficas (provincias, cantones y parroquias). Debemos descomprimir este fichero."
      ],
      "metadata": {
        "id": "9QJVM6_S_zYR"
      }
    },
    {
      "cell_type": "markdown",
      "source": [
        "**Sobre el programa informático:**\n",
        "\n",
        "* En este taller usamos [**Google Colab**](https://colab.research.google.com/?hl=es), que es un *notebook* virtual desde el que podemos usar **Python**.\n",
        "* La librería principal que vamos a usar es **Pandas**, una \"paquete\" especializado en el procesamiento y análisis de datos cuantitativos.\n",
        "* La gran ventaja de Python-Pandas frente a otras alternativas (SPSS/Stata/etc.) es su carácter gratuito y la gran cantidad de recursos de ayuda que existe en Internet, debido a su enorme comunidad de usuarios."
      ],
      "metadata": {
        "id": "MH3tT32NHU5I"
      }
    },
    {
      "cell_type": "markdown",
      "source": [
        "## 1. Importamos las librerías que vamos a utilizar"
      ],
      "metadata": {
        "id": "Ug_RPmKzJnC8"
      }
    },
    {
      "cell_type": "markdown",
      "source": [
        "Para usar el paquete de **Pandas** y poder visualizar los datos, tenemos que importar estas librerías:"
      ],
      "metadata": {
        "id": "li8DMsZV25Wv"
      }
    },
    {
      "cell_type": "code",
      "execution_count": 17,
      "metadata": {
        "id": "Y8_GMaPLouFM"
      },
      "outputs": [],
      "source": [
        "import pandas as pd\n",
        "import geopandas as gpd\n",
        "import matplotlib.pyplot as plt\n",
        "import seaborn as sns"
      ]
    },
    {
      "cell_type": "markdown",
      "source": [
        "## 2. Importamos los datos\n"
      ],
      "metadata": {
        "id": "fehhNZfQJ2hs"
      }
    },
    {
      "cell_type": "markdown",
      "source": [
        "Para importar los datos, en primer lugar, tenemos que descargar los datos en nuestro ordenador y subirlos a Google Colab:\n",
        "1. Clicamos en el icono de carpeta que hay en la parte superior de la barra de la izquierda (📁) y entonces clicamos en el primer icono de upload.\n",
        "2. Se abre una ventana para seleccionar el archivo que queremos subir y seleccionamos la carpeta comprimida \"Loja_CSV_Vivienda\"."
      ],
      "metadata": {
        "id": "rnYzfsQZJ75j"
      }
    },
    {
      "cell_type": "markdown",
      "source": [
        "Una vez que tenemos subido el fichero y que aparece como tal (\"Loja_CSV_Vivienda.zip\") en la barra izquierda, podemos importarlo:"
      ],
      "metadata": {
        "id": "5oykwNuTLU-Z"
      }
    },
    {
      "cell_type": "code",
      "source": [
        "viv=pd.read_csv(\"Loja_CSV_Vivienda.zip\",compression='zip')"
      ],
      "metadata": {
        "id": "L-igsBqArNpN"
      },
      "execution_count": 2,
      "outputs": []
    },
    {
      "cell_type": "markdown",
      "source": [
        "Para visualizar la tabla, escribimos el nombre que le hemos dado"
      ],
      "metadata": {
        "id": "DgKtdN2CLa0K"
      }
    },
    {
      "cell_type": "code",
      "source": [
        "viv"
      ],
      "metadata": {
        "id": "SQI1CN6Jr5W-",
        "colab": {
          "base_uri": "https://localhost:8080/",
          "height": 424
        },
        "outputId": "11d01a2a-9ad9-46fc-d7aa-958e2ba492d8"
      },
      "execution_count": 3,
      "outputs": [
        {
          "output_type": "execute_result",
          "data": {
            "text/plain": [
              "        I01  I02  I03  I04  I05  I09  I10  URV  VTV VAP  ... V11 V12A V12B  \\\n",
              "0        11    1   50    1    1    1    1    1    1   3  ...   1   05   00   \n",
              "1        11    1   50    1    1    2    1    1    4   3  ...   1   00   03   \n",
              "2        11    1   50    1    1    3    1    1    6   3  ...                 \n",
              "3        11    1   50    1    1    4    1    1    1   3  ...   1   02   08   \n",
              "4        11    1   50    1    1    5    1    1    4   3  ...                 \n",
              "...     ...  ...  ...  ...  ...  ...  ...  ...  ...  ..  ...  ..  ...  ...   \n",
              "155312   11   16   51  999    5   68    1    2    1   4  ...   1   05   00   \n",
              "155313   11   16   51  999    5   69    1    2    1   4  ...   1   00   05   \n",
              "155314   11   16   51  999    5   70    1    2    1   4  ...   1   00   03   \n",
              "155315   11   16   51  999    5   71    1    2    1   4  ...   1   00   04   \n",
              "155316   11   16   51  999    5   72    1    2    1   4  ...   1   00   06   \n",
              "\n",
              "       V13 V14 V15 V16 TOTPER TOTDOR TOTEMI  \n",
              "0        1   3   1   1      4      1         \n",
              "1        1   1   1   1      4      1         \n",
              "2                           0                \n",
              "3        1   3   1   1      5      2         \n",
              "4                           0                \n",
              "...     ..  ..  ..  ..    ...    ...    ...  \n",
              "155312   2   3   1   1      2      2         \n",
              "155313   2   3   1   1      1      2         \n",
              "155314   2   2   1   1      1      1         \n",
              "155315   2   2   1   1      1      2         \n",
              "155316   2   2   1   1      7      2         \n",
              "\n",
              "[155317 rows x 31 columns]"
            ],
            "text/html": [
              "\n",
              "  <div id=\"df-fee75a1c-8e96-4375-b45f-73cf917824cd\" class=\"colab-df-container\">\n",
              "    <div>\n",
              "<style scoped>\n",
              "    .dataframe tbody tr th:only-of-type {\n",
              "        vertical-align: middle;\n",
              "    }\n",
              "\n",
              "    .dataframe tbody tr th {\n",
              "        vertical-align: top;\n",
              "    }\n",
              "\n",
              "    .dataframe thead th {\n",
              "        text-align: right;\n",
              "    }\n",
              "</style>\n",
              "<table border=\"1\" class=\"dataframe\">\n",
              "  <thead>\n",
              "    <tr style=\"text-align: right;\">\n",
              "      <th></th>\n",
              "      <th>I01</th>\n",
              "      <th>I02</th>\n",
              "      <th>I03</th>\n",
              "      <th>I04</th>\n",
              "      <th>I05</th>\n",
              "      <th>I09</th>\n",
              "      <th>I10</th>\n",
              "      <th>URV</th>\n",
              "      <th>VTV</th>\n",
              "      <th>VAP</th>\n",
              "      <th>...</th>\n",
              "      <th>V11</th>\n",
              "      <th>V12A</th>\n",
              "      <th>V12B</th>\n",
              "      <th>V13</th>\n",
              "      <th>V14</th>\n",
              "      <th>V15</th>\n",
              "      <th>V16</th>\n",
              "      <th>TOTPER</th>\n",
              "      <th>TOTDOR</th>\n",
              "      <th>TOTEMI</th>\n",
              "    </tr>\n",
              "  </thead>\n",
              "  <tbody>\n",
              "    <tr>\n",
              "      <th>0</th>\n",
              "      <td>11</td>\n",
              "      <td>1</td>\n",
              "      <td>50</td>\n",
              "      <td>1</td>\n",
              "      <td>1</td>\n",
              "      <td>1</td>\n",
              "      <td>1</td>\n",
              "      <td>1</td>\n",
              "      <td>1</td>\n",
              "      <td>3</td>\n",
              "      <td>...</td>\n",
              "      <td>1</td>\n",
              "      <td>05</td>\n",
              "      <td>00</td>\n",
              "      <td>1</td>\n",
              "      <td>3</td>\n",
              "      <td>1</td>\n",
              "      <td>1</td>\n",
              "      <td>4</td>\n",
              "      <td>1</td>\n",
              "      <td></td>\n",
              "    </tr>\n",
              "    <tr>\n",
              "      <th>1</th>\n",
              "      <td>11</td>\n",
              "      <td>1</td>\n",
              "      <td>50</td>\n",
              "      <td>1</td>\n",
              "      <td>1</td>\n",
              "      <td>2</td>\n",
              "      <td>1</td>\n",
              "      <td>1</td>\n",
              "      <td>4</td>\n",
              "      <td>3</td>\n",
              "      <td>...</td>\n",
              "      <td>1</td>\n",
              "      <td>00</td>\n",
              "      <td>03</td>\n",
              "      <td>1</td>\n",
              "      <td>1</td>\n",
              "      <td>1</td>\n",
              "      <td>1</td>\n",
              "      <td>4</td>\n",
              "      <td>1</td>\n",
              "      <td></td>\n",
              "    </tr>\n",
              "    <tr>\n",
              "      <th>2</th>\n",
              "      <td>11</td>\n",
              "      <td>1</td>\n",
              "      <td>50</td>\n",
              "      <td>1</td>\n",
              "      <td>1</td>\n",
              "      <td>3</td>\n",
              "      <td>1</td>\n",
              "      <td>1</td>\n",
              "      <td>6</td>\n",
              "      <td>3</td>\n",
              "      <td>...</td>\n",
              "      <td></td>\n",
              "      <td></td>\n",
              "      <td></td>\n",
              "      <td></td>\n",
              "      <td></td>\n",
              "      <td></td>\n",
              "      <td></td>\n",
              "      <td>0</td>\n",
              "      <td></td>\n",
              "      <td></td>\n",
              "    </tr>\n",
              "    <tr>\n",
              "      <th>3</th>\n",
              "      <td>11</td>\n",
              "      <td>1</td>\n",
              "      <td>50</td>\n",
              "      <td>1</td>\n",
              "      <td>1</td>\n",
              "      <td>4</td>\n",
              "      <td>1</td>\n",
              "      <td>1</td>\n",
              "      <td>1</td>\n",
              "      <td>3</td>\n",
              "      <td>...</td>\n",
              "      <td>1</td>\n",
              "      <td>02</td>\n",
              "      <td>08</td>\n",
              "      <td>1</td>\n",
              "      <td>3</td>\n",
              "      <td>1</td>\n",
              "      <td>1</td>\n",
              "      <td>5</td>\n",
              "      <td>2</td>\n",
              "      <td></td>\n",
              "    </tr>\n",
              "    <tr>\n",
              "      <th>4</th>\n",
              "      <td>11</td>\n",
              "      <td>1</td>\n",
              "      <td>50</td>\n",
              "      <td>1</td>\n",
              "      <td>1</td>\n",
              "      <td>5</td>\n",
              "      <td>1</td>\n",
              "      <td>1</td>\n",
              "      <td>4</td>\n",
              "      <td>3</td>\n",
              "      <td>...</td>\n",
              "      <td></td>\n",
              "      <td></td>\n",
              "      <td></td>\n",
              "      <td></td>\n",
              "      <td></td>\n",
              "      <td></td>\n",
              "      <td></td>\n",
              "      <td>0</td>\n",
              "      <td></td>\n",
              "      <td></td>\n",
              "    </tr>\n",
              "    <tr>\n",
              "      <th>...</th>\n",
              "      <td>...</td>\n",
              "      <td>...</td>\n",
              "      <td>...</td>\n",
              "      <td>...</td>\n",
              "      <td>...</td>\n",
              "      <td>...</td>\n",
              "      <td>...</td>\n",
              "      <td>...</td>\n",
              "      <td>...</td>\n",
              "      <td>...</td>\n",
              "      <td>...</td>\n",
              "      <td>...</td>\n",
              "      <td>...</td>\n",
              "      <td>...</td>\n",
              "      <td>...</td>\n",
              "      <td>...</td>\n",
              "      <td>...</td>\n",
              "      <td>...</td>\n",
              "      <td>...</td>\n",
              "      <td>...</td>\n",
              "      <td>...</td>\n",
              "    </tr>\n",
              "    <tr>\n",
              "      <th>155312</th>\n",
              "      <td>11</td>\n",
              "      <td>16</td>\n",
              "      <td>51</td>\n",
              "      <td>999</td>\n",
              "      <td>5</td>\n",
              "      <td>68</td>\n",
              "      <td>1</td>\n",
              "      <td>2</td>\n",
              "      <td>1</td>\n",
              "      <td>4</td>\n",
              "      <td>...</td>\n",
              "      <td>1</td>\n",
              "      <td>05</td>\n",
              "      <td>00</td>\n",
              "      <td>2</td>\n",
              "      <td>3</td>\n",
              "      <td>1</td>\n",
              "      <td>1</td>\n",
              "      <td>2</td>\n",
              "      <td>2</td>\n",
              "      <td></td>\n",
              "    </tr>\n",
              "    <tr>\n",
              "      <th>155313</th>\n",
              "      <td>11</td>\n",
              "      <td>16</td>\n",
              "      <td>51</td>\n",
              "      <td>999</td>\n",
              "      <td>5</td>\n",
              "      <td>69</td>\n",
              "      <td>1</td>\n",
              "      <td>2</td>\n",
              "      <td>1</td>\n",
              "      <td>4</td>\n",
              "      <td>...</td>\n",
              "      <td>1</td>\n",
              "      <td>00</td>\n",
              "      <td>05</td>\n",
              "      <td>2</td>\n",
              "      <td>3</td>\n",
              "      <td>1</td>\n",
              "      <td>1</td>\n",
              "      <td>1</td>\n",
              "      <td>2</td>\n",
              "      <td></td>\n",
              "    </tr>\n",
              "    <tr>\n",
              "      <th>155314</th>\n",
              "      <td>11</td>\n",
              "      <td>16</td>\n",
              "      <td>51</td>\n",
              "      <td>999</td>\n",
              "      <td>5</td>\n",
              "      <td>70</td>\n",
              "      <td>1</td>\n",
              "      <td>2</td>\n",
              "      <td>1</td>\n",
              "      <td>4</td>\n",
              "      <td>...</td>\n",
              "      <td>1</td>\n",
              "      <td>00</td>\n",
              "      <td>03</td>\n",
              "      <td>2</td>\n",
              "      <td>2</td>\n",
              "      <td>1</td>\n",
              "      <td>1</td>\n",
              "      <td>1</td>\n",
              "      <td>1</td>\n",
              "      <td></td>\n",
              "    </tr>\n",
              "    <tr>\n",
              "      <th>155315</th>\n",
              "      <td>11</td>\n",
              "      <td>16</td>\n",
              "      <td>51</td>\n",
              "      <td>999</td>\n",
              "      <td>5</td>\n",
              "      <td>71</td>\n",
              "      <td>1</td>\n",
              "      <td>2</td>\n",
              "      <td>1</td>\n",
              "      <td>4</td>\n",
              "      <td>...</td>\n",
              "      <td>1</td>\n",
              "      <td>00</td>\n",
              "      <td>04</td>\n",
              "      <td>2</td>\n",
              "      <td>2</td>\n",
              "      <td>1</td>\n",
              "      <td>1</td>\n",
              "      <td>1</td>\n",
              "      <td>2</td>\n",
              "      <td></td>\n",
              "    </tr>\n",
              "    <tr>\n",
              "      <th>155316</th>\n",
              "      <td>11</td>\n",
              "      <td>16</td>\n",
              "      <td>51</td>\n",
              "      <td>999</td>\n",
              "      <td>5</td>\n",
              "      <td>72</td>\n",
              "      <td>1</td>\n",
              "      <td>2</td>\n",
              "      <td>1</td>\n",
              "      <td>4</td>\n",
              "      <td>...</td>\n",
              "      <td>1</td>\n",
              "      <td>00</td>\n",
              "      <td>06</td>\n",
              "      <td>2</td>\n",
              "      <td>2</td>\n",
              "      <td>1</td>\n",
              "      <td>1</td>\n",
              "      <td>7</td>\n",
              "      <td>2</td>\n",
              "      <td></td>\n",
              "    </tr>\n",
              "  </tbody>\n",
              "</table>\n",
              "<p>155317 rows × 31 columns</p>\n",
              "</div>\n",
              "    <div class=\"colab-df-buttons\">\n",
              "\n",
              "  <div class=\"colab-df-container\">\n",
              "    <button class=\"colab-df-convert\" onclick=\"convertToInteractive('df-fee75a1c-8e96-4375-b45f-73cf917824cd')\"\n",
              "            title=\"Convert this dataframe to an interactive table.\"\n",
              "            style=\"display:none;\">\n",
              "\n",
              "  <svg xmlns=\"http://www.w3.org/2000/svg\" height=\"24px\" viewBox=\"0 -960 960 960\">\n",
              "    <path d=\"M120-120v-720h720v720H120Zm60-500h600v-160H180v160Zm220 220h160v-160H400v160Zm0 220h160v-160H400v160ZM180-400h160v-160H180v160Zm440 0h160v-160H620v160ZM180-180h160v-160H180v160Zm440 0h160v-160H620v160Z\"/>\n",
              "  </svg>\n",
              "    </button>\n",
              "\n",
              "  <style>\n",
              "    .colab-df-container {\n",
              "      display:flex;\n",
              "      gap: 12px;\n",
              "    }\n",
              "\n",
              "    .colab-df-convert {\n",
              "      background-color: #E8F0FE;\n",
              "      border: none;\n",
              "      border-radius: 50%;\n",
              "      cursor: pointer;\n",
              "      display: none;\n",
              "      fill: #1967D2;\n",
              "      height: 32px;\n",
              "      padding: 0 0 0 0;\n",
              "      width: 32px;\n",
              "    }\n",
              "\n",
              "    .colab-df-convert:hover {\n",
              "      background-color: #E2EBFA;\n",
              "      box-shadow: 0px 1px 2px rgba(60, 64, 67, 0.3), 0px 1px 3px 1px rgba(60, 64, 67, 0.15);\n",
              "      fill: #174EA6;\n",
              "    }\n",
              "\n",
              "    .colab-df-buttons div {\n",
              "      margin-bottom: 4px;\n",
              "    }\n",
              "\n",
              "    [theme=dark] .colab-df-convert {\n",
              "      background-color: #3B4455;\n",
              "      fill: #D2E3FC;\n",
              "    }\n",
              "\n",
              "    [theme=dark] .colab-df-convert:hover {\n",
              "      background-color: #434B5C;\n",
              "      box-shadow: 0px 1px 3px 1px rgba(0, 0, 0, 0.15);\n",
              "      filter: drop-shadow(0px 1px 2px rgba(0, 0, 0, 0.3));\n",
              "      fill: #FFFFFF;\n",
              "    }\n",
              "  </style>\n",
              "\n",
              "    <script>\n",
              "      const buttonEl =\n",
              "        document.querySelector('#df-fee75a1c-8e96-4375-b45f-73cf917824cd button.colab-df-convert');\n",
              "      buttonEl.style.display =\n",
              "        google.colab.kernel.accessAllowed ? 'block' : 'none';\n",
              "\n",
              "      async function convertToInteractive(key) {\n",
              "        const element = document.querySelector('#df-fee75a1c-8e96-4375-b45f-73cf917824cd');\n",
              "        const dataTable =\n",
              "          await google.colab.kernel.invokeFunction('convertToInteractive',\n",
              "                                                    [key], {});\n",
              "        if (!dataTable) return;\n",
              "\n",
              "        const docLinkHtml = 'Like what you see? Visit the ' +\n",
              "          '<a target=\"_blank\" href=https://colab.research.google.com/notebooks/data_table.ipynb>data table notebook</a>'\n",
              "          + ' to learn more about interactive tables.';\n",
              "        element.innerHTML = '';\n",
              "        dataTable['output_type'] = 'display_data';\n",
              "        await google.colab.output.renderOutput(dataTable, element);\n",
              "        const docLink = document.createElement('div');\n",
              "        docLink.innerHTML = docLinkHtml;\n",
              "        element.appendChild(docLink);\n",
              "      }\n",
              "    </script>\n",
              "  </div>\n",
              "\n",
              "\n",
              "<div id=\"df-8c775691-91be-4e6e-a068-dddd2a503a6e\">\n",
              "  <button class=\"colab-df-quickchart\" onclick=\"quickchart('df-8c775691-91be-4e6e-a068-dddd2a503a6e')\"\n",
              "            title=\"Suggest charts\"\n",
              "            style=\"display:none;\">\n",
              "\n",
              "<svg xmlns=\"http://www.w3.org/2000/svg\" height=\"24px\"viewBox=\"0 0 24 24\"\n",
              "     width=\"24px\">\n",
              "    <g>\n",
              "        <path d=\"M19 3H5c-1.1 0-2 .9-2 2v14c0 1.1.9 2 2 2h14c1.1 0 2-.9 2-2V5c0-1.1-.9-2-2-2zM9 17H7v-7h2v7zm4 0h-2V7h2v10zm4 0h-2v-4h2v4z\"/>\n",
              "    </g>\n",
              "</svg>\n",
              "  </button>\n",
              "\n",
              "<style>\n",
              "  .colab-df-quickchart {\n",
              "      --bg-color: #E8F0FE;\n",
              "      --fill-color: #1967D2;\n",
              "      --hover-bg-color: #E2EBFA;\n",
              "      --hover-fill-color: #174EA6;\n",
              "      --disabled-fill-color: #AAA;\n",
              "      --disabled-bg-color: #DDD;\n",
              "  }\n",
              "\n",
              "  [theme=dark] .colab-df-quickchart {\n",
              "      --bg-color: #3B4455;\n",
              "      --fill-color: #D2E3FC;\n",
              "      --hover-bg-color: #434B5C;\n",
              "      --hover-fill-color: #FFFFFF;\n",
              "      --disabled-bg-color: #3B4455;\n",
              "      --disabled-fill-color: #666;\n",
              "  }\n",
              "\n",
              "  .colab-df-quickchart {\n",
              "    background-color: var(--bg-color);\n",
              "    border: none;\n",
              "    border-radius: 50%;\n",
              "    cursor: pointer;\n",
              "    display: none;\n",
              "    fill: var(--fill-color);\n",
              "    height: 32px;\n",
              "    padding: 0;\n",
              "    width: 32px;\n",
              "  }\n",
              "\n",
              "  .colab-df-quickchart:hover {\n",
              "    background-color: var(--hover-bg-color);\n",
              "    box-shadow: 0 1px 2px rgba(60, 64, 67, 0.3), 0 1px 3px 1px rgba(60, 64, 67, 0.15);\n",
              "    fill: var(--button-hover-fill-color);\n",
              "  }\n",
              "\n",
              "  .colab-df-quickchart-complete:disabled,\n",
              "  .colab-df-quickchart-complete:disabled:hover {\n",
              "    background-color: var(--disabled-bg-color);\n",
              "    fill: var(--disabled-fill-color);\n",
              "    box-shadow: none;\n",
              "  }\n",
              "\n",
              "  .colab-df-spinner {\n",
              "    border: 2px solid var(--fill-color);\n",
              "    border-color: transparent;\n",
              "    border-bottom-color: var(--fill-color);\n",
              "    animation:\n",
              "      spin 1s steps(1) infinite;\n",
              "  }\n",
              "\n",
              "  @keyframes spin {\n",
              "    0% {\n",
              "      border-color: transparent;\n",
              "      border-bottom-color: var(--fill-color);\n",
              "      border-left-color: var(--fill-color);\n",
              "    }\n",
              "    20% {\n",
              "      border-color: transparent;\n",
              "      border-left-color: var(--fill-color);\n",
              "      border-top-color: var(--fill-color);\n",
              "    }\n",
              "    30% {\n",
              "      border-color: transparent;\n",
              "      border-left-color: var(--fill-color);\n",
              "      border-top-color: var(--fill-color);\n",
              "      border-right-color: var(--fill-color);\n",
              "    }\n",
              "    40% {\n",
              "      border-color: transparent;\n",
              "      border-right-color: var(--fill-color);\n",
              "      border-top-color: var(--fill-color);\n",
              "    }\n",
              "    60% {\n",
              "      border-color: transparent;\n",
              "      border-right-color: var(--fill-color);\n",
              "    }\n",
              "    80% {\n",
              "      border-color: transparent;\n",
              "      border-right-color: var(--fill-color);\n",
              "      border-bottom-color: var(--fill-color);\n",
              "    }\n",
              "    90% {\n",
              "      border-color: transparent;\n",
              "      border-bottom-color: var(--fill-color);\n",
              "    }\n",
              "  }\n",
              "</style>\n",
              "\n",
              "  <script>\n",
              "    async function quickchart(key) {\n",
              "      const quickchartButtonEl =\n",
              "        document.querySelector('#' + key + ' button');\n",
              "      quickchartButtonEl.disabled = true;  // To prevent multiple clicks.\n",
              "      quickchartButtonEl.classList.add('colab-df-spinner');\n",
              "      try {\n",
              "        const charts = await google.colab.kernel.invokeFunction(\n",
              "            'suggestCharts', [key], {});\n",
              "      } catch (error) {\n",
              "        console.error('Error during call to suggestCharts:', error);\n",
              "      }\n",
              "      quickchartButtonEl.classList.remove('colab-df-spinner');\n",
              "      quickchartButtonEl.classList.add('colab-df-quickchart-complete');\n",
              "    }\n",
              "    (() => {\n",
              "      let quickchartButtonEl =\n",
              "        document.querySelector('#df-8c775691-91be-4e6e-a068-dddd2a503a6e button');\n",
              "      quickchartButtonEl.style.display =\n",
              "        google.colab.kernel.accessAllowed ? 'block' : 'none';\n",
              "    })();\n",
              "  </script>\n",
              "</div>\n",
              "    </div>\n",
              "  </div>\n"
            ],
            "application/vnd.google.colaboratory.intrinsic+json": {
              "type": "dataframe",
              "variable_name": "viv"
            }
          },
          "metadata": {},
          "execution_count": 3
        }
      ]
    },
    {
      "cell_type": "markdown",
      "source": [
        "Como se observa, esta tabla de datos (```dataframe```) tiene 155317 filas y 31 columnas. Cada fila contiene los datos censales de una vivienda.  \n",
        "En los ```dataframe``` las filas se identifican con un ```index```, que generalmente es único para cada fila. Las columnas se identifican con un nombre. No debe confundirse el index de la tabla con una columna. Es decir, el index no es la primera columna.\n",
        "\n",
        "<img src=\"https://github.com/otoperalias/teaching/blob/TallerUTE_AnalisisCuanti/material/df_structure.jpg?raw=true\" alt=\"drawing\" width=\"550\"/>"
      ],
      "metadata": {
        "id": "TGf4OQxaKtCF"
      }
    },
    {
      "cell_type": "markdown",
      "source": [
        "## 3. Exploración inicial"
      ],
      "metadata": {
        "id": "gq6WEgcpnecL"
      }
    },
    {
      "cell_type": "markdown",
      "source": [
        "Para conocer las columnas que contiene la tabla, escribimos el siguiente código:"
      ],
      "metadata": {
        "id": "97F5KvCZMYKH"
      }
    },
    {
      "cell_type": "code",
      "source": [
        "viv.columns"
      ],
      "metadata": {
        "id": "doEmXame4jNY",
        "colab": {
          "base_uri": "https://localhost:8080/"
        },
        "outputId": "7d15ffc1-d082-494c-ec78-5eb9b7cbab99"
      },
      "execution_count": 4,
      "outputs": [
        {
          "output_type": "execute_result",
          "data": {
            "text/plain": [
              "Index(['I01', 'I02', 'I03', 'I04', 'I05', 'I09', 'I10', 'URV', 'VTV', 'VAP',\n",
              "       'VCO', 'V01', 'V03', 'V05', 'V02', 'V04', 'V06', 'V07', 'V08', 'V09',\n",
              "       'V10', 'V11', 'V12A', 'V12B', 'V13', 'V14', 'V15', 'V16', 'TOTPER',\n",
              "       'TOTDOR', 'TOTEMI'],\n",
              "      dtype='object')"
            ]
          },
          "metadata": {},
          "execution_count": 4
        }
      ]
    },
    {
      "cell_type": "markdown",
      "source": [
        "Nótese que necesitamos el diccionario de datos del censo para conocer el significado de cada columna. Por otra parte, para saber el significado de los diferentes valores que toman las variables, necesitamos el cuestionario del censo. Ambos documentos se mencionan al comienzo de este notebook."
      ],
      "metadata": {
        "id": "SZW7L5PyMf_X"
      }
    },
    {
      "cell_type": "markdown",
      "source": [
        "Para obtener el número de filas de la tabla (o sea, su longitud) escribimos lo siguiente:"
      ],
      "metadata": {
        "id": "XwyB3AvuNEtv"
      }
    },
    {
      "cell_type": "code",
      "source": [
        "len(viv)"
      ],
      "metadata": {
        "id": "35aUF5vmtZ4T",
        "colab": {
          "base_uri": "https://localhost:8080/"
        },
        "outputId": "0d4e76f3-8b10-474b-e73c-d2f7836ee91c"
      },
      "execution_count": 5,
      "outputs": [
        {
          "output_type": "execute_result",
          "data": {
            "text/plain": [
              "155317"
            ]
          },
          "metadata": {},
          "execution_count": 5
        }
      ]
    },
    {
      "cell_type": "markdown",
      "source": [
        "Podemos comprobar en el PDF con los resultados para Loja que en esta provincia hay 155308 viviendas. La pequeña diferencia se debe a que hay 9 cuestionarios de hogares sin viviendas (código 17 en la variable VTV).  \n",
        "La función ```value_counts()``` nos da la distribución de frecuencias de una variable."
      ],
      "metadata": {
        "id": "JOcZtO3eNS-G"
      }
    },
    {
      "cell_type": "code",
      "source": [
        "# Tipo de Vivienda\n",
        "viv[\"VTV\"].value_counts()"
      ],
      "metadata": {
        "id": "ShieU-le4Gxs",
        "colab": {
          "base_uri": "https://localhost:8080/"
        },
        "outputId": "eee5fc06-2341-445e-f573-a78dc09ce4fb"
      },
      "execution_count": 6,
      "outputs": [
        {
          "output_type": "execute_result",
          "data": {
            "text/plain": [
              "1     121940\n",
              "2      12593\n",
              "4       8056\n",
              "3       7428\n",
              "6       1680\n",
              "5       1393\n",
              "7       1351\n",
              "8        605\n",
              "9         75\n",
              "10        59\n",
              "14        54\n",
              "13        25\n",
              "16        24\n",
              "11         9\n",
              "17         9\n",
              "15         9\n",
              "12         7\n",
              "Name: VTV, dtype: int64"
            ]
          },
          "metadata": {},
          "execution_count": 6
        }
      ]
    },
    {
      "cell_type": "markdown",
      "source": [
        "En cuanto a terminología, las palabras *variable*, *campo* y *columna* se refieren a lo mismo. En inglés, *variable*, *field* y *column*."
      ],
      "metadata": {
        "id": "wiMGw81ZN8JA"
      }
    },
    {
      "cell_type": "markdown",
      "source": [
        "Ahora creamos un gráfico similar al del PDF (página 7: *¿Qué tipo de vivienda tenemos?*):"
      ],
      "metadata": {
        "id": "Uc7vPFZKOUYl"
      }
    },
    {
      "cell_type": "code",
      "source": [
        "sns.histplot(data=viv,x=\"VTV\",stat=\"percent\")"
      ],
      "metadata": {
        "id": "dKaR0u5wyzE6",
        "colab": {
          "base_uri": "https://localhost:8080/",
          "height": 466
        },
        "outputId": "ce9083dc-d5e3-4aad-a0b8-becd8713c2dc"
      },
      "execution_count": 19,
      "outputs": [
        {
          "output_type": "execute_result",
          "data": {
            "text/plain": [
              "<Axes: xlabel='VTV', ylabel='Percent'>"
            ]
          },
          "metadata": {},
          "execution_count": 19
        },
        {
          "output_type": "display_data",
          "data": {
            "text/plain": [
              "<Figure size 640x480 with 1 Axes>"
            ],
            "image/png": "[encoded data removed]"
          },
          "metadata": {}
        }
      ]
    },
    {
      "cell_type": "markdown",
      "source": [
        "El siguiente bloque de código procesa ligeramente los datos para crear un gráfico más entendible. En concreto, creamos una nueva variable en la que asignamos a cada código numérico su etiqueta."
      ],
      "metadata": {
        "id": "V5M0RTKgO0H_"
      }
    },
    {
      "cell_type": "code",
      "source": [
        "# Procesamos los datos para mejorar el gráfico\n",
        "viv['tipov']=\"\" # Añadimos una nueva columna y en las líneas de código siguientes le damos contenido según los códigos de la columna VTV\n",
        "viv.loc[viv['VTV']==1,'tipov']=\"Casa/Villa\"\n",
        "viv.loc[viv['VTV']==2,'tipov']=\"Departamento\"\n",
        "viv.loc[viv['VTV']==3,'tipov']=\"Cuarto\"\n",
        "viv.loc[viv['VTV']==4,'tipov']=\"Mediagua\"\n",
        "viv.loc[viv['VTV']==5,'tipov']=\"Rancho\"\n",
        "viv.loc[(viv['VTV']==6) | (viv['VTV']==7),'tipov']=\"Covacha/Choza\"\n",
        "viv.loc[(viv['VTV']==8),'tipov']=\"Otro\""
      ],
      "metadata": {
        "id": "CgghpHthzBmh"
      },
      "execution_count": 20,
      "outputs": []
    },
    {
      "cell_type": "markdown",
      "source": [
        "Ahora filtramos los datos para centrarnos en las viviendas particulares (excluyendo las colectivas):"
      ],
      "metadata": {
        "id": "I_w9ySPs6w9p"
      }
    },
    {
      "cell_type": "code",
      "source": [
        "vivpar=viv.loc[viv['VTV']<=8].copy()"
      ],
      "metadata": {
        "id": "JE6mLeBw6_--"
      },
      "execution_count": 21,
      "outputs": []
    },
    {
      "cell_type": "markdown",
      "source": [
        "Para que las barras del gráfico salgan ordenadas según el código de la variable VTV, ordenamos la tabla por dicha variable:"
      ],
      "metadata": {
        "id": "iMqx5Ur67D7H"
      }
    },
    {
      "cell_type": "code",
      "source": [
        "vivpar=vivpar.sort_values(\"VTV\")"
      ],
      "metadata": {
        "id": "kzpoJZ0Y7Vc3"
      },
      "execution_count": 22,
      "outputs": []
    },
    {
      "cell_type": "markdown",
      "source": [
        "Creamos el gráfico:"
      ],
      "metadata": {
        "id": "9cFjLmp-7bpf"
      }
    },
    {
      "cell_type": "code",
      "source": [
        "fig,ax=plt.subplots()  # Aquí se indica que queremos crear una figura (fig) que contiene un gráfico (ax)\n",
        "sns.histplot(data=vivpar,x=\"tipov\",stat=\"percent\",ax=ax)  # Se indica que queremos representar un histograma, que muestre los porcentajes\n",
        "ax.tick_params(axis='x', rotation=90) # Etiquetas del eje x giradas 90 grados para visualizarse mejor.\n",
        "ax.set_ylabel(\"Porcentaje\") # Título del eje y, donde se indica la unidad de medida\n",
        "ax.set_xlabel(\"\")  # No queremos título en el eje x, porque se sobre entiende.\n",
        "ax.set_title(\"¿QUÉ TIPO DE VIVIENDA TENEMOS?\")  # Título de la figura\n",
        "plt.show() # Comando para que se dibuje el gráfico."
      ],
      "metadata": {
        "id": "iqGxc1ti7e-Y",
        "colab": {
          "base_uri": "https://localhost:8080/",
          "height": 548
        },
        "outputId": "0f41cad2-4f3b-4572-8118-df0cd0be4d27"
      },
      "execution_count": 23,
      "outputs": [
        {
          "output_type": "display_data",
          "data": {
            "text/plain": [
              "<Figure size 640x480 with 1 Axes>"
            ],
            "image/png": "[encoded data removed]"
          },
          "metadata": {}
        }
      ]
    },
    {
      "cell_type": "markdown",
      "source": [
        "## 4. Construcción del indicador de calidad de las viviendas"
      ],
      "metadata": {
        "id": "hXkT_j_VnlrZ"
      }
    },
    {
      "cell_type": "markdown",
      "source": [
        "Nuestro objetivo es construir un indicador sintético o compuesto de calidad de las viviendas. Los indicadores sintéticos se construyen para medir algo que no es directamente cuantificable. Por ejemplo, la altura de los edificios o el material del suelo sí es observable y cuantificable directamente, pero *la calidad* de las viviendas depende del criterio que fije el investigador. Por tanto, lo primero que hay que hacer es definir el concepto de calidad de la vivienda y, posteriormente, operacionalizarlo.  \n",
        "**En general, hay que seguir estos pasos:**\n",
        "1. **Conceptualización**: definir el fenómeno que se quiere medir.\n",
        "2. **Dimensiones**: precisar las dimensiones del fenómeno a medir.  \n",
        "3. **Indicadores parciales**: qué indicadores vamos a utilizar para medir cada dimensión.\n",
        "4. **Variables simples**: las variables que van a formar parte de cada indicador parcial.\n",
        "5. **Método de agregación**: decidir el método de agregación de las variables simples en indicadores parciales, de los indicadores parciales en dimensiones y de las dimensiones en el indicador sintético. La media aritmética es el método más sencillo e implica que los diferentes componentes tienen la misma importancia y se compensan perfectamente entre sí (es decir, un valor alto en uno compensa un valor bajo en otro). Otros métodos son, por ejemplo, la media ponderada, donde a cada componente se le asigna un peso diferente, y la media geométrica, que evita que los componentes sean directamente compensables entre sí.\n",
        "\n",
        "Aplicado al indicador que queremos construir:\n",
        "1.  Definimos la calidad de la vivienda como el grado de confort, salubridad y seguridad del inmueble.\n",
        "2. Tenemos tres dimensiones: confort, salubridad y seguridad.\n",
        "3. Vamos a usar los siguientes indicadores parciales:\n",
        " * Confort:\n",
        " * Salubridad:\n",
        " * Seguridad:\n",
        "4. Las variables simples serán las siguientes:\n",
        " * Lasdfasf\n",
        " *asdfasdf\n",
        "5. El método de agregación será siempre, por sencillez, la media aritmética."
      ],
      "metadata": {
        "id": "0QKJsIYpYV-9"
      }
    },
    {
      "cell_type": "markdown",
      "source": [
        "### 4.1. Distribución de frecuencias.  \n",
        "  El gráfico anterior es un ejemplo de distribución de frecuencias, un histograma. Nos muestra como se dividen las observaciones (viviendas) por los valores o categorías de las variables.\n",
        "  <br />  \n",
        "Volvemos a crear un histograma, esta vez con la variable total de personas (TOTPER). Usamos la tabla ```vivpar``` y volvemos a hacer un filtro para quedarmos con aquellas viviendas particulares ocupadas con personas viviendo. A esta tabla la vamos a llamar *vpo*."
      ],
      "metadata": {
        "id": "Fe5fTKeaskEJ"
      }
    },
    {
      "cell_type": "code",
      "source": [
        "vpo=vivpar.loc[vivpar['VCO']==\"1\"].copy()"
      ],
      "metadata": {
        "id": "aV3vF6bKxWmq"
      },
      "execution_count": 24,
      "outputs": []
    },
    {
      "cell_type": "code",
      "source": [
        "sns.histplot(data=vpo,x=\"TOTPER\", bins=22)\n"
      ],
      "metadata": {
        "id": "IO-VMc5eyKsB",
        "colab": {
          "base_uri": "https://localhost:8080/",
          "height": 466
        },
        "outputId": "5955b45f-5201-4302-8545-3fcdf9c66ef2"
      },
      "execution_count": 25,
      "outputs": [
        {
          "output_type": "execute_result",
          "data": {
            "text/plain": [
              "<Axes: xlabel='TOTPER', ylabel='Count'>"
            ]
          },
          "metadata": {},
          "execution_count": 25
        },
        {
          "output_type": "display_data",
          "data": {
            "text/plain": [
              "<Figure size 640x480 with 1 Axes>"
            ],
            "image/png": "[encoded data removed]"
          },
          "metadata": {}
        }
      ]
    },
    {
      "cell_type": "markdown",
      "source": [
        "### 4.2. Medidas de tendencia central.  \n",
        "- La *moda* es el valor o categoría que más se repite.   \n",
        "- La *mediana* es el valor central de la distribución, que la divide en dos partes iguales.  \n",
        "- La *media* es el promedio.\n",
        "  <br />  \n",
        "  Vamos a analizar las medidas de tendencia central de la variable total de personas que residen en viviendas particulares."
      ],
      "metadata": {
        "id": "9fTO_O6gtA7X"
      }
    },
    {
      "cell_type": "code",
      "source": [
        "# Moda\n",
        "vpo['TOTPER'].mode()"
      ],
      "metadata": {
        "id": "uFQuoHBMzfCa"
      },
      "execution_count": null,
      "outputs": []
    },
    {
      "cell_type": "code",
      "source": [
        "# Mediana\n",
        "vpo['TOTPER'].median()"
      ],
      "metadata": {
        "id": "uv3DSmzY0UWa"
      },
      "execution_count": null,
      "outputs": []
    },
    {
      "cell_type": "code",
      "source": [
        "# Media\n",
        "vpo['TOTPER'].mean()"
      ],
      "metadata": {
        "id": "NgXYWyz51Kh6"
      },
      "execution_count": null,
      "outputs": []
    },
    {
      "cell_type": "markdown",
      "source": [
        "### 4.3. Medidas de dispersión o variabilidad:\n",
        "- Rango: valor máximo - valor mínimo.\n",
        "- Varianza: promedio de las desviaciones cuadráticas respecto a la media.\n",
        "- Desviación estándar: raíz cuadrada de la varianza. La desviación estándar es una medida interesante porque en una [distribución normal](https://upload.wikimedia.org/wikipedia/commons/thumb/3/3a/Standard_deviation_diagram_micro.svg/1920px-Standard_deviation_diagram_micro.svg.png), el 64,2% de la distribución se encuentra en torno a 1 desviación estandar de la media."
      ],
      "metadata": {
        "id": "O_sOIMA51yK7"
      }
    },
    {
      "cell_type": "code",
      "source": [
        "print(\"El rango del número de personas ocupando una vivienda es: \",\n",
        "      vpo['TOTPER'].max()-vpo['TOTPER'].min())"
      ],
      "metadata": {
        "id": "T4rYOVlh13Ud"
      },
      "execution_count": null,
      "outputs": []
    },
    {
      "cell_type": "code",
      "source": [
        "print(\"La varianza del número de personas ocupando una vivienda es: \",\n",
        "      vpo['TOTPER'].var())"
      ],
      "metadata": {
        "id": "TPKBglOZ3S6m"
      },
      "execution_count": null,
      "outputs": []
    },
    {
      "cell_type": "code",
      "source": [
        "print(\"La desviación estándar del número de personas ocupando una vivienda es: \",\n",
        "      vpo['TOTPER'].std())"
      ],
      "metadata": {
        "id": "R1gBm_Ox3ful"
      },
      "execution_count": null,
      "outputs": []
    },
    {
      "cell_type": "markdown",
      "source": [
        "### 4.4. Otras medidas de estadística descriptiva:\n",
        "- Asimetría: en qué medida la distribución objeto de estudio se parece a una normal.\n",
        "-Curtosis: elevación o achatamiento de la distribución, comparada con una normal.\n",
        "-z-score: valor normalizado por la media y desviación estándar ```(x-u)/sigma```. Indica cuántas desviaciones estándar está un valor alejado de la media.\n"
      ],
      "metadata": {
        "id": "qrkBAhzs37Fe"
      }
    },
    {
      "cell_type": "code",
      "source": [
        "# Asimetría\n",
        "vpo['TOTPER'].skew() # Valor > 0: la cola de la distribución de la derecha es mayor que la de la izquierda (valor <0 sería lo contrario)."
      ],
      "metadata": {
        "id": "XkYdLve_3o8d"
      },
      "execution_count": null,
      "outputs": []
    },
    {
      "cell_type": "code",
      "source": [
        "# Curtosis:\n",
        "vpo['TOTPER'].kurt() # Si x > 0: curtosis alta; si ~0 normal, si <0: baja. En este caso, tenemos un nivel bajo."
      ],
      "metadata": {
        "id": "lucei3k46NJe"
      },
      "execution_count": null,
      "outputs": []
    },
    {
      "cell_type": "code",
      "source": [
        "# Z-score:\n",
        "zscore=(vpo['TOTPER']-vpo['TOTPER'].mean())/vpo['TOTPER'].std()\n"
      ],
      "metadata": {
        "id": "3G2VSI-g7PZd"
      },
      "execution_count": null,
      "outputs": []
    },
    {
      "cell_type": "markdown",
      "source": [
        "### 4.5. Resumen de estadísticos descriptivos"
      ],
      "metadata": {
        "id": "FkuAhjlYHyFQ"
      }
    },
    {
      "cell_type": "markdown",
      "source": [
        "Resumen de la variable TOTPER:"
      ],
      "metadata": {
        "id": "QGCx1TAg8jXL"
      }
    },
    {
      "cell_type": "code",
      "source": [
        "vpo['TOTPER'].describe()"
      ],
      "metadata": {
        "id": "NTWcR4KbH21f"
      },
      "execution_count": null,
      "outputs": []
    },
    {
      "cell_type": "markdown",
      "source": [
        "Resumen de la tabla vpo completa\n"
      ],
      "metadata": {
        "id": "fCt5uGmD8qoH"
      }
    },
    {
      "cell_type": "code",
      "source": [
        "vpo.describe()"
      ],
      "metadata": {
        "id": "ca9fQyZrH_E_"
      },
      "execution_count": null,
      "outputs": []
    },
    {
      "cell_type": "markdown",
      "source": [
        "**Cuidado**: estos valores solo tienen sentido para las variables numéricas cardinales/ordinales, pero no para las que establecen categorías (!).  \n",
        "Además, aquí podemos comprobar que algunas variables que deben ser numéricas están almacenadas como texto (y por tanto no aparecen en la tabla), por ej. el número de focos."
      ],
      "metadata": {
        "id": "j0Ois56I87ci"
      }
    },
    {
      "cell_type": "markdown",
      "source": [
        "## 5. Agregaciones espaciales"
      ],
      "metadata": {
        "id": "oxzazpMvebsm"
      }
    },
    {
      "cell_type": "markdown",
      "source": [
        "Hasta ahora hemos estado usando datos individuales (a nivel de vivienda), pero con frecuencia nos interesa conocer los datos agregados de diferentes unidades geográficas, como la parroquia, el cantón y la provincia.  \n",
        "Vamos a agrupar las filas de la tabla por cantones usando la función ```groupby()```. Para ello, tenemos que preparar las variables que nos interesan agrupar. Supongamos que queremos medir el nivel de ocupación de las viviendas (personas), el número de dormitorios y su estado de conservación. Por tanto, nos interesan las siguientes variables:  TOTPER, TOTDOR,  V02, V04 y V06."
      ],
      "metadata": {
        "id": "hdQwH5DcefqG"
      }
    },
    {
      "cell_type": "markdown",
      "source": [
        "Primero vamos a procesar la información del estado de conservación para crear variables que se puedan agregar por unidades geográficas."
      ],
      "metadata": {
        "id": "NByOIHsbtaq-"
      }
    },
    {
      "cell_type": "code",
      "source": [
        "# Estado de conservación (1 si bueno, 0 el resto)\n",
        "vpo['techo_est']=0\n",
        "vpo.loc[(vpo['V02']==\"1\") , 'techo_est']=1\n",
        "\n",
        "vpo['pared_est']=0\n",
        "vpo.loc[(vpo['V04']==\"1\") , 'pared_est']=1\n",
        "\n",
        "vpo['suelo_est']=0\n",
        "vpo.loc[(vpo['V06']==\"1\") , 'suelo_est']=1\n",
        "\n",
        "vpo['buen_est']=0\n",
        "vpo.loc[(vpo['V02']==\"1\") & (vpo['V04']==\"1\") & (vpo['V06']==\"1\") , 'buen_est']=1\n",
        "\n",
        "vpo[['techo_est','pared_est','suelo_est','buen_est']].describe()"
      ],
      "metadata": {
        "id": "LDHMEZhkk_7q",
        "colab": {
          "base_uri": "https://localhost:8080/",
          "height": 300
        },
        "outputId": "41815926-1659-4378-9d8d-fe877959aa49"
      },
      "execution_count": 26,
      "outputs": [
        {
          "output_type": "execute_result",
          "data": {
            "text/plain": [
              "           techo_est      pared_est      suelo_est       buen_est\n",
              "count  113708.000000  113708.000000  113708.000000  113708.000000\n",
              "mean        0.391415       0.432072       0.392417       0.276120\n",
              "std         0.488069       0.495366       0.488291       0.447079\n",
              "min         0.000000       0.000000       0.000000       0.000000\n",
              "25%         0.000000       0.000000       0.000000       0.000000\n",
              "50%         0.000000       0.000000       0.000000       0.000000\n",
              "75%         1.000000       1.000000       1.000000       1.000000\n",
              "max         1.000000       1.000000       1.000000       1.000000"
            ],
            "text/html": [
              "\n",
              "  <div id=\"df-6497e685-7492-433c-8e2a-e15c06d92b5f\" class=\"colab-df-container\">\n",
              "    <div>\n",
              "<style scoped>\n",
              "    .dataframe tbody tr th:only-of-type {\n",
              "        vertical-align: middle;\n",
              "    }\n",
              "\n",
              "    .dataframe tbody tr th {\n",
              "        vertical-align: top;\n",
              "    }\n",
              "\n",
              "    .dataframe thead th {\n",
              "        text-align: right;\n",
              "    }\n",
              "</style>\n",
              "<table border=\"1\" class=\"dataframe\">\n",
              "  <thead>\n",
              "    <tr style=\"text-align: right;\">\n",
              "      <th></th>\n",
              "      <th>techo_est</th>\n",
              "      <th>pared_est</th>\n",
              "      <th>suelo_est</th>\n",
              "      <th>buen_est</th>\n",
              "    </tr>\n",
              "  </thead>\n",
              "  <tbody>\n",
              "    <tr>\n",
              "      <th>count</th>\n",
              "      <td>113708.000000</td>\n",
              "      <td>113708.000000</td>\n",
              "      <td>113708.000000</td>\n",
              "      <td>113708.000000</td>\n",
              "    </tr>\n",
              "    <tr>\n",
              "      <th>mean</th>\n",
              "      <td>0.391415</td>\n",
              "      <td>0.432072</td>\n",
              "      <td>0.392417</td>\n",
              "      <td>0.276120</td>\n",
              "    </tr>\n",
              "    <tr>\n",
              "      <th>std</th>\n",
              "      <td>0.488069</td>\n",
              "      <td>0.495366</td>\n",
              "      <td>0.488291</td>\n",
              "      <td>0.447079</td>\n",
              "    </tr>\n",
              "    <tr>\n",
              "      <th>min</th>\n",
              "      <td>0.000000</td>\n",
              "      <td>0.000000</td>\n",
              "      <td>0.000000</td>\n",
              "      <td>0.000000</td>\n",
              "    </tr>\n",
              "    <tr>\n",
              "      <th>25%</th>\n",
              "      <td>0.000000</td>\n",
              "      <td>0.000000</td>\n",
              "      <td>0.000000</td>\n",
              "      <td>0.000000</td>\n",
              "    </tr>\n",
              "    <tr>\n",
              "      <th>50%</th>\n",
              "      <td>0.000000</td>\n",
              "      <td>0.000000</td>\n",
              "      <td>0.000000</td>\n",
              "      <td>0.000000</td>\n",
              "    </tr>\n",
              "    <tr>\n",
              "      <th>75%</th>\n",
              "      <td>1.000000</td>\n",
              "      <td>1.000000</td>\n",
              "      <td>1.000000</td>\n",
              "      <td>1.000000</td>\n",
              "    </tr>\n",
              "    <tr>\n",
              "      <th>max</th>\n",
              "      <td>1.000000</td>\n",
              "      <td>1.000000</td>\n",
              "      <td>1.000000</td>\n",
              "      <td>1.000000</td>\n",
              "    </tr>\n",
              "  </tbody>\n",
              "</table>\n",
              "</div>\n",
              "    <div class=\"colab-df-buttons\">\n",
              "\n",
              "  <div class=\"colab-df-container\">\n",
              "    <button class=\"colab-df-convert\" onclick=\"convertToInteractive('df-6497e685-7492-433c-8e2a-e15c06d92b5f')\"\n",
              "            title=\"Convert this dataframe to an interactive table.\"\n",
              "            style=\"display:none;\">\n",
              "\n",
              "  <svg xmlns=\"http://www.w3.org/2000/svg\" height=\"24px\" viewBox=\"0 -960 960 960\">\n",
              "    <path d=\"M120-120v-720h720v720H120Zm60-500h600v-160H180v160Zm220 220h160v-160H400v160Zm0 220h160v-160H400v160ZM180-400h160v-160H180v160Zm440 0h160v-160H620v160ZM180-180h160v-160H180v160Zm440 0h160v-160H620v160Z\"/>\n",
              "  </svg>\n",
              "    </button>\n",
              "\n",
              "  <style>\n",
              "    .colab-df-container {\n",
              "      display:flex;\n",
              "      gap: 12px;\n",
              "    }\n",
              "\n",
              "    .colab-df-convert {\n",
              "      background-color: #E8F0FE;\n",
              "      border: none;\n",
              "      border-radius: 50%;\n",
              "      cursor: pointer;\n",
              "      display: none;\n",
              "      fill: #1967D2;\n",
              "      height: 32px;\n",
              "      padding: 0 0 0 0;\n",
              "      width: 32px;\n",
              "    }\n",
              "\n",
              "    .colab-df-convert:hover {\n",
              "      background-color: #E2EBFA;\n",
              "      box-shadow: 0px 1px 2px rgba(60, 64, 67, 0.3), 0px 1px 3px 1px rgba(60, 64, 67, 0.15);\n",
              "      fill: #174EA6;\n",
              "    }\n",
              "\n",
              "    .colab-df-buttons div {\n",
              "      margin-bottom: 4px;\n",
              "    }\n",
              "\n",
              "    [theme=dark] .colab-df-convert {\n",
              "      background-color: #3B4455;\n",
              "      fill: #D2E3FC;\n",
              "    }\n",
              "\n",
              "    [theme=dark] .colab-df-convert:hover {\n",
              "      background-color: #434B5C;\n",
              "      box-shadow: 0px 1px 3px 1px rgba(0, 0, 0, 0.15);\n",
              "      filter: drop-shadow(0px 1px 2px rgba(0, 0, 0, 0.3));\n",
              "      fill: #FFFFFF;\n",
              "    }\n",
              "  </style>\n",
              "\n",
              "    <script>\n",
              "      const buttonEl =\n",
              "        document.querySelector('#df-6497e685-7492-433c-8e2a-e15c06d92b5f button.colab-df-convert');\n",
              "      buttonEl.style.display =\n",
              "        google.colab.kernel.accessAllowed ? 'block' : 'none';\n",
              "\n",
              "      async function convertToInteractive(key) {\n",
              "        const element = document.querySelector('#df-6497e685-7492-433c-8e2a-e15c06d92b5f');\n",
              "        const dataTable =\n",
              "          await google.colab.kernel.invokeFunction('convertToInteractive',\n",
              "                                                    [key], {});\n",
              "        if (!dataTable) return;\n",
              "\n",
              "        const docLinkHtml = 'Like what you see? Visit the ' +\n",
              "          '<a target=\"_blank\" href=https://colab.research.google.com/notebooks/data_table.ipynb>data table notebook</a>'\n",
              "          + ' to learn more about interactive tables.';\n",
              "        element.innerHTML = '';\n",
              "        dataTable['output_type'] = 'display_data';\n",
              "        await google.colab.output.renderOutput(dataTable, element);\n",
              "        const docLink = document.createElement('div');\n",
              "        docLink.innerHTML = docLinkHtml;\n",
              "        element.appendChild(docLink);\n",
              "      }\n",
              "    </script>\n",
              "  </div>\n",
              "\n",
              "\n",
              "<div id=\"df-70b4ce3f-834f-4d00-8ad3-076394f01776\">\n",
              "  <button class=\"colab-df-quickchart\" onclick=\"quickchart('df-70b4ce3f-834f-4d00-8ad3-076394f01776')\"\n",
              "            title=\"Suggest charts\"\n",
              "            style=\"display:none;\">\n",
              "\n",
              "<svg xmlns=\"http://www.w3.org/2000/svg\" height=\"24px\"viewBox=\"0 0 24 24\"\n",
              "     width=\"24px\">\n",
              "    <g>\n",
              "        <path d=\"M19 3H5c-1.1 0-2 .9-2 2v14c0 1.1.9 2 2 2h14c1.1 0 2-.9 2-2V5c0-1.1-.9-2-2-2zM9 17H7v-7h2v7zm4 0h-2V7h2v10zm4 0h-2v-4h2v4z\"/>\n",
              "    </g>\n",
              "</svg>\n",
              "  </button>\n",
              "\n",
              "<style>\n",
              "  .colab-df-quickchart {\n",
              "      --bg-color: #E8F0FE;\n",
              "      --fill-color: #1967D2;\n",
              "      --hover-bg-color: #E2EBFA;\n",
              "      --hover-fill-color: #174EA6;\n",
              "      --disabled-fill-color: #AAA;\n",
              "      --disabled-bg-color: #DDD;\n",
              "  }\n",
              "\n",
              "  [theme=dark] .colab-df-quickchart {\n",
              "      --bg-color: #3B4455;\n",
              "      --fill-color: #D2E3FC;\n",
              "      --hover-bg-color: #434B5C;\n",
              "      --hover-fill-color: #FFFFFF;\n",
              "      --disabled-bg-color: #3B4455;\n",
              "      --disabled-fill-color: #666;\n",
              "  }\n",
              "\n",
              "  .colab-df-quickchart {\n",
              "    background-color: var(--bg-color);\n",
              "    border: none;\n",
              "    border-radius: 50%;\n",
              "    cursor: pointer;\n",
              "    display: none;\n",
              "    fill: var(--fill-color);\n",
              "    height: 32px;\n",
              "    padding: 0;\n",
              "    width: 32px;\n",
              "  }\n",
              "\n",
              "  .colab-df-quickchart:hover {\n",
              "    background-color: var(--hover-bg-color);\n",
              "    box-shadow: 0 1px 2px rgba(60, 64, 67, 0.3), 0 1px 3px 1px rgba(60, 64, 67, 0.15);\n",
              "    fill: var(--button-hover-fill-color);\n",
              "  }\n",
              "\n",
              "  .colab-df-quickchart-complete:disabled,\n",
              "  .colab-df-quickchart-complete:disabled:hover {\n",
              "    background-color: var(--disabled-bg-color);\n",
              "    fill: var(--disabled-fill-color);\n",
              "    box-shadow: none;\n",
              "  }\n",
              "\n",
              "  .colab-df-spinner {\n",
              "    border: 2px solid var(--fill-color);\n",
              "    border-color: transparent;\n",
              "    border-bottom-color: var(--fill-color);\n",
              "    animation:\n",
              "      spin 1s steps(1) infinite;\n",
              "  }\n",
              "\n",
              "  @keyframes spin {\n",
              "    0% {\n",
              "      border-color: transparent;\n",
              "      border-bottom-color: var(--fill-color);\n",
              "      border-left-color: var(--fill-color);\n",
              "    }\n",
              "    20% {\n",
              "      border-color: transparent;\n",
              "      border-left-color: var(--fill-color);\n",
              "      border-top-color: var(--fill-color);\n",
              "    }\n",
              "    30% {\n",
              "      border-color: transparent;\n",
              "      border-left-color: var(--fill-color);\n",
              "      border-top-color: var(--fill-color);\n",
              "      border-right-color: var(--fill-color);\n",
              "    }\n",
              "    40% {\n",
              "      border-color: transparent;\n",
              "      border-right-color: var(--fill-color);\n",
              "      border-top-color: var(--fill-color);\n",
              "    }\n",
              "    60% {\n",
              "      border-color: transparent;\n",
              "      border-right-color: var(--fill-color);\n",
              "    }\n",
              "    80% {\n",
              "      border-color: transparent;\n",
              "      border-right-color: var(--fill-color);\n",
              "      border-bottom-color: var(--fill-color);\n",
              "    }\n",
              "    90% {\n",
              "      border-color: transparent;\n",
              "      border-bottom-color: var(--fill-color);\n",
              "    }\n",
              "  }\n",
              "</style>\n",
              "\n",
              "  <script>\n",
              "    async function quickchart(key) {\n",
              "      const quickchartButtonEl =\n",
              "        document.querySelector('#' + key + ' button');\n",
              "      quickchartButtonEl.disabled = true;  // To prevent multiple clicks.\n",
              "      quickchartButtonEl.classList.add('colab-df-spinner');\n",
              "      try {\n",
              "        const charts = await google.colab.kernel.invokeFunction(\n",
              "            'suggestCharts', [key], {});\n",
              "      } catch (error) {\n",
              "        console.error('Error during call to suggestCharts:', error);\n",
              "      }\n",
              "      quickchartButtonEl.classList.remove('colab-df-spinner');\n",
              "      quickchartButtonEl.classList.add('colab-df-quickchart-complete');\n",
              "    }\n",
              "    (() => {\n",
              "      let quickchartButtonEl =\n",
              "        document.querySelector('#df-70b4ce3f-834f-4d00-8ad3-076394f01776 button');\n",
              "      quickchartButtonEl.style.display =\n",
              "        google.colab.kernel.accessAllowed ? 'block' : 'none';\n",
              "    })();\n",
              "  </script>\n",
              "</div>\n",
              "    </div>\n",
              "  </div>\n"
            ],
            "application/vnd.google.colaboratory.intrinsic+json": {
              "type": "dataframe",
              "summary": "{\n  \"name\": \"vpo[['techo_est','pared_est','suelo_est','buen_est']]\",\n  \"rows\": 8,\n  \"fields\": [\n    {\n      \"column\": \"techo_est\",\n      \"properties\": {\n        \"dtype\": \"number\",\n        \"std\": 40201.70350382677,\n        \"min\": 0.0,\n        \"max\": 113708.0,\n        \"num_unique_values\": 5,\n        \"samples\": [\n          0.3914148520772505,\n          1.0,\n          0.48806901211807957\n        ],\n        \"semantic_type\": \"\",\n        \"description\": \"\"\n      }\n    },\n    {\n      \"column\": \"pared_est\",\n      \"properties\": {\n        \"dtype\": \"number\",\n        \"std\": 40201.70108177641,\n        \"min\": 0.0,\n        \"max\": 113708.0,\n        \"num_unique_values\": 5,\n        \"samples\": [\n          0.43207162204946004,\n          1.0,\n          0.49536642349076804\n        ],\n        \"semantic_type\": \"\",\n        \"description\": \"\"\n      }\n    },\n    {\n      \"column\": \"suelo_est\",\n      \"properties\": {\n        \"dtype\": \"number\",\n        \"std\": 40201.70344197814,\n        \"min\": 0.0,\n        \"max\": 113708.0,\n        \"num_unique_values\": 5,\n        \"samples\": [\n          0.3924174200583952,\n          1.0,\n          0.4882909842894992\n        ],\n        \"semantic_type\": \"\",\n        \"description\": \"\"\n      }\n    },\n    {\n      \"column\": \"buen_est\",\n      \"properties\": {\n        \"dtype\": \"number\",\n        \"std\": 40201.71139746441,\n        \"min\": 0.0,\n        \"max\": 113708.0,\n        \"num_unique_values\": 5,\n        \"samples\": [\n          0.2761195342456116,\n          1.0,\n          0.4470786227088668\n        ],\n        \"semantic_type\": \"\",\n        \"description\": \"\"\n      }\n    }\n  ]\n}"
            }
          },
          "metadata": {},
          "execution_count": 26
        }
      ]
    },
    {
      "cell_type": "markdown",
      "source": [
        "La variable TOTPER ya la hemos explorado antes y no presenta problemas"
      ],
      "metadata": {
        "id": "QztZFAuttiZi"
      }
    },
    {
      "cell_type": "markdown",
      "source": [
        "En cuanto a la variable TOTDOR, está almacenada como texto y hay que pasarla a formato numérico."
      ],
      "metadata": {
        "id": "BIQWI6litmSj"
      }
    },
    {
      "cell_type": "code",
      "source": [
        "vpo['TOTDOR']=vpo['TOTDOR'].astype(\"int16\")\n",
        "vpo['TOTDOR'].describe()"
      ],
      "metadata": {
        "id": "E9GTOO0bs0IL",
        "colab": {
          "base_uri": "https://localhost:8080/"
        },
        "outputId": "6d61dc2a-d599-49e7-e7a9-78fb1e3dc38f"
      },
      "execution_count": 27,
      "outputs": [
        {
          "output_type": "execute_result",
          "data": {
            "text/plain": [
              "count    113708.000000\n",
              "mean          1.983933\n",
              "std           1.145357\n",
              "min           0.000000\n",
              "25%           1.000000\n",
              "50%           2.000000\n",
              "75%           3.000000\n",
              "max          20.000000\n",
              "Name: TOTDOR, dtype: float64"
            ]
          },
          "metadata": {},
          "execution_count": 27
        }
      ]
    },
    {
      "cell_type": "markdown",
      "source": [
        "Ahora ya podemos agrupar por cantones (variable I02) usando la función ```groupby()```. Antes de ello, vamos a crear una variable que toma siempre el valor 1 para contabilizar el total de viviendas en cada cantón."
      ],
      "metadata": {
        "id": "NToRAoaHlucY"
      }
    },
    {
      "cell_type": "code",
      "source": [
        "vpo[\"num\"]=1\n",
        "\n",
        "vpo_c=vpo[['I02','num','TOTPER', 'TOTDOR', 'techo_est',\n",
        "           'pared_est','suelo_est','buen_est']].groupby(\"I02\").sum()"
      ],
      "metadata": {
        "id": "U4ucf3LmmIV2"
      },
      "execution_count": 28,
      "outputs": []
    },
    {
      "cell_type": "markdown",
      "source": [
        "\n",
        "Esta es la tabla agregada a nivel cantonal:"
      ],
      "metadata": {
        "id": "ktCFWPUUup5t"
      }
    },
    {
      "cell_type": "code",
      "source": [
        "vpo_c"
      ],
      "metadata": {
        "id": "3j5MpYPomXyu",
        "colab": {
          "base_uri": "https://localhost:8080/",
          "height": 582
        },
        "outputId": "375fdc7c-4ceb-4e63-c601-2a3d31edd2da"
      },
      "execution_count": 29,
      "outputs": [
        {
          "output_type": "execute_result",
          "data": {
            "text/plain": [
              "       num  TOTPER  TOTDOR  techo_est  pared_est  suelo_est  buen_est\n",
              "I02                                                                  \n",
              "1    54729  212208  120170      27956      30653      29183     21405\n",
              "2     6768   27736   13505       2339       2516       2184      1503\n",
              "3     7589   30419   14430       2460       2774       2518      1644\n",
              "4     3483   14042    6398       1116       1165        985       670\n",
              "5     1983    7020    3043        469        554        437       285\n",
              "6     3443   14773    6602        878        904        742       506\n",
              "7     3606   12692    5905        798        919        732       443\n",
              "8     4696   18589    9041       1420       1598       1352       884\n",
              "9     6196   23733   10115       1692       1917       1586      1033\n",
              "10    4014   15427    7759       1274       1480       1263       784\n",
              "11    7644   30136   12603       1925       2190       1887      1115\n",
              "12    1838    7459    3261        391        466        329       170\n",
              "13    3196   12249    5259        827        890        601       413\n",
              "14    2008    8625    3421        425        528        369       218\n",
              "15    1142    4328    1988        249        265        190       144\n",
              "16    1373    4863    2089        288        311        263       180"
            ],
            "text/html": [
              "\n",
              "  <div id=\"df-3db75225-03ad-4eed-acaf-1a83713b2cf0\" class=\"colab-df-container\">\n",
              "    <div>\n",
              "<style scoped>\n",
              "    .dataframe tbody tr th:only-of-type {\n",
              "        vertical-align: middle;\n",
              "    }\n",
              "\n",
              "    .dataframe tbody tr th {\n",
              "        vertical-align: top;\n",
              "    }\n",
              "\n",
              "    .dataframe thead th {\n",
              "        text-align: right;\n",
              "    }\n",
              "</style>\n",
              "<table border=\"1\" class=\"dataframe\">\n",
              "  <thead>\n",
              "    <tr style=\"text-align: right;\">\n",
              "      <th></th>\n",
              "      <th>num</th>\n",
              "      <th>TOTPER</th>\n",
              "      <th>TOTDOR</th>\n",
              "      <th>techo_est</th>\n",
              "      <th>pared_est</th>\n",
              "      <th>suelo_est</th>\n",
              "      <th>buen_est</th>\n",
              "    </tr>\n",
              "    <tr>\n",
              "      <th>I02</th>\n",
              "      <th></th>\n",
              "      <th></th>\n",
              "      <th></th>\n",
              "      <th></th>\n",
              "      <th></th>\n",
              "      <th></th>\n",
              "      <th></th>\n",
              "    </tr>\n",
              "  </thead>\n",
              "  <tbody>\n",
              "    <tr>\n",
              "      <th>1</th>\n",
              "      <td>54729</td>\n",
              "      <td>212208</td>\n",
              "      <td>120170</td>\n",
              "      <td>27956</td>\n",
              "      <td>30653</td>\n",
              "      <td>29183</td>\n",
              "      <td>21405</td>\n",
              "    </tr>\n",
              "    <tr>\n",
              "      <th>2</th>\n",
              "      <td>6768</td>\n",
              "      <td>27736</td>\n",
              "      <td>13505</td>\n",
              "      <td>2339</td>\n",
              "      <td>2516</td>\n",
              "      <td>2184</td>\n",
              "      <td>1503</td>\n",
              "    </tr>\n",
              "    <tr>\n",
              "      <th>3</th>\n",
              "      <td>7589</td>\n",
              "      <td>30419</td>\n",
              "      <td>14430</td>\n",
              "      <td>2460</td>\n",
              "      <td>2774</td>\n",
              "      <td>2518</td>\n",
              "      <td>1644</td>\n",
              "    </tr>\n",
              "    <tr>\n",
              "      <th>4</th>\n",
              "      <td>3483</td>\n",
              "      <td>14042</td>\n",
              "      <td>6398</td>\n",
              "      <td>1116</td>\n",
              "      <td>1165</td>\n",
              "      <td>985</td>\n",
              "      <td>670</td>\n",
              "    </tr>\n",
              "    <tr>\n",
              "      <th>5</th>\n",
              "      <td>1983</td>\n",
              "      <td>7020</td>\n",
              "      <td>3043</td>\n",
              "      <td>469</td>\n",
              "      <td>554</td>\n",
              "      <td>437</td>\n",
              "      <td>285</td>\n",
              "    </tr>\n",
              "    <tr>\n",
              "      <th>6</th>\n",
              "      <td>3443</td>\n",
              "      <td>14773</td>\n",
              "      <td>6602</td>\n",
              "      <td>878</td>\n",
              "      <td>904</td>\n",
              "      <td>742</td>\n",
              "      <td>506</td>\n",
              "    </tr>\n",
              "    <tr>\n",
              "      <th>7</th>\n",
              "      <td>3606</td>\n",
              "      <td>12692</td>\n",
              "      <td>5905</td>\n",
              "      <td>798</td>\n",
              "      <td>919</td>\n",
              "      <td>732</td>\n",
              "      <td>443</td>\n",
              "    </tr>\n",
              "    <tr>\n",
              "      <th>8</th>\n",
              "      <td>4696</td>\n",
              "      <td>18589</td>\n",
              "      <td>9041</td>\n",
              "      <td>1420</td>\n",
              "      <td>1598</td>\n",
              "      <td>1352</td>\n",
              "      <td>884</td>\n",
              "    </tr>\n",
              "    <tr>\n",
              "      <th>9</th>\n",
              "      <td>6196</td>\n",
              "      <td>23733</td>\n",
              "      <td>10115</td>\n",
              "      <td>1692</td>\n",
              "      <td>1917</td>\n",
              "      <td>1586</td>\n",
              "      <td>1033</td>\n",
              "    </tr>\n",
              "    <tr>\n",
              "      <th>10</th>\n",
              "      <td>4014</td>\n",
              "      <td>15427</td>\n",
              "      <td>7759</td>\n",
              "      <td>1274</td>\n",
              "      <td>1480</td>\n",
              "      <td>1263</td>\n",
              "      <td>784</td>\n",
              "    </tr>\n",
              "    <tr>\n",
              "      <th>11</th>\n",
              "      <td>7644</td>\n",
              "      <td>30136</td>\n",
              "      <td>12603</td>\n",
              "      <td>1925</td>\n",
              "      <td>2190</td>\n",
              "      <td>1887</td>\n",
              "      <td>1115</td>\n",
              "    </tr>\n",
              "    <tr>\n",
              "      <th>12</th>\n",
              "      <td>1838</td>\n",
              "      <td>7459</td>\n",
              "      <td>3261</td>\n",
              "      <td>391</td>\n",
              "      <td>466</td>\n",
              "      <td>329</td>\n",
              "      <td>170</td>\n",
              "    </tr>\n",
              "    <tr>\n",
              "      <th>13</th>\n",
              "      <td>3196</td>\n",
              "      <td>12249</td>\n",
              "      <td>5259</td>\n",
              "      <td>827</td>\n",
              "      <td>890</td>\n",
              "      <td>601</td>\n",
              "      <td>413</td>\n",
              "    </tr>\n",
              "    <tr>\n",
              "      <th>14</th>\n",
              "      <td>2008</td>\n",
              "      <td>8625</td>\n",
              "      <td>3421</td>\n",
              "      <td>425</td>\n",
              "      <td>528</td>\n",
              "      <td>369</td>\n",
              "      <td>218</td>\n",
              "    </tr>\n",
              "    <tr>\n",
              "      <th>15</th>\n",
              "      <td>1142</td>\n",
              "      <td>4328</td>\n",
              "      <td>1988</td>\n",
              "      <td>249</td>\n",
              "      <td>265</td>\n",
              "      <td>190</td>\n",
              "      <td>144</td>\n",
              "    </tr>\n",
              "    <tr>\n",
              "      <th>16</th>\n",
              "      <td>1373</td>\n",
              "      <td>4863</td>\n",
              "      <td>2089</td>\n",
              "      <td>288</td>\n",
              "      <td>311</td>\n",
              "      <td>263</td>\n",
              "      <td>180</td>\n",
              "    </tr>\n",
              "  </tbody>\n",
              "</table>\n",
              "</div>\n",
              "    <div class=\"colab-df-buttons\">\n",
              "\n",
              "  <div class=\"colab-df-container\">\n",
              "    <button class=\"colab-df-convert\" onclick=\"convertToInteractive('df-3db75225-03ad-4eed-acaf-1a83713b2cf0')\"\n",
              "            title=\"Convert this dataframe to an interactive table.\"\n",
              "            style=\"display:none;\">\n",
              "\n",
              "  <svg xmlns=\"http://www.w3.org/2000/svg\" height=\"24px\" viewBox=\"0 -960 960 960\">\n",
              "    <path d=\"M120-120v-720h720v720H120Zm60-500h600v-160H180v160Zm220 220h160v-160H400v160Zm0 220h160v-160H400v160ZM180-400h160v-160H180v160Zm440 0h160v-160H620v160ZM180-180h160v-160H180v160Zm440 0h160v-160H620v160Z\"/>\n",
              "  </svg>\n",
              "    </button>\n",
              "\n",
              "  <style>\n",
              "    .colab-df-container {\n",
              "      display:flex;\n",
              "      gap: 12px;\n",
              "    }\n",
              "\n",
              "    .colab-df-convert {\n",
              "      background-color: #E8F0FE;\n",
              "      border: none;\n",
              "      border-radius: 50%;\n",
              "      cursor: pointer;\n",
              "      display: none;\n",
              "      fill: #1967D2;\n",
              "      height: 32px;\n",
              "      padding: 0 0 0 0;\n",
              "      width: 32px;\n",
              "    }\n",
              "\n",
              "    .colab-df-convert:hover {\n",
              "      background-color: #E2EBFA;\n",
              "      box-shadow: 0px 1px 2px rgba(60, 64, 67, 0.3), 0px 1px 3px 1px rgba(60, 64, 67, 0.15);\n",
              "      fill: #174EA6;\n",
              "    }\n",
              "\n",
              "    .colab-df-buttons div {\n",
              "      margin-bottom: 4px;\n",
              "    }\n",
              "\n",
              "    [theme=dark] .colab-df-convert {\n",
              "      background-color: #3B4455;\n",
              "      fill: #D2E3FC;\n",
              "    }\n",
              "\n",
              "    [theme=dark] .colab-df-convert:hover {\n",
              "      background-color: #434B5C;\n",
              "      box-shadow: 0px 1px 3px 1px rgba(0, 0, 0, 0.15);\n",
              "      filter: drop-shadow(0px 1px 2px rgba(0, 0, 0, 0.3));\n",
              "      fill: #FFFFFF;\n",
              "    }\n",
              "  </style>\n",
              "\n",
              "    <script>\n",
              "      const buttonEl =\n",
              "        document.querySelector('#df-3db75225-03ad-4eed-acaf-1a83713b2cf0 button.colab-df-convert');\n",
              "      buttonEl.style.display =\n",
              "        google.colab.kernel.accessAllowed ? 'block' : 'none';\n",
              "\n",
              "      async function convertToInteractive(key) {\n",
              "        const element = document.querySelector('#df-3db75225-03ad-4eed-acaf-1a83713b2cf0');\n",
              "        const dataTable =\n",
              "          await google.colab.kernel.invokeFunction('convertToInteractive',\n",
              "                                                    [key], {});\n",
              "        if (!dataTable) return;\n",
              "\n",
              "        const docLinkHtml = 'Like what you see? Visit the ' +\n",
              "          '<a target=\"_blank\" href=https://colab.research.google.com/notebooks/data_table.ipynb>data table notebook</a>'\n",
              "          + ' to learn more about interactive tables.';\n",
              "        element.innerHTML = '';\n",
              "        dataTable['output_type'] = 'display_data';\n",
              "        await google.colab.output.renderOutput(dataTable, element);\n",
              "        const docLink = document.createElement('div');\n",
              "        docLink.innerHTML = docLinkHtml;\n",
              "        element.appendChild(docLink);\n",
              "      }\n",
              "    </script>\n",
              "  </div>\n",
              "\n",
              "\n",
              "<div id=\"df-cc5b2acf-3d30-4baf-8693-f1c001b9af9f\">\n",
              "  <button class=\"colab-df-quickchart\" onclick=\"quickchart('df-cc5b2acf-3d30-4baf-8693-f1c001b9af9f')\"\n",
              "            title=\"Suggest charts\"\n",
              "            style=\"display:none;\">\n",
              "\n",
              "<svg xmlns=\"http://www.w3.org/2000/svg\" height=\"24px\"viewBox=\"0 0 24 24\"\n",
              "     width=\"24px\">\n",
              "    <g>\n",
              "        <path d=\"M19 3H5c-1.1 0-2 .9-2 2v14c0 1.1.9 2 2 2h14c1.1 0 2-.9 2-2V5c0-1.1-.9-2-2-2zM9 17H7v-7h2v7zm4 0h-2V7h2v10zm4 0h-2v-4h2v4z\"/>\n",
              "    </g>\n",
              "</svg>\n",
              "  </button>\n",
              "\n",
              "<style>\n",
              "  .colab-df-quickchart {\n",
              "      --bg-color: #E8F0FE;\n",
              "      --fill-color: #1967D2;\n",
              "      --hover-bg-color: #E2EBFA;\n",
              "      --hover-fill-color: #174EA6;\n",
              "      --disabled-fill-color: #AAA;\n",
              "      --disabled-bg-color: #DDD;\n",
              "  }\n",
              "\n",
              "  [theme=dark] .colab-df-quickchart {\n",
              "      --bg-color: #3B4455;\n",
              "      --fill-color: #D2E3FC;\n",
              "      --hover-bg-color: #434B5C;\n",
              "      --hover-fill-color: #FFFFFF;\n",
              "      --disabled-bg-color: #3B4455;\n",
              "      --disabled-fill-color: #666;\n",
              "  }\n",
              "\n",
              "  .colab-df-quickchart {\n",
              "    background-color: var(--bg-color);\n",
              "    border: none;\n",
              "    border-radius: 50%;\n",
              "    cursor: pointer;\n",
              "    display: none;\n",
              "    fill: var(--fill-color);\n",
              "    height: 32px;\n",
              "    padding: 0;\n",
              "    width: 32px;\n",
              "  }\n",
              "\n",
              "  .colab-df-quickchart:hover {\n",
              "    background-color: var(--hover-bg-color);\n",
              "    box-shadow: 0 1px 2px rgba(60, 64, 67, 0.3), 0 1px 3px 1px rgba(60, 64, 67, 0.15);\n",
              "    fill: var(--button-hover-fill-color);\n",
              "  }\n",
              "\n",
              "  .colab-df-quickchart-complete:disabled,\n",
              "  .colab-df-quickchart-complete:disabled:hover {\n",
              "    background-color: var(--disabled-bg-color);\n",
              "    fill: var(--disabled-fill-color);\n",
              "    box-shadow: none;\n",
              "  }\n",
              "\n",
              "  .colab-df-spinner {\n",
              "    border: 2px solid var(--fill-color);\n",
              "    border-color: transparent;\n",
              "    border-bottom-color: var(--fill-color);\n",
              "    animation:\n",
              "      spin 1s steps(1) infinite;\n",
              "  }\n",
              "\n",
              "  @keyframes spin {\n",
              "    0% {\n",
              "      border-color: transparent;\n",
              "      border-bottom-color: var(--fill-color);\n",
              "      border-left-color: var(--fill-color);\n",
              "    }\n",
              "    20% {\n",
              "      border-color: transparent;\n",
              "      border-left-color: var(--fill-color);\n",
              "      border-top-color: var(--fill-color);\n",
              "    }\n",
              "    30% {\n",
              "      border-color: transparent;\n",
              "      border-left-color: var(--fill-color);\n",
              "      border-top-color: var(--fill-color);\n",
              "      border-right-color: var(--fill-color);\n",
              "    }\n",
              "    40% {\n",
              "      border-color: transparent;\n",
              "      border-right-color: var(--fill-color);\n",
              "      border-top-color: var(--fill-color);\n",
              "    }\n",
              "    60% {\n",
              "      border-color: transparent;\n",
              "      border-right-color: var(--fill-color);\n",
              "    }\n",
              "    80% {\n",
              "      border-color: transparent;\n",
              "      border-right-color: var(--fill-color);\n",
              "      border-bottom-color: var(--fill-color);\n",
              "    }\n",
              "    90% {\n",
              "      border-color: transparent;\n",
              "      border-bottom-color: var(--fill-color);\n",
              "    }\n",
              "  }\n",
              "</style>\n",
              "\n",
              "  <script>\n",
              "    async function quickchart(key) {\n",
              "      const quickchartButtonEl =\n",
              "        document.querySelector('#' + key + ' button');\n",
              "      quickchartButtonEl.disabled = true;  // To prevent multiple clicks.\n",
              "      quickchartButtonEl.classList.add('colab-df-spinner');\n",
              "      try {\n",
              "        const charts = await google.colab.kernel.invokeFunction(\n",
              "            'suggestCharts', [key], {});\n",
              "      } catch (error) {\n",
              "        console.error('Error during call to suggestCharts:', error);\n",
              "      }\n",
              "      quickchartButtonEl.classList.remove('colab-df-spinner');\n",
              "      quickchartButtonEl.classList.add('colab-df-quickchart-complete');\n",
              "    }\n",
              "    (() => {\n",
              "      let quickchartButtonEl =\n",
              "        document.querySelector('#df-cc5b2acf-3d30-4baf-8693-f1c001b9af9f button');\n",
              "      quickchartButtonEl.style.display =\n",
              "        google.colab.kernel.accessAllowed ? 'block' : 'none';\n",
              "    })();\n",
              "  </script>\n",
              "</div>\n",
              "    </div>\n",
              "  </div>\n"
            ],
            "application/vnd.google.colaboratory.intrinsic+json": {
              "type": "dataframe",
              "variable_name": "vpo_c",
              "summary": "{\n  \"name\": \"vpo_c\",\n  \"rows\": 16,\n  \"fields\": [\n    {\n      \"column\": \"I02\",\n      \"properties\": {\n        \"dtype\": \"number\",\n        \"std\": 4,\n        \"min\": 1,\n        \"max\": 16,\n        \"num_unique_values\": 16,\n        \"samples\": [\n          1,\n          2,\n          6\n        ],\n        \"semantic_type\": \"\",\n        \"description\": \"\"\n      }\n    },\n    {\n      \"column\": \"num\",\n      \"properties\": {\n        \"dtype\": \"number\",\n        \"std\": 12877,\n        \"min\": 1142,\n        \"max\": 54729,\n        \"num_unique_values\": 16,\n        \"samples\": [\n          54729,\n          6768,\n          3443\n        ],\n        \"semantic_type\": \"\",\n        \"description\": \"\"\n      }\n    },\n    {\n      \"column\": \"TOTPER\",\n      \"properties\": {\n        \"dtype\": \"number\",\n        \"std\": 49928,\n        \"min\": 4328,\n        \"max\": 212208,\n        \"num_unique_values\": 16,\n        \"samples\": [\n          212208,\n          27736,\n          14773\n        ],\n        \"semantic_type\": \"\",\n        \"description\": \"\"\n      }\n    },\n    {\n      \"column\": \"TOTDOR\",\n      \"properties\": {\n        \"dtype\": \"number\",\n        \"std\": 28566,\n        \"min\": 1988,\n        \"max\": 120170,\n        \"num_unique_values\": 16,\n        \"samples\": [\n          120170,\n          13505,\n          6602\n        ],\n        \"semantic_type\": \"\",\n        \"description\": \"\"\n      }\n    },\n    {\n      \"column\": \"techo_est\",\n      \"properties\": {\n        \"dtype\": \"number\",\n        \"std\": 6750,\n        \"min\": 249,\n        \"max\": 27956,\n        \"num_unique_values\": 16,\n        \"samples\": [\n          27956,\n          2339,\n          878\n        ],\n        \"semantic_type\": \"\",\n        \"description\": \"\"\n      }\n    },\n    {\n      \"column\": \"pared_est\",\n      \"properties\": {\n        \"dtype\": \"number\",\n        \"std\": 7397,\n        \"min\": 265,\n        \"max\": 30653,\n        \"num_unique_values\": 16,\n        \"samples\": [\n          30653,\n          2516,\n          904\n        ],\n        \"semantic_type\": \"\",\n        \"description\": \"\"\n      }\n    },\n    {\n      \"column\": \"suelo_est\",\n      \"properties\": {\n        \"dtype\": \"number\",\n        \"std\": 7074,\n        \"min\": 190,\n        \"max\": 29183,\n        \"num_unique_values\": 16,\n        \"samples\": [\n          29183,\n          2184,\n          742\n        ],\n        \"semantic_type\": \"\",\n        \"description\": \"\"\n      }\n    },\n    {\n      \"column\": \"buen_est\",\n      \"properties\": {\n        \"dtype\": \"number\",\n        \"std\": 5205,\n        \"min\": 144,\n        \"max\": 21405,\n        \"num_unique_values\": 16,\n        \"samples\": [\n          21405,\n          1503,\n          506\n        ],\n        \"semantic_type\": \"\",\n        \"description\": \"\"\n      }\n    }\n  ]\n}"
            }
          },
          "metadata": {},
          "execution_count": 29
        }
      ]
    },
    {
      "cell_type": "markdown",
      "source": [
        "Obsérvese que la función ```sum()``` tiene sentido para agregar estas variables, pero téngase en cuenta que este no siempre es el caso.  \n",
        "Por otra parte, sería interesante conocer el nombre de cada cantón, no solo su código numérico. Para ello, vamos a enlazar esta tabla con otra que contiene el código y nombre de cada cantón. Está disponible [aquí](https://github.com/otoperalias/teaching/blob/TallerUTE_AnalisisCuanti/material/cantones_loja.xlsx). Tenemos que descargarlo y subirlo a Google Colab."
      ],
      "metadata": {
        "id": "dZ-pXlCDqmtR"
      }
    },
    {
      "cell_type": "code",
      "source": [
        "cantones=pd.read_excel(\"https://github.com/otoperalias/teaching/raw/TallerUTE_AnalisisCuanti/material/cantones_loja.xlsx\")\n",
        "#cantones=pd.read_excel(\"cantones_loja.xlsx\")\n",
        "cantones"
      ],
      "metadata": {
        "id": "fe8ra4bvq8Gs",
        "colab": {
          "base_uri": "https://localhost:8080/",
          "height": 551
        },
        "outputId": "f72b9e64-8a74-40aa-844d-c910d3223da8"
      },
      "execution_count": 32,
      "outputs": [
        {
          "output_type": "execute_result",
          "data": {
            "text/plain": [
              "    I02         Cantón\n",
              "0     1           Loja\n",
              "1     2         Calvas\n",
              "2     3       Catamayo\n",
              "3     4         Celica\n",
              "4     5   Chaguarpamba\n",
              "5     6      Espindola\n",
              "6     7      Gonzanama\n",
              "7     8         Macara\n",
              "8     9         Paltas\n",
              "9    10        Puyango\n",
              "10   11       Saraguro\n",
              "11   12      Sozoranga\n",
              "12   13      Zapotillo\n",
              "13   14         Pindal\n",
              "14   15       Quilanga\n",
              "15   16         Olmedo"
            ],
            "text/html": [
              "\n",
              "  <div id=\"df-f73a2ed1-1360-48b4-bb4a-3bc965ddb9f3\" class=\"colab-df-container\">\n",
              "    <div>\n",
              "<style scoped>\n",
              "    .dataframe tbody tr th:only-of-type {\n",
              "        vertical-align: middle;\n",
              "    }\n",
              "\n",
              "    .dataframe tbody tr th {\n",
              "        vertical-align: top;\n",
              "    }\n",
              "\n",
              "    .dataframe thead th {\n",
              "        text-align: right;\n",
              "    }\n",
              "</style>\n",
              "<table border=\"1\" class=\"dataframe\">\n",
              "  <thead>\n",
              "    <tr style=\"text-align: right;\">\n",
              "      <th></th>\n",
              "      <th>I02</th>\n",
              "      <th>Cantón</th>\n",
              "    </tr>\n",
              "  </thead>\n",
              "  <tbody>\n",
              "    <tr>\n",
              "      <th>0</th>\n",
              "      <td>1</td>\n",
              "      <td>Loja</td>\n",
              "    </tr>\n",
              "    <tr>\n",
              "      <th>1</th>\n",
              "      <td>2</td>\n",
              "      <td>Calvas</td>\n",
              "    </tr>\n",
              "    <tr>\n",
              "      <th>2</th>\n",
              "      <td>3</td>\n",
              "      <td>Catamayo</td>\n",
              "    </tr>\n",
              "    <tr>\n",
              "      <th>3</th>\n",
              "      <td>4</td>\n",
              "      <td>Celica</td>\n",
              "    </tr>\n",
              "    <tr>\n",
              "      <th>4</th>\n",
              "      <td>5</td>\n",
              "      <td>Chaguarpamba</td>\n",
              "    </tr>\n",
              "    <tr>\n",
              "      <th>5</th>\n",
              "      <td>6</td>\n",
              "      <td>Espindola</td>\n",
              "    </tr>\n",
              "    <tr>\n",
              "      <th>6</th>\n",
              "      <td>7</td>\n",
              "      <td>Gonzanama</td>\n",
              "    </tr>\n",
              "    <tr>\n",
              "      <th>7</th>\n",
              "      <td>8</td>\n",
              "      <td>Macara</td>\n",
              "    </tr>\n",
              "    <tr>\n",
              "      <th>8</th>\n",
              "      <td>9</td>\n",
              "      <td>Paltas</td>\n",
              "    </tr>\n",
              "    <tr>\n",
              "      <th>9</th>\n",
              "      <td>10</td>\n",
              "      <td>Puyango</td>\n",
              "    </tr>\n",
              "    <tr>\n",
              "      <th>10</th>\n",
              "      <td>11</td>\n",
              "      <td>Saraguro</td>\n",
              "    </tr>\n",
              "    <tr>\n",
              "      <th>11</th>\n",
              "      <td>12</td>\n",
              "      <td>Sozoranga</td>\n",
              "    </tr>\n",
              "    <tr>\n",
              "      <th>12</th>\n",
              "      <td>13</td>\n",
              "      <td>Zapotillo</td>\n",
              "    </tr>\n",
              "    <tr>\n",
              "      <th>13</th>\n",
              "      <td>14</td>\n",
              "      <td>Pindal</td>\n",
              "    </tr>\n",
              "    <tr>\n",
              "      <th>14</th>\n",
              "      <td>15</td>\n",
              "      <td>Quilanga</td>\n",
              "    </tr>\n",
              "    <tr>\n",
              "      <th>15</th>\n",
              "      <td>16</td>\n",
              "      <td>Olmedo</td>\n",
              "    </tr>\n",
              "  </tbody>\n",
              "</table>\n",
              "</div>\n",
              "    <div class=\"colab-df-buttons\">\n",
              "\n",
              "  <div class=\"colab-df-container\">\n",
              "    <button class=\"colab-df-convert\" onclick=\"convertToInteractive('df-f73a2ed1-1360-48b4-bb4a-3bc965ddb9f3')\"\n",
              "            title=\"Convert this dataframe to an interactive table.\"\n",
              "            style=\"display:none;\">\n",
              "\n",
              "  <svg xmlns=\"http://www.w3.org/2000/svg\" height=\"24px\" viewBox=\"0 -960 960 960\">\n",
              "    <path d=\"M120-120v-720h720v720H120Zm60-500h600v-160H180v160Zm220 220h160v-160H400v160Zm0 220h160v-160H400v160ZM180-400h160v-160H180v160Zm440 0h160v-160H620v160ZM180-180h160v-160H180v160Zm440 0h160v-160H620v160Z\"/>\n",
              "  </svg>\n",
              "    </button>\n",
              "\n",
              "  <style>\n",
              "    .colab-df-container {\n",
              "      display:flex;\n",
              "      gap: 12px;\n",
              "    }\n",
              "\n",
              "    .colab-df-convert {\n",
              "      background-color: #E8F0FE;\n",
              "      border: none;\n",
              "      border-radius: 50%;\n",
              "      cursor: pointer;\n",
              "      display: none;\n",
              "      fill: #1967D2;\n",
              "      height: 32px;\n",
              "      padding: 0 0 0 0;\n",
              "      width: 32px;\n",
              "    }\n",
              "\n",
              "    .colab-df-convert:hover {\n",
              "      background-color: #E2EBFA;\n",
              "      box-shadow: 0px 1px 2px rgba(60, 64, 67, 0.3), 0px 1px 3px 1px rgba(60, 64, 67, 0.15);\n",
              "      fill: #174EA6;\n",
              "    }\n",
              "\n",
              "    .colab-df-buttons div {\n",
              "      margin-bottom: 4px;\n",
              "    }\n",
              "\n",
              "    [theme=dark] .colab-df-convert {\n",
              "      background-color: #3B4455;\n",
              "      fill: #D2E3FC;\n",
              "    }\n",
              "\n",
              "    [theme=dark] .colab-df-convert:hover {\n",
              "      background-color: #434B5C;\n",
              "      box-shadow: 0px 1px 3px 1px rgba(0, 0, 0, 0.15);\n",
              "      filter: drop-shadow(0px 1px 2px rgba(0, 0, 0, 0.3));\n",
              "      fill: #FFFFFF;\n",
              "    }\n",
              "  </style>\n",
              "\n",
              "    <script>\n",
              "      const buttonEl =\n",
              "        document.querySelector('#df-f73a2ed1-1360-48b4-bb4a-3bc965ddb9f3 button.colab-df-convert');\n",
              "      buttonEl.style.display =\n",
              "        google.colab.kernel.accessAllowed ? 'block' : 'none';\n",
              "\n",
              "      async function convertToInteractive(key) {\n",
              "        const element = document.querySelector('#df-f73a2ed1-1360-48b4-bb4a-3bc965ddb9f3');\n",
              "        const dataTable =\n",
              "          await google.colab.kernel.invokeFunction('convertToInteractive',\n",
              "                                                    [key], {});\n",
              "        if (!dataTable) return;\n",
              "\n",
              "        const docLinkHtml = 'Like what you see? Visit the ' +\n",
              "          '<a target=\"_blank\" href=https://colab.research.google.com/notebooks/data_table.ipynb>data table notebook</a>'\n",
              "          + ' to learn more about interactive tables.';\n",
              "        element.innerHTML = '';\n",
              "        dataTable['output_type'] = 'display_data';\n",
              "        await google.colab.output.renderOutput(dataTable, element);\n",
              "        const docLink = document.createElement('div');\n",
              "        docLink.innerHTML = docLinkHtml;\n",
              "        element.appendChild(docLink);\n",
              "      }\n",
              "    </script>\n",
              "  </div>\n",
              "\n",
              "\n",
              "<div id=\"df-778af784-a0aa-4bbc-8b37-d34dc9c8d64b\">\n",
              "  <button class=\"colab-df-quickchart\" onclick=\"quickchart('df-778af784-a0aa-4bbc-8b37-d34dc9c8d64b')\"\n",
              "            title=\"Suggest charts\"\n",
              "            style=\"display:none;\">\n",
              "\n",
              "<svg xmlns=\"http://www.w3.org/2000/svg\" height=\"24px\"viewBox=\"0 0 24 24\"\n",
              "     width=\"24px\">\n",
              "    <g>\n",
              "        <path d=\"M19 3H5c-1.1 0-2 .9-2 2v14c0 1.1.9 2 2 2h14c1.1 0 2-.9 2-2V5c0-1.1-.9-2-2-2zM9 17H7v-7h2v7zm4 0h-2V7h2v10zm4 0h-2v-4h2v4z\"/>\n",
              "    </g>\n",
              "</svg>\n",
              "  </button>\n",
              "\n",
              "<style>\n",
              "  .colab-df-quickchart {\n",
              "      --bg-color: #E8F0FE;\n",
              "      --fill-color: #1967D2;\n",
              "      --hover-bg-color: #E2EBFA;\n",
              "      --hover-fill-color: #174EA6;\n",
              "      --disabled-fill-color: #AAA;\n",
              "      --disabled-bg-color: #DDD;\n",
              "  }\n",
              "\n",
              "  [theme=dark] .colab-df-quickchart {\n",
              "      --bg-color: #3B4455;\n",
              "      --fill-color: #D2E3FC;\n",
              "      --hover-bg-color: #434B5C;\n",
              "      --hover-fill-color: #FFFFFF;\n",
              "      --disabled-bg-color: #3B4455;\n",
              "      --disabled-fill-color: #666;\n",
              "  }\n",
              "\n",
              "  .colab-df-quickchart {\n",
              "    background-color: var(--bg-color);\n",
              "    border: none;\n",
              "    border-radius: 50%;\n",
              "    cursor: pointer;\n",
              "    display: none;\n",
              "    fill: var(--fill-color);\n",
              "    height: 32px;\n",
              "    padding: 0;\n",
              "    width: 32px;\n",
              "  }\n",
              "\n",
              "  .colab-df-quickchart:hover {\n",
              "    background-color: var(--hover-bg-color);\n",
              "    box-shadow: 0 1px 2px rgba(60, 64, 67, 0.3), 0 1px 3px 1px rgba(60, 64, 67, 0.15);\n",
              "    fill: var(--button-hover-fill-color);\n",
              "  }\n",
              "\n",
              "  .colab-df-quickchart-complete:disabled,\n",
              "  .colab-df-quickchart-complete:disabled:hover {\n",
              "    background-color: var(--disabled-bg-color);\n",
              "    fill: var(--disabled-fill-color);\n",
              "    box-shadow: none;\n",
              "  }\n",
              "\n",
              "  .colab-df-spinner {\n",
              "    border: 2px solid var(--fill-color);\n",
              "    border-color: transparent;\n",
              "    border-bottom-color: var(--fill-color);\n",
              "    animation:\n",
              "      spin 1s steps(1) infinite;\n",
              "  }\n",
              "\n",
              "  @keyframes spin {\n",
              "    0% {\n",
              "      border-color: transparent;\n",
              "      border-bottom-color: var(--fill-color);\n",
              "      border-left-color: var(--fill-color);\n",
              "    }\n",
              "    20% {\n",
              "      border-color: transparent;\n",
              "      border-left-color: var(--fill-color);\n",
              "      border-top-color: var(--fill-color);\n",
              "    }\n",
              "    30% {\n",
              "      border-color: transparent;\n",
              "      border-left-color: var(--fill-color);\n",
              "      border-top-color: var(--fill-color);\n",
              "      border-right-color: var(--fill-color);\n",
              "    }\n",
              "    40% {\n",
              "      border-color: transparent;\n",
              "      border-right-color: var(--fill-color);\n",
              "      border-top-color: var(--fill-color);\n",
              "    }\n",
              "    60% {\n",
              "      border-color: transparent;\n",
              "      border-right-color: var(--fill-color);\n",
              "    }\n",
              "    80% {\n",
              "      border-color: transparent;\n",
              "      border-right-color: var(--fill-color);\n",
              "      border-bottom-color: var(--fill-color);\n",
              "    }\n",
              "    90% {\n",
              "      border-color: transparent;\n",
              "      border-bottom-color: var(--fill-color);\n",
              "    }\n",
              "  }\n",
              "</style>\n",
              "\n",
              "  <script>\n",
              "    async function quickchart(key) {\n",
              "      const quickchartButtonEl =\n",
              "        document.querySelector('#' + key + ' button');\n",
              "      quickchartButtonEl.disabled = true;  // To prevent multiple clicks.\n",
              "      quickchartButtonEl.classList.add('colab-df-spinner');\n",
              "      try {\n",
              "        const charts = await google.colab.kernel.invokeFunction(\n",
              "            'suggestCharts', [key], {});\n",
              "      } catch (error) {\n",
              "        console.error('Error during call to suggestCharts:', error);\n",
              "      }\n",
              "      quickchartButtonEl.classList.remove('colab-df-spinner');\n",
              "      quickchartButtonEl.classList.add('colab-df-quickchart-complete');\n",
              "    }\n",
              "    (() => {\n",
              "      let quickchartButtonEl =\n",
              "        document.querySelector('#df-778af784-a0aa-4bbc-8b37-d34dc9c8d64b button');\n",
              "      quickchartButtonEl.style.display =\n",
              "        google.colab.kernel.accessAllowed ? 'block' : 'none';\n",
              "    })();\n",
              "  </script>\n",
              "</div>\n",
              "    </div>\n",
              "  </div>\n"
            ],
            "application/vnd.google.colaboratory.intrinsic+json": {
              "type": "dataframe",
              "variable_name": "cantones",
              "summary": "{\n  \"name\": \"cantones\",\n  \"rows\": 16,\n  \"fields\": [\n    {\n      \"column\": \"I02\",\n      \"properties\": {\n        \"dtype\": \"number\",\n        \"std\": 4,\n        \"min\": 1,\n        \"max\": 16,\n        \"num_unique_values\": 16,\n        \"samples\": [\n          1,\n          2,\n          6\n        ],\n        \"semantic_type\": \"\",\n        \"description\": \"\"\n      }\n    },\n    {\n      \"column\": \"Cant\\u00f3n\",\n      \"properties\": {\n        \"dtype\": \"string\",\n        \"num_unique_values\": 16,\n        \"samples\": [\n          \" Loja\",\n          \" Calvas\",\n          \" Espindola\"\n        ],\n        \"semantic_type\": \"\",\n        \"description\": \"\"\n      }\n    }\n  ]\n}"
            }
          },
          "metadata": {},
          "execution_count": 32
        }
      ]
    },
    {
      "cell_type": "markdown",
      "source": [
        "A la hora de enlazar dos tablas, necesitamos que tengan una columna común que permita unirlas. La tabla de cantones contiene la columna I02 con el código de cada cantón. La tabla vpo también la contiene, pero al agrupar por cantones en la tabla vpo_c, dicha columna se transformó en el index de la tabla. Así que debemos resetear el index para que I02 vuelva a ser una columna:"
      ],
      "metadata": {
        "id": "6i6Ika7a-mr0"
      }
    },
    {
      "cell_type": "code",
      "source": [
        "vpo_c=vpo_c.reset_index()"
      ],
      "metadata": {
        "id": "chN6GnJqsZRu"
      },
      "execution_count": 33,
      "outputs": []
    },
    {
      "cell_type": "code",
      "source": [
        "vpo_c=vpo_c.merge(cantones,on=\"I02\")\n",
        "vpo_c"
      ],
      "metadata": {
        "id": "sBGOIyHfs7Lw",
        "colab": {
          "base_uri": "https://localhost:8080/",
          "height": 551
        },
        "outputId": "9edb0418-54e7-4fca-f9ec-0687357d19e0"
      },
      "execution_count": 34,
      "outputs": [
        {
          "output_type": "execute_result",
          "data": {
            "text/plain": [
              "    I02    num  TOTPER  TOTDOR  techo_est  pared_est  suelo_est  buen_est  \\\n",
              "0     1  54729  212208  120170      27956      30653      29183     21405   \n",
              "1     2   6768   27736   13505       2339       2516       2184      1503   \n",
              "2     3   7589   30419   14430       2460       2774       2518      1644   \n",
              "3     4   3483   14042    6398       1116       1165        985       670   \n",
              "4     5   1983    7020    3043        469        554        437       285   \n",
              "5     6   3443   14773    6602        878        904        742       506   \n",
              "6     7   3606   12692    5905        798        919        732       443   \n",
              "7     8   4696   18589    9041       1420       1598       1352       884   \n",
              "8     9   6196   23733   10115       1692       1917       1586      1033   \n",
              "9    10   4014   15427    7759       1274       1480       1263       784   \n",
              "10   11   7644   30136   12603       1925       2190       1887      1115   \n",
              "11   12   1838    7459    3261        391        466        329       170   \n",
              "12   13   3196   12249    5259        827        890        601       413   \n",
              "13   14   2008    8625    3421        425        528        369       218   \n",
              "14   15   1142    4328    1988        249        265        190       144   \n",
              "15   16   1373    4863    2089        288        311        263       180   \n",
              "\n",
              "           Cantón  \n",
              "0            Loja  \n",
              "1          Calvas  \n",
              "2        Catamayo  \n",
              "3          Celica  \n",
              "4    Chaguarpamba  \n",
              "5       Espindola  \n",
              "6       Gonzanama  \n",
              "7          Macara  \n",
              "8          Paltas  \n",
              "9         Puyango  \n",
              "10       Saraguro  \n",
              "11      Sozoranga  \n",
              "12      Zapotillo  \n",
              "13         Pindal  \n",
              "14       Quilanga  \n",
              "15         Olmedo  "
            ],
            "text/html": [
              "\n",
              "  <div id=\"df-6f4df9c9-c67b-4f06-92e2-b617fac09088\" class=\"colab-df-container\">\n",
              "    <div>\n",
              "<style scoped>\n",
              "    .dataframe tbody tr th:only-of-type {\n",
              "        vertical-align: middle;\n",
              "    }\n",
              "\n",
              "    .dataframe tbody tr th {\n",
              "        vertical-align: top;\n",
              "    }\n",
              "\n",
              "    .dataframe thead th {\n",
              "        text-align: right;\n",
              "    }\n",
              "</style>\n",
              "<table border=\"1\" class=\"dataframe\">\n",
              "  <thead>\n",
              "    <tr style=\"text-align: right;\">\n",
              "      <th></th>\n",
              "      <th>I02</th>\n",
              "      <th>num</th>\n",
              "      <th>TOTPER</th>\n",
              "      <th>TOTDOR</th>\n",
              "      <th>techo_est</th>\n",
              "      <th>pared_est</th>\n",
              "      <th>suelo_est</th>\n",
              "      <th>buen_est</th>\n",
              "      <th>Cantón</th>\n",
              "    </tr>\n",
              "  </thead>\n",
              "  <tbody>\n",
              "    <tr>\n",
              "      <th>0</th>\n",
              "      <td>1</td>\n",
              "      <td>54729</td>\n",
              "      <td>212208</td>\n",
              "      <td>120170</td>\n",
              "      <td>27956</td>\n",
              "      <td>30653</td>\n",
              "      <td>29183</td>\n",
              "      <td>21405</td>\n",
              "      <td>Loja</td>\n",
              "    </tr>\n",
              "    <tr>\n",
              "      <th>1</th>\n",
              "      <td>2</td>\n",
              "      <td>6768</td>\n",
              "      <td>27736</td>\n",
              "      <td>13505</td>\n",
              "      <td>2339</td>\n",
              "      <td>2516</td>\n",
              "      <td>2184</td>\n",
              "      <td>1503</td>\n",
              "      <td>Calvas</td>\n",
              "    </tr>\n",
              "    <tr>\n",
              "      <th>2</th>\n",
              "      <td>3</td>\n",
              "      <td>7589</td>\n",
              "      <td>30419</td>\n",
              "      <td>14430</td>\n",
              "      <td>2460</td>\n",
              "      <td>2774</td>\n",
              "      <td>2518</td>\n",
              "      <td>1644</td>\n",
              "      <td>Catamayo</td>\n",
              "    </tr>\n",
              "    <tr>\n",
              "      <th>3</th>\n",
              "      <td>4</td>\n",
              "      <td>3483</td>\n",
              "      <td>14042</td>\n",
              "      <td>6398</td>\n",
              "      <td>1116</td>\n",
              "      <td>1165</td>\n",
              "      <td>985</td>\n",
              "      <td>670</td>\n",
              "      <td>Celica</td>\n",
              "    </tr>\n",
              "    <tr>\n",
              "      <th>4</th>\n",
              "      <td>5</td>\n",
              "      <td>1983</td>\n",
              "      <td>7020</td>\n",
              "      <td>3043</td>\n",
              "      <td>469</td>\n",
              "      <td>554</td>\n",
              "      <td>437</td>\n",
              "      <td>285</td>\n",
              "      <td>Chaguarpamba</td>\n",
              "    </tr>\n",
              "    <tr>\n",
              "      <th>5</th>\n",
              "      <td>6</td>\n",
              "      <td>3443</td>\n",
              "      <td>14773</td>\n",
              "      <td>6602</td>\n",
              "      <td>878</td>\n",
              "      <td>904</td>\n",
              "      <td>742</td>\n",
              "      <td>506</td>\n",
              "      <td>Espindola</td>\n",
              "    </tr>\n",
              "    <tr>\n",
              "      <th>6</th>\n",
              "      <td>7</td>\n",
              "      <td>3606</td>\n",
              "      <td>12692</td>\n",
              "      <td>5905</td>\n",
              "      <td>798</td>\n",
              "      <td>919</td>\n",
              "      <td>732</td>\n",
              "      <td>443</td>\n",
              "      <td>Gonzanama</td>\n",
              "    </tr>\n",
              "    <tr>\n",
              "      <th>7</th>\n",
              "      <td>8</td>\n",
              "      <td>4696</td>\n",
              "      <td>18589</td>\n",
              "      <td>9041</td>\n",
              "      <td>1420</td>\n",
              "      <td>1598</td>\n",
              "      <td>1352</td>\n",
              "      <td>884</td>\n",
              "      <td>Macara</td>\n",
              "    </tr>\n",
              "    <tr>\n",
              "      <th>8</th>\n",
              "      <td>9</td>\n",
              "      <td>6196</td>\n",
              "      <td>23733</td>\n",
              "      <td>10115</td>\n",
              "      <td>1692</td>\n",
              "      <td>1917</td>\n",
              "      <td>1586</td>\n",
              "      <td>1033</td>\n",
              "      <td>Paltas</td>\n",
              "    </tr>\n",
              "    <tr>\n",
              "      <th>9</th>\n",
              "      <td>10</td>\n",
              "      <td>4014</td>\n",
              "      <td>15427</td>\n",
              "      <td>7759</td>\n",
              "      <td>1274</td>\n",
              "      <td>1480</td>\n",
              "      <td>1263</td>\n",
              "      <td>784</td>\n",
              "      <td>Puyango</td>\n",
              "    </tr>\n",
              "    <tr>\n",
              "      <th>10</th>\n",
              "      <td>11</td>\n",
              "      <td>7644</td>\n",
              "      <td>30136</td>\n",
              "      <td>12603</td>\n",
              "      <td>1925</td>\n",
              "      <td>2190</td>\n",
              "      <td>1887</td>\n",
              "      <td>1115</td>\n",
              "      <td>Saraguro</td>\n",
              "    </tr>\n",
              "    <tr>\n",
              "      <th>11</th>\n",
              "      <td>12</td>\n",
              "      <td>1838</td>\n",
              "      <td>7459</td>\n",
              "      <td>3261</td>\n",
              "      <td>391</td>\n",
              "      <td>466</td>\n",
              "      <td>329</td>\n",
              "      <td>170</td>\n",
              "      <td>Sozoranga</td>\n",
              "    </tr>\n",
              "    <tr>\n",
              "      <th>12</th>\n",
              "      <td>13</td>\n",
              "      <td>3196</td>\n",
              "      <td>12249</td>\n",
              "      <td>5259</td>\n",
              "      <td>827</td>\n",
              "      <td>890</td>\n",
              "      <td>601</td>\n",
              "      <td>413</td>\n",
              "      <td>Zapotillo</td>\n",
              "    </tr>\n",
              "    <tr>\n",
              "      <th>13</th>\n",
              "      <td>14</td>\n",
              "      <td>2008</td>\n",
              "      <td>8625</td>\n",
              "      <td>3421</td>\n",
              "      <td>425</td>\n",
              "      <td>528</td>\n",
              "      <td>369</td>\n",
              "      <td>218</td>\n",
              "      <td>Pindal</td>\n",
              "    </tr>\n",
              "    <tr>\n",
              "      <th>14</th>\n",
              "      <td>15</td>\n",
              "      <td>1142</td>\n",
              "      <td>4328</td>\n",
              "      <td>1988</td>\n",
              "      <td>249</td>\n",
              "      <td>265</td>\n",
              "      <td>190</td>\n",
              "      <td>144</td>\n",
              "      <td>Quilanga</td>\n",
              "    </tr>\n",
              "    <tr>\n",
              "      <th>15</th>\n",
              "      <td>16</td>\n",
              "      <td>1373</td>\n",
              "      <td>4863</td>\n",
              "      <td>2089</td>\n",
              "      <td>288</td>\n",
              "      <td>311</td>\n",
              "      <td>263</td>\n",
              "      <td>180</td>\n",
              "      <td>Olmedo</td>\n",
              "    </tr>\n",
              "  </tbody>\n",
              "</table>\n",
              "</div>\n",
              "    <div class=\"colab-df-buttons\">\n",
              "\n",
              "  <div class=\"colab-df-container\">\n",
              "    <button class=\"colab-df-convert\" onclick=\"convertToInteractive('df-6f4df9c9-c67b-4f06-92e2-b617fac09088')\"\n",
              "            title=\"Convert this dataframe to an interactive table.\"\n",
              "            style=\"display:none;\">\n",
              "\n",
              "  <svg xmlns=\"http://www.w3.org/2000/svg\" height=\"24px\" viewBox=\"0 -960 960 960\">\n",
              "    <path d=\"M120-120v-720h720v720H120Zm60-500h600v-160H180v160Zm220 220h160v-160H400v160Zm0 220h160v-160H400v160ZM180-400h160v-160H180v160Zm440 0h160v-160H620v160ZM180-180h160v-160H180v160Zm440 0h160v-160H620v160Z\"/>\n",
              "  </svg>\n",
              "    </button>\n",
              "\n",
              "  <style>\n",
              "    .colab-df-container {\n",
              "      display:flex;\n",
              "      gap: 12px;\n",
              "    }\n",
              "\n",
              "    .colab-df-convert {\n",
              "      background-color: #E8F0FE;\n",
              "      border: none;\n",
              "      border-radius: 50%;\n",
              "      cursor: pointer;\n",
              "      display: none;\n",
              "      fill: #1967D2;\n",
              "      height: 32px;\n",
              "      padding: 0 0 0 0;\n",
              "      width: 32px;\n",
              "    }\n",
              "\n",
              "    .colab-df-convert:hover {\n",
              "      background-color: #E2EBFA;\n",
              "      box-shadow: 0px 1px 2px rgba(60, 64, 67, 0.3), 0px 1px 3px 1px rgba(60, 64, 67, 0.15);\n",
              "      fill: #174EA6;\n",
              "    }\n",
              "\n",
              "    .colab-df-buttons div {\n",
              "      margin-bottom: 4px;\n",
              "    }\n",
              "\n",
              "    [theme=dark] .colab-df-convert {\n",
              "      background-color: #3B4455;\n",
              "      fill: #D2E3FC;\n",
              "    }\n",
              "\n",
              "    [theme=dark] .colab-df-convert:hover {\n",
              "      background-color: #434B5C;\n",
              "      box-shadow: 0px 1px 3px 1px rgba(0, 0, 0, 0.15);\n",
              "      filter: drop-shadow(0px 1px 2px rgba(0, 0, 0, 0.3));\n",
              "      fill: #FFFFFF;\n",
              "    }\n",
              "  </style>\n",
              "\n",
              "    <script>\n",
              "      const buttonEl =\n",
              "        document.querySelector('#df-6f4df9c9-c67b-4f06-92e2-b617fac09088 button.colab-df-convert');\n",
              "      buttonEl.style.display =\n",
              "        google.colab.kernel.accessAllowed ? 'block' : 'none';\n",
              "\n",
              "      async function convertToInteractive(key) {\n",
              "        const element = document.querySelector('#df-6f4df9c9-c67b-4f06-92e2-b617fac09088');\n",
              "        const dataTable =\n",
              "          await google.colab.kernel.invokeFunction('convertToInteractive',\n",
              "                                                    [key], {});\n",
              "        if (!dataTable) return;\n",
              "\n",
              "        const docLinkHtml = 'Like what you see? Visit the ' +\n",
              "          '<a target=\"_blank\" href=https://colab.research.google.com/notebooks/data_table.ipynb>data table notebook</a>'\n",
              "          + ' to learn more about interactive tables.';\n",
              "        element.innerHTML = '';\n",
              "        dataTable['output_type'] = 'display_data';\n",
              "        await google.colab.output.renderOutput(dataTable, element);\n",
              "        const docLink = document.createElement('div');\n",
              "        docLink.innerHTML = docLinkHtml;\n",
              "        element.appendChild(docLink);\n",
              "      }\n",
              "    </script>\n",
              "  </div>\n",
              "\n",
              "\n",
              "<div id=\"df-ae5fa2e6-d9db-4d31-8688-95fdab341326\">\n",
              "  <button class=\"colab-df-quickchart\" onclick=\"quickchart('df-ae5fa2e6-d9db-4d31-8688-95fdab341326')\"\n",
              "            title=\"Suggest charts\"\n",
              "            style=\"display:none;\">\n",
              "\n",
              "<svg xmlns=\"http://www.w3.org/2000/svg\" height=\"24px\"viewBox=\"0 0 24 24\"\n",
              "     width=\"24px\">\n",
              "    <g>\n",
              "        <path d=\"M19 3H5c-1.1 0-2 .9-2 2v14c0 1.1.9 2 2 2h14c1.1 0 2-.9 2-2V5c0-1.1-.9-2-2-2zM9 17H7v-7h2v7zm4 0h-2V7h2v10zm4 0h-2v-4h2v4z\"/>\n",
              "    </g>\n",
              "</svg>\n",
              "  </button>\n",
              "\n",
              "<style>\n",
              "  .colab-df-quickchart {\n",
              "      --bg-color: #E8F0FE;\n",
              "      --fill-color: #1967D2;\n",
              "      --hover-bg-color: #E2EBFA;\n",
              "      --hover-fill-color: #174EA6;\n",
              "      --disabled-fill-color: #AAA;\n",
              "      --disabled-bg-color: #DDD;\n",
              "  }\n",
              "\n",
              "  [theme=dark] .colab-df-quickchart {\n",
              "      --bg-color: #3B4455;\n",
              "      --fill-color: #D2E3FC;\n",
              "      --hover-bg-color: #434B5C;\n",
              "      --hover-fill-color: #FFFFFF;\n",
              "      --disabled-bg-color: #3B4455;\n",
              "      --disabled-fill-color: #666;\n",
              "  }\n",
              "\n",
              "  .colab-df-quickchart {\n",
              "    background-color: var(--bg-color);\n",
              "    border: none;\n",
              "    border-radius: 50%;\n",
              "    cursor: pointer;\n",
              "    display: none;\n",
              "    fill: var(--fill-color);\n",
              "    height: 32px;\n",
              "    padding: 0;\n",
              "    width: 32px;\n",
              "  }\n",
              "\n",
              "  .colab-df-quickchart:hover {\n",
              "    background-color: var(--hover-bg-color);\n",
              "    box-shadow: 0 1px 2px rgba(60, 64, 67, 0.3), 0 1px 3px 1px rgba(60, 64, 67, 0.15);\n",
              "    fill: var(--button-hover-fill-color);\n",
              "  }\n",
              "\n",
              "  .colab-df-quickchart-complete:disabled,\n",
              "  .colab-df-quickchart-complete:disabled:hover {\n",
              "    background-color: var(--disabled-bg-color);\n",
              "    fill: var(--disabled-fill-color);\n",
              "    box-shadow: none;\n",
              "  }\n",
              "\n",
              "  .colab-df-spinner {\n",
              "    border: 2px solid var(--fill-color);\n",
              "    border-color: transparent;\n",
              "    border-bottom-color: var(--fill-color);\n",
              "    animation:\n",
              "      spin 1s steps(1) infinite;\n",
              "  }\n",
              "\n",
              "  @keyframes spin {\n",
              "    0% {\n",
              "      border-color: transparent;\n",
              "      border-bottom-color: var(--fill-color);\n",
              "      border-left-color: var(--fill-color);\n",
              "    }\n",
              "    20% {\n",
              "      border-color: transparent;\n",
              "      border-left-color: var(--fill-color);\n",
              "      border-top-color: var(--fill-color);\n",
              "    }\n",
              "    30% {\n",
              "      border-color: transparent;\n",
              "      border-left-color: var(--fill-color);\n",
              "      border-top-color: var(--fill-color);\n",
              "      border-right-color: var(--fill-color);\n",
              "    }\n",
              "    40% {\n",
              "      border-color: transparent;\n",
              "      border-right-color: var(--fill-color);\n",
              "      border-top-color: var(--fill-color);\n",
              "    }\n",
              "    60% {\n",
              "      border-color: transparent;\n",
              "      border-right-color: var(--fill-color);\n",
              "    }\n",
              "    80% {\n",
              "      border-color: transparent;\n",
              "      border-right-color: var(--fill-color);\n",
              "      border-bottom-color: var(--fill-color);\n",
              "    }\n",
              "    90% {\n",
              "      border-color: transparent;\n",
              "      border-bottom-color: var(--fill-color);\n",
              "    }\n",
              "  }\n",
              "</style>\n",
              "\n",
              "  <script>\n",
              "    async function quickchart(key) {\n",
              "      const quickchartButtonEl =\n",
              "        document.querySelector('#' + key + ' button');\n",
              "      quickchartButtonEl.disabled = true;  // To prevent multiple clicks.\n",
              "      quickchartButtonEl.classList.add('colab-df-spinner');\n",
              "      try {\n",
              "        const charts = await google.colab.kernel.invokeFunction(\n",
              "            'suggestCharts', [key], {});\n",
              "      } catch (error) {\n",
              "        console.error('Error during call to suggestCharts:', error);\n",
              "      }\n",
              "      quickchartButtonEl.classList.remove('colab-df-spinner');\n",
              "      quickchartButtonEl.classList.add('colab-df-quickchart-complete');\n",
              "    }\n",
              "    (() => {\n",
              "      let quickchartButtonEl =\n",
              "        document.querySelector('#df-ae5fa2e6-d9db-4d31-8688-95fdab341326 button');\n",
              "      quickchartButtonEl.style.display =\n",
              "        google.colab.kernel.accessAllowed ? 'block' : 'none';\n",
              "    })();\n",
              "  </script>\n",
              "</div>\n",
              "    </div>\n",
              "  </div>\n"
            ],
            "application/vnd.google.colaboratory.intrinsic+json": {
              "type": "dataframe",
              "variable_name": "vpo_c",
              "summary": "{\n  \"name\": \"vpo_c\",\n  \"rows\": 16,\n  \"fields\": [\n    {\n      \"column\": \"I02\",\n      \"properties\": {\n        \"dtype\": \"number\",\n        \"std\": 4,\n        \"min\": 1,\n        \"max\": 16,\n        \"num_unique_values\": 16,\n        \"samples\": [\n          1,\n          2,\n          6\n        ],\n        \"semantic_type\": \"\",\n        \"description\": \"\"\n      }\n    },\n    {\n      \"column\": \"num\",\n      \"properties\": {\n        \"dtype\": \"number\",\n        \"std\": 12877,\n        \"min\": 1142,\n        \"max\": 54729,\n        \"num_unique_values\": 16,\n        \"samples\": [\n          54729,\n          6768,\n          3443\n        ],\n        \"semantic_type\": \"\",\n        \"description\": \"\"\n      }\n    },\n    {\n      \"column\": \"TOTPER\",\n      \"properties\": {\n        \"dtype\": \"number\",\n        \"std\": 49928,\n        \"min\": 4328,\n        \"max\": 212208,\n        \"num_unique_values\": 16,\n        \"samples\": [\n          212208,\n          27736,\n          14773\n        ],\n        \"semantic_type\": \"\",\n        \"description\": \"\"\n      }\n    },\n    {\n      \"column\": \"TOTDOR\",\n      \"properties\": {\n        \"dtype\": \"number\",\n        \"std\": 28566,\n        \"min\": 1988,\n        \"max\": 120170,\n        \"num_unique_values\": 16,\n        \"samples\": [\n          120170,\n          13505,\n          6602\n        ],\n        \"semantic_type\": \"\",\n        \"description\": \"\"\n      }\n    },\n    {\n      \"column\": \"techo_est\",\n      \"properties\": {\n        \"dtype\": \"number\",\n        \"std\": 6750,\n        \"min\": 249,\n        \"max\": 27956,\n        \"num_unique_values\": 16,\n        \"samples\": [\n          27956,\n          2339,\n          878\n        ],\n        \"semantic_type\": \"\",\n        \"description\": \"\"\n      }\n    },\n    {\n      \"column\": \"pared_est\",\n      \"properties\": {\n        \"dtype\": \"number\",\n        \"std\": 7397,\n        \"min\": 265,\n        \"max\": 30653,\n        \"num_unique_values\": 16,\n        \"samples\": [\n          30653,\n          2516,\n          904\n        ],\n        \"semantic_type\": \"\",\n        \"description\": \"\"\n      }\n    },\n    {\n      \"column\": \"suelo_est\",\n      \"properties\": {\n        \"dtype\": \"number\",\n        \"std\": 7074,\n        \"min\": 190,\n        \"max\": 29183,\n        \"num_unique_values\": 16,\n        \"samples\": [\n          29183,\n          2184,\n          742\n        ],\n        \"semantic_type\": \"\",\n        \"description\": \"\"\n      }\n    },\n    {\n      \"column\": \"buen_est\",\n      \"properties\": {\n        \"dtype\": \"number\",\n        \"std\": 5205,\n        \"min\": 144,\n        \"max\": 21405,\n        \"num_unique_values\": 16,\n        \"samples\": [\n          21405,\n          1503,\n          506\n        ],\n        \"semantic_type\": \"\",\n        \"description\": \"\"\n      }\n    },\n    {\n      \"column\": \"Cant\\u00f3n\",\n      \"properties\": {\n        \"dtype\": \"string\",\n        \"num_unique_values\": 16,\n        \"samples\": [\n          \" Loja\",\n          \" Calvas\",\n          \" Espindola\"\n        ],\n        \"semantic_type\": \"\",\n        \"description\": \"\"\n      }\n    }\n  ]\n}"
            }
          },
          "metadata": {},
          "execution_count": 34
        }
      ]
    },
    {
      "cell_type": "markdown",
      "source": [
        "## 6. Cálculo de tasas y otros indicadores"
      ],
      "metadata": {
        "id": "AuCBD4NltWtQ"
      }
    },
    {
      "cell_type": "markdown",
      "source": [
        "Podemos calcular a modo de ejemplo las siguientes tasas:\n",
        "* Porcentaje de viviendas con los techos en buen estado de conservación.\n",
        "* Porcentaje de viviendas con las paredes en buen estado de conservación.\n",
        "* Porcentaje de viviendas con buen estado de conservación en techos, paredes y suelos.\n",
        "\n",
        "Además, vamos a calcular la ocupación media de las viviendas en cada cantón y el número medio de dormitorios por vivienda."
      ],
      "metadata": {
        "id": "XFW9-QdyPPuG"
      }
    },
    {
      "cell_type": "code",
      "source": [
        "vpo_c['techo_est_p']=vpo_c['techo_est']/vpo_c['num']*100\n",
        "vpo_c['pared_est_p']=vpo_c['pared_est']/vpo_c['num']*100\n",
        "vpo_c['buen_est_p']=vpo_c['buen_est']/vpo_c['num']*100\n",
        "\n",
        "\n",
        "vpo_c['totper_med']=vpo_c['TOTPER']/vpo_c['num']\n",
        "vpo_c['totdor_med']=vpo_c['TOTDOR']/vpo_c['num']"
      ],
      "metadata": {
        "id": "6v19ocaRP7Kk"
      },
      "execution_count": 35,
      "outputs": []
    },
    {
      "cell_type": "markdown",
      "source": [
        "Ahora podemos representar gráficamente las variables. Por ejemplo, la tasa de viviendas con buen estado total de conservación:"
      ],
      "metadata": {
        "id": "krw-Ecg3S8w_"
      }
    },
    {
      "cell_type": "code",
      "source": [
        "sns.barplot(data=vpo_c, y=\"Cantón\",x=\"buen_est_p\", color=\"tab:red\")\n"
      ],
      "metadata": {
        "id": "a2LAGx6HQkI3",
        "colab": {
          "base_uri": "https://localhost:8080/",
          "height": 467
        },
        "outputId": "027d95bd-6d0c-4867-b94f-24c408b7020c"
      },
      "execution_count": 36,
      "outputs": [
        {
          "output_type": "execute_result",
          "data": {
            "text/plain": [
              "<Axes: xlabel='buen_est_p', ylabel='Cantón'>"
            ]
          },
          "metadata": {},
          "execution_count": 36
        },
        {
          "output_type": "display_data",
          "data": {
            "text/plain": [
              "<Figure size 640x480 with 1 Axes>"
            ],
            "image/png": "[encoded data removed]"
          },
          "metadata": {}
        }
      ]
    },
    {
      "cell_type": "markdown",
      "source": [
        "Para que las barras aparezcan ordenadas, ordenamos la tabla por la variable *buen_est_p*:"
      ],
      "metadata": {
        "id": "jmZo673q_zBC"
      }
    },
    {
      "cell_type": "code",
      "source": [
        "vpo_c=vpo_c.sort_values(\"buen_est_p\")\n",
        "sns.barplot(data=vpo_c, y=\"Cantón\",x=\"buen_est_p\", color=\"tab:red\")\n"
      ],
      "metadata": {
        "id": "njxrdSWM_3_Q",
        "colab": {
          "base_uri": "https://localhost:8080/",
          "height": 467
        },
        "outputId": "57aa10e4-e002-4200-a6a7-e68fee1cc795"
      },
      "execution_count": 37,
      "outputs": [
        {
          "output_type": "execute_result",
          "data": {
            "text/plain": [
              "<Axes: xlabel='buen_est_p', ylabel='Cantón'>"
            ]
          },
          "metadata": {},
          "execution_count": 37
        },
        {
          "output_type": "display_data",
          "data": {
            "text/plain": [
              "<Figure size 640x480 with 1 Axes>"
            ],
            "image/png": "[encoded data removed]"
          },
          "metadata": {}
        }
      ]
    },
    {
      "cell_type": "markdown",
      "source": [
        "Es fácil mejorar la apariencia e inteligibilidad del gráfico anterior:"
      ],
      "metadata": {
        "id": "h2F_sipcTJ0v"
      }
    },
    {
      "cell_type": "code",
      "source": [
        "fig,ax=plt.subplots()\n",
        "sns.barplot(data=vpo_c, y=\"Cantón\",x=\"buen_est_p\", color=\"tab:red\")\n",
        "ax.set_xlabel(\"Porcentaje de viviendas\")\n",
        "ax.set_ylabel(\"\")\n",
        "ax.spines['top'].set_visible(False)\n",
        "ax.spines['right'].set_visible(False)\n",
        "ax.set_title(\"Viviendas con buen estado de conservación en techos, paredes y suelos \\n\")\n",
        "fig.text(0,0,\"Fuente: INEC. Censo 2010. Elab. propia.\", size=8)\n",
        "plt.show()"
      ],
      "metadata": {
        "id": "TF3wmQZ5TOUn",
        "colab": {
          "base_uri": "https://localhost:8080/",
          "height": 505
        },
        "outputId": "94126514-9a7b-476a-abc4-34a5a85376c7"
      },
      "execution_count": 38,
      "outputs": [
        {
          "output_type": "display_data",
          "data": {
            "text/plain": [
              "<Figure size 640x480 with 1 Axes>"
            ],
            "image/png": "[encoded data removed]"
          },
          "metadata": {}
        }
      ]
    },
    {
      "cell_type": "markdown",
      "source": [
        "En cualquier caso, si os resulta al principio más fácil, podéis exportar los datos procesados y realizar el gráfico en otro programa con el que estéis más familiarizados. Para ello, usaís la función ```to_excel()``` como se muestra a continuación:"
      ],
      "metadata": {
        "id": "--lndJqSUQFB"
      }
    },
    {
      "cell_type": "code",
      "source": [
        "vpo_c.to_excel(\"datos_cantones.xlsx\")"
      ],
      "metadata": {
        "id": "rgOKPNWMUjZv"
      },
      "execution_count": null,
      "outputs": []
    },
    {
      "cell_type": "markdown",
      "source": [
        "El archivo se guarda junto a los otros archivos que habéis subido. Solamente hay que descargarlo."
      ],
      "metadata": {
        "id": "njiIVU8uU2h1"
      }
    },
    {
      "cell_type": "markdown",
      "source": [
        "## 7. Correlaciones"
      ],
      "metadata": {
        "id": "2DqS17djJ0rZ"
      }
    },
    {
      "cell_type": "markdown",
      "source": [
        "A modo de ejemplo, vamos a ver la (obvia) correlación existente entre la tasa de viviendas con techos en buen estado y la tasa de viviendas con paredes en buen estado:"
      ],
      "metadata": {
        "id": "-wbGJPji2Z9h"
      }
    },
    {
      "cell_type": "code",
      "source": [
        "sns.scatterplot(data=vpo_c,x=\"techo_est_p\",y=\"pared_est_p\")"
      ],
      "metadata": {
        "id": "mMEe7OE-Dv9O",
        "colab": {
          "base_uri": "https://localhost:8080/",
          "height": 467
        },
        "outputId": "67c1a13a-40c1-47e6-c09b-367e72807213"
      },
      "execution_count": 39,
      "outputs": [
        {
          "output_type": "execute_result",
          "data": {
            "text/plain": [
              "<Axes: xlabel='techo_est_p', ylabel='pared_est_p'>"
            ]
          },
          "metadata": {},
          "execution_count": 39
        },
        {
          "output_type": "display_data",
          "data": {
            "text/plain": [
              "<Figure size 640x480 with 1 Axes>"
            ],
            "image/png": "[encoded data removed]"
          },
          "metadata": {}
        }
      ]
    },
    {
      "cell_type": "markdown",
      "source": [
        "Ahora algo más interesante: ¿cuál es la correlación entre el número medio de personas por vivienda y el número medio de dormitorios por vivienda?"
      ],
      "metadata": {
        "id": "0c_s46LDwz0k"
      }
    },
    {
      "cell_type": "code",
      "source": [
        "sns.scatterplot(data=vpo_c,x=\"totper_med\",y=\"totdor_med\")"
      ],
      "metadata": {
        "id": "7wDiT7jVF8yW",
        "colab": {
          "base_uri": "https://localhost:8080/",
          "height": 467
        },
        "outputId": "d7c4e4eb-7782-41b1-ab99-78edc45498f0"
      },
      "execution_count": 40,
      "outputs": [
        {
          "output_type": "execute_result",
          "data": {
            "text/plain": [
              "<Axes: xlabel='totper_med', ylabel='totdor_med'>"
            ]
          },
          "metadata": {},
          "execution_count": 40
        },
        {
          "output_type": "display_data",
          "data": {
            "text/plain": [
              "<Figure size 640x480 with 1 Axes>"
            ],
            "image/png": "[encoded data removed]"
          },
          "metadata": {}
        }
      ]
    },
    {
      "cell_type": "markdown",
      "source": [
        "Finalmente, podemos preguntarnos si los cantones en cuyas viviendas residen de media más personas son los que tienen viviendas con mejor estado de conservación."
      ],
      "metadata": {
        "id": "pgDtu1CNxYbN"
      }
    },
    {
      "cell_type": "code",
      "source": [
        "sns.scatterplot(data=vpo_c,x=\"totper_med\",y=\"buen_est_p\")"
      ],
      "metadata": {
        "id": "3Rkksz4-Hnn-",
        "colab": {
          "base_uri": "https://localhost:8080/",
          "height": 467
        },
        "outputId": "892fc527-7856-400e-b7d4-0d1d1c64be24"
      },
      "execution_count": 41,
      "outputs": [
        {
          "output_type": "execute_result",
          "data": {
            "text/plain": [
              "<Axes: xlabel='totper_med', ylabel='buen_est_p'>"
            ]
          },
          "metadata": {},
          "execution_count": 41
        },
        {
          "output_type": "display_data",
          "data": {
            "text/plain": [
              "<Figure size 640x480 with 1 Axes>"
            ],
            "image/png": "[encoded data removed]"
          },
          "metadata": {}
        }
      ]
    },
    {
      "cell_type": "markdown",
      "source": [
        "Además de visualmente, las correlaciones pueden calcularse a través del coeficiente de correlación:"
      ],
      "metadata": {
        "id": "fGzKmn4Mxu12"
      }
    },
    {
      "cell_type": "code",
      "source": [
        "variables_de_interes=['techo_est_p', 'pared_est_p', 'buen_est_p','totper_med', 'totdor_med']\n",
        "vpo_c[variables_de_interes].corr()"
      ],
      "metadata": {
        "id": "0a_0Y8quWL1g",
        "colab": {
          "base_uri": "https://localhost:8080/",
          "height": 206
        },
        "outputId": "2c618229-fc52-4468-ad8b-d64dfa4be2f8"
      },
      "execution_count": 42,
      "outputs": [
        {
          "output_type": "execute_result",
          "data": {
            "text/plain": [
              "             techo_est_p  pared_est_p  buen_est_p  totper_med  totdor_med\n",
              "techo_est_p     1.000000     0.985951    0.984812    0.148675    0.828296\n",
              "pared_est_p     0.985951     1.000000    0.972270    0.137163    0.808439\n",
              "buen_est_p      0.984812     0.972270    1.000000    0.062334    0.783158\n",
              "totper_med      0.148675     0.137163    0.062334    1.000000    0.503612\n",
              "totdor_med      0.828296     0.808439    0.783158    0.503612    1.000000"
            ],
            "text/html": [
              "\n",
              "  <div id=\"df-3e15196f-eaca-4fe3-ad32-bd90c1390af4\" class=\"colab-df-container\">\n",
              "    <div>\n",
              "<style scoped>\n",
              "    .dataframe tbody tr th:only-of-type {\n",
              "        vertical-align: middle;\n",
              "    }\n",
              "\n",
              "    .dataframe tbody tr th {\n",
              "        vertical-align: top;\n",
              "    }\n",
              "\n",
              "    .dataframe thead th {\n",
              "        text-align: right;\n",
              "    }\n",
              "</style>\n",
              "<table border=\"1\" class=\"dataframe\">\n",
              "  <thead>\n",
              "    <tr style=\"text-align: right;\">\n",
              "      <th></th>\n",
              "      <th>techo_est_p</th>\n",
              "      <th>pared_est_p</th>\n",
              "      <th>buen_est_p</th>\n",
              "      <th>totper_med</th>\n",
              "      <th>totdor_med</th>\n",
              "    </tr>\n",
              "  </thead>\n",
              "  <tbody>\n",
              "    <tr>\n",
              "      <th>techo_est_p</th>\n",
              "      <td>1.000000</td>\n",
              "      <td>0.985951</td>\n",
              "      <td>0.984812</td>\n",
              "      <td>0.148675</td>\n",
              "      <td>0.828296</td>\n",
              "    </tr>\n",
              "    <tr>\n",
              "      <th>pared_est_p</th>\n",
              "      <td>0.985951</td>\n",
              "      <td>1.000000</td>\n",
              "      <td>0.972270</td>\n",
              "      <td>0.137163</td>\n",
              "      <td>0.808439</td>\n",
              "    </tr>\n",
              "    <tr>\n",
              "      <th>buen_est_p</th>\n",
              "      <td>0.984812</td>\n",
              "      <td>0.972270</td>\n",
              "      <td>1.000000</td>\n",
              "      <td>0.062334</td>\n",
              "      <td>0.783158</td>\n",
              "    </tr>\n",
              "    <tr>\n",
              "      <th>totper_med</th>\n",
              "      <td>0.148675</td>\n",
              "      <td>0.137163</td>\n",
              "      <td>0.062334</td>\n",
              "      <td>1.000000</td>\n",
              "      <td>0.503612</td>\n",
              "    </tr>\n",
              "    <tr>\n",
              "      <th>totdor_med</th>\n",
              "      <td>0.828296</td>\n",
              "      <td>0.808439</td>\n",
              "      <td>0.783158</td>\n",
              "      <td>0.503612</td>\n",
              "      <td>1.000000</td>\n",
              "    </tr>\n",
              "  </tbody>\n",
              "</table>\n",
              "</div>\n",
              "    <div class=\"colab-df-buttons\">\n",
              "\n",
              "  <div class=\"colab-df-container\">\n",
              "    <button class=\"colab-df-convert\" onclick=\"convertToInteractive('df-3e15196f-eaca-4fe3-ad32-bd90c1390af4')\"\n",
              "            title=\"Convert this dataframe to an interactive table.\"\n",
              "            style=\"display:none;\">\n",
              "\n",
              "  <svg xmlns=\"http://www.w3.org/2000/svg\" height=\"24px\" viewBox=\"0 -960 960 960\">\n",
              "    <path d=\"M120-120v-720h720v720H120Zm60-500h600v-160H180v160Zm220 220h160v-160H400v160Zm0 220h160v-160H400v160ZM180-400h160v-160H180v160Zm440 0h160v-160H620v160ZM180-180h160v-160H180v160Zm440 0h160v-160H620v160Z\"/>\n",
              "  </svg>\n",
              "    </button>\n",
              "\n",
              "  <style>\n",
              "    .colab-df-container {\n",
              "      display:flex;\n",
              "      gap: 12px;\n",
              "    }\n",
              "\n",
              "    .colab-df-convert {\n",
              "      background-color: #E8F0FE;\n",
              "      border: none;\n",
              "      border-radius: 50%;\n",
              "      cursor: pointer;\n",
              "      display: none;\n",
              "      fill: #1967D2;\n",
              "      height: 32px;\n",
              "      padding: 0 0 0 0;\n",
              "      width: 32px;\n",
              "    }\n",
              "\n",
              "    .colab-df-convert:hover {\n",
              "      background-color: #E2EBFA;\n",
              "      box-shadow: 0px 1px 2px rgba(60, 64, 67, 0.3), 0px 1px 3px 1px rgba(60, 64, 67, 0.15);\n",
              "      fill: #174EA6;\n",
              "    }\n",
              "\n",
              "    .colab-df-buttons div {\n",
              "      margin-bottom: 4px;\n",
              "    }\n",
              "\n",
              "    [theme=dark] .colab-df-convert {\n",
              "      background-color: #3B4455;\n",
              "      fill: #D2E3FC;\n",
              "    }\n",
              "\n",
              "    [theme=dark] .colab-df-convert:hover {\n",
              "      background-color: #434B5C;\n",
              "      box-shadow: 0px 1px 3px 1px rgba(0, 0, 0, 0.15);\n",
              "      filter: drop-shadow(0px 1px 2px rgba(0, 0, 0, 0.3));\n",
              "      fill: #FFFFFF;\n",
              "    }\n",
              "  </style>\n",
              "\n",
              "    <script>\n",
              "      const buttonEl =\n",
              "        document.querySelector('#df-3e15196f-eaca-4fe3-ad32-bd90c1390af4 button.colab-df-convert');\n",
              "      buttonEl.style.display =\n",
              "        google.colab.kernel.accessAllowed ? 'block' : 'none';\n",
              "\n",
              "      async function convertToInteractive(key) {\n",
              "        const element = document.querySelector('#df-3e15196f-eaca-4fe3-ad32-bd90c1390af4');\n",
              "        const dataTable =\n",
              "          await google.colab.kernel.invokeFunction('convertToInteractive',\n",
              "                                                    [key], {});\n",
              "        if (!dataTable) return;\n",
              "\n",
              "        const docLinkHtml = 'Like what you see? Visit the ' +\n",
              "          '<a target=\"_blank\" href=https://colab.research.google.com/notebooks/data_table.ipynb>data table notebook</a>'\n",
              "          + ' to learn more about interactive tables.';\n",
              "        element.innerHTML = '';\n",
              "        dataTable['output_type'] = 'display_data';\n",
              "        await google.colab.output.renderOutput(dataTable, element);\n",
              "        const docLink = document.createElement('div');\n",
              "        docLink.innerHTML = docLinkHtml;\n",
              "        element.appendChild(docLink);\n",
              "      }\n",
              "    </script>\n",
              "  </div>\n",
              "\n",
              "\n",
              "<div id=\"df-1d8bfb5e-66bb-4c2e-b3d1-e6babbeb74ef\">\n",
              "  <button class=\"colab-df-quickchart\" onclick=\"quickchart('df-1d8bfb5e-66bb-4c2e-b3d1-e6babbeb74ef')\"\n",
              "            title=\"Suggest charts\"\n",
              "            style=\"display:none;\">\n",
              "\n",
              "<svg xmlns=\"http://www.w3.org/2000/svg\" height=\"24px\"viewBox=\"0 0 24 24\"\n",
              "     width=\"24px\">\n",
              "    <g>\n",
              "        <path d=\"M19 3H5c-1.1 0-2 .9-2 2v14c0 1.1.9 2 2 2h14c1.1 0 2-.9 2-2V5c0-1.1-.9-2-2-2zM9 17H7v-7h2v7zm4 0h-2V7h2v10zm4 0h-2v-4h2v4z\"/>\n",
              "    </g>\n",
              "</svg>\n",
              "  </button>\n",
              "\n",
              "<style>\n",
              "  .colab-df-quickchart {\n",
              "      --bg-color: #E8F0FE;\n",
              "      --fill-color: #1967D2;\n",
              "      --hover-bg-color: #E2EBFA;\n",
              "      --hover-fill-color: #174EA6;\n",
              "      --disabled-fill-color: #AAA;\n",
              "      --disabled-bg-color: #DDD;\n",
              "  }\n",
              "\n",
              "  [theme=dark] .colab-df-quickchart {\n",
              "      --bg-color: #3B4455;\n",
              "      --fill-color: #D2E3FC;\n",
              "      --hover-bg-color: #434B5C;\n",
              "      --hover-fill-color: #FFFFFF;\n",
              "      --disabled-bg-color: #3B4455;\n",
              "      --disabled-fill-color: #666;\n",
              "  }\n",
              "\n",
              "  .colab-df-quickchart {\n",
              "    background-color: var(--bg-color);\n",
              "    border: none;\n",
              "    border-radius: 50%;\n",
              "    cursor: pointer;\n",
              "    display: none;\n",
              "    fill: var(--fill-color);\n",
              "    height: 32px;\n",
              "    padding: 0;\n",
              "    width: 32px;\n",
              "  }\n",
              "\n",
              "  .colab-df-quickchart:hover {\n",
              "    background-color: var(--hover-bg-color);\n",
              "    box-shadow: 0 1px 2px rgba(60, 64, 67, 0.3), 0 1px 3px 1px rgba(60, 64, 67, 0.15);\n",
              "    fill: var(--button-hover-fill-color);\n",
              "  }\n",
              "\n",
              "  .colab-df-quickchart-complete:disabled,\n",
              "  .colab-df-quickchart-complete:disabled:hover {\n",
              "    background-color: var(--disabled-bg-color);\n",
              "    fill: var(--disabled-fill-color);\n",
              "    box-shadow: none;\n",
              "  }\n",
              "\n",
              "  .colab-df-spinner {\n",
              "    border: 2px solid var(--fill-color);\n",
              "    border-color: transparent;\n",
              "    border-bottom-color: var(--fill-color);\n",
              "    animation:\n",
              "      spin 1s steps(1) infinite;\n",
              "  }\n",
              "\n",
              "  @keyframes spin {\n",
              "    0% {\n",
              "      border-color: transparent;\n",
              "      border-bottom-color: var(--fill-color);\n",
              "      border-left-color: var(--fill-color);\n",
              "    }\n",
              "    20% {\n",
              "      border-color: transparent;\n",
              "      border-left-color: var(--fill-color);\n",
              "      border-top-color: var(--fill-color);\n",
              "    }\n",
              "    30% {\n",
              "      border-color: transparent;\n",
              "      border-left-color: var(--fill-color);\n",
              "      border-top-color: var(--fill-color);\n",
              "      border-right-color: var(--fill-color);\n",
              "    }\n",
              "    40% {\n",
              "      border-color: transparent;\n",
              "      border-right-color: var(--fill-color);\n",
              "      border-top-color: var(--fill-color);\n",
              "    }\n",
              "    60% {\n",
              "      border-color: transparent;\n",
              "      border-right-color: var(--fill-color);\n",
              "    }\n",
              "    80% {\n",
              "      border-color: transparent;\n",
              "      border-right-color: var(--fill-color);\n",
              "      border-bottom-color: var(--fill-color);\n",
              "    }\n",
              "    90% {\n",
              "      border-color: transparent;\n",
              "      border-bottom-color: var(--fill-color);\n",
              "    }\n",
              "  }\n",
              "</style>\n",
              "\n",
              "  <script>\n",
              "    async function quickchart(key) {\n",
              "      const quickchartButtonEl =\n",
              "        document.querySelector('#' + key + ' button');\n",
              "      quickchartButtonEl.disabled = true;  // To prevent multiple clicks.\n",
              "      quickchartButtonEl.classList.add('colab-df-spinner');\n",
              "      try {\n",
              "        const charts = await google.colab.kernel.invokeFunction(\n",
              "            'suggestCharts', [key], {});\n",
              "      } catch (error) {\n",
              "        console.error('Error during call to suggestCharts:', error);\n",
              "      }\n",
              "      quickchartButtonEl.classList.remove('colab-df-spinner');\n",
              "      quickchartButtonEl.classList.add('colab-df-quickchart-complete');\n",
              "    }\n",
              "    (() => {\n",
              "      let quickchartButtonEl =\n",
              "        document.querySelector('#df-1d8bfb5e-66bb-4c2e-b3d1-e6babbeb74ef button');\n",
              "      quickchartButtonEl.style.display =\n",
              "        google.colab.kernel.accessAllowed ? 'block' : 'none';\n",
              "    })();\n",
              "  </script>\n",
              "</div>\n",
              "    </div>\n",
              "  </div>\n"
            ],
            "application/vnd.google.colaboratory.intrinsic+json": {
              "type": "dataframe",
              "summary": "{\n  \"name\": \"vpo_c[variables_de_interes]\",\n  \"rows\": 5,\n  \"fields\": [\n    {\n      \"column\": \"techo_est_p\",\n      \"properties\": {\n        \"dtype\": \"number\",\n        \"std\": 0.36510680212926194,\n        \"min\": 0.14867470774760064,\n        \"max\": 1.0,\n        \"num_unique_values\": 5,\n        \"samples\": [\n          0.9859506807389566,\n          0.828296091376456,\n          0.9848115635255769\n        ],\n        \"semantic_type\": \"\",\n        \"description\": \"\"\n      }\n    },\n    {\n      \"column\": \"pared_est_p\",\n      \"properties\": {\n        \"dtype\": \"number\",\n        \"std\": 0.36804479801532486,\n        \"min\": 0.13716349851681692,\n        \"max\": 1.0,\n        \"num_unique_values\": 5,\n        \"samples\": [\n          1.0,\n          0.8084386658774225,\n          0.9722696215787925\n        ],\n        \"semantic_type\": \"\",\n        \"description\": \"\"\n      }\n    },\n    {\n      \"column\": \"buen_est_p\",\n      \"properties\": {\n        \"dtype\": \"number\",\n        \"std\": 0.40014744353140497,\n        \"min\": 0.06233367060521668,\n        \"max\": 1.0,\n        \"num_unique_values\": 5,\n        \"samples\": [\n          0.9722696215787925,\n          0.7831579713154531,\n          1.0\n        ],\n        \"semantic_type\": \"\",\n        \"description\": \"\"\n      }\n    },\n    {\n      \"column\": \"totper_med\",\n      \"properties\": {\n        \"dtype\": \"number\",\n        \"std\": 0.391346373962148,\n        \"min\": 0.06233367060521668,\n        \"max\": 1.0,\n        \"num_unique_values\": 5,\n        \"samples\": [\n          0.13716349851681692,\n          0.5036124348635269,\n          0.06233367060521668\n        ],\n        \"semantic_type\": \"\",\n        \"description\": \"\"\n      }\n    },\n    {\n      \"column\": \"totdor_med\",\n      \"properties\": {\n        \"dtype\": \"number\",\n        \"std\": 0.17876718837808783,\n        \"min\": 0.5036124348635269,\n        \"max\": 1.0,\n        \"num_unique_values\": 5,\n        \"samples\": [\n          0.8084386658774225,\n          1.0,\n          0.7831579713154531\n        ],\n        \"semantic_type\": \"\",\n        \"description\": \"\"\n      }\n    }\n  ]\n}"
            }
          },
          "metadata": {},
          "execution_count": 42
        }
      ]
    },
    {
      "cell_type": "markdown",
      "source": [
        "## Ejercicios propuestos"
      ],
      "metadata": {
        "id": "rte9CiFrzvDj"
      }
    },
    {
      "cell_type": "markdown",
      "source": [
        "**Partiendo de la tabla vpo_c:**\n",
        "1. Crear un gráfico de barras donde se represente el total de personas de cada cantón. Tratad que las barras aparezcan ordenadas de menor a mayor.\n",
        "2. Crear una nueva variable que sea el procentaje de viviendas con suelo en buen estado. Una vez creada, calcular la media, el valor máximo y el mínimo.\n",
        "\n",
        "**Partiedo de la tabla vpo:**\n",
        "1. Calcular el porcentaje de viviendas que eliminan principalmente la basura a través de carro recolector. Calcular tanto el porcentaje global para la provincia de Loja así como para sus 16 cantones.\n",
        "2. Calcular el porcentaje de viviendas que cuentan con un medidor de energía eléctrica de uso exclusivo. Calcular tanto el porcentaje global para la provincia de Loja así como para sus 16 cantones.\n",
        "3. Explorar si existe correlación, a nivel cantonal, entre las tasas creadas en el punto 1 y 2.\n"
      ],
      "metadata": {
        "id": "SdYBudAw0Io6"
      }
    },
    {
      "cell_type": "markdown",
      "source": [
        "---\n",
        "\n",
        "**Consejos básicos**:  \n",
        "Al principio, la mejor manera de escribir código es reutilizando código ya escrito y adaptándolo a nuestras necesidades. Por ejemplo, los ejercicios propuestos se pueden realizar fácilmente usando el código que se proporciona en este notebook, simplemente introduciendo modificaciones mínimas.  \n",
        "Hay que tener en cuenta que cualquier mínimo error al escribir el código, por pequeño que sea (falta un paréntesis, una letra aparece en mayúscula cuando debe estar en minúscula, falta una coma, una comilla, etc) nos va a dar error al ejecutar. Tenéis que ser muy cuidadosos y todo tiene que estar literalmente bien escrito.  Por ello, es importante reutilizar el código ya escrito y fijarse muy bien en que no falte nada.\n",
        "\n",
        "---\n"
      ],
      "metadata": {
        "id": "C49y_6oFBE-o"
      }
    },
    {
      "cell_type": "markdown",
      "source": [
        "## Recursos para el aprendizaje autónomo:\n",
        "\n",
        "Existe una enorme cantidad de recursos disponibles en Internet para aprender a usar ```Pandas``` y más en general ```Python```.  \n",
        "Por ejemplo, este curso aplicado a técnicas geoespaciales:\n",
        "https://geo-python-site.readthedocs.io/en/latest/  \n",
        "\n",
        "Hay también cursos gratuitos en plataformas como www.coursera.org o https://www.edx.org/\n",
        "\n",
        "Es muy común consultar constantemente las dudas en Google. Lo más práctico es escribir la duda en inglés, ya que normalmente hay más ayuda. Suele ser de mucha utilidad las respuestas en el foro https://stackoverflow.com/\n",
        "<br></br>\n",
        "Y por supuesto, la ayuda oficial es también muy buen recurso:  \n",
        "https://pandas.pydata.org/  \n",
        "https://seaborn.pydata.org/  \n",
        "https://matplotlib.org/\n",
        "\n"
      ],
      "metadata": {
        "id": "y1uJ_nkB3EV7"
      }
    }
  ]
}