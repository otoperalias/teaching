{
  "nbformat": 4,
  "nbformat_minor": 0,
  "metadata": {
    "colab": {
      "provenance": [],
      "toc_visible": true,
      "authorship_tag": "ABX9TyP9uhkUVwv8uVRAwjRM5A41",
      "include_colab_link": true
    },
    "kernelspec": {
      "name": "python3",
      "display_name": "Python 3"
    },
    "language_info": {
      "name": "python"
    }
  },
  "cells": [
    {
      "cell_type": "markdown",
      "metadata": {
        "id": "view-in-github",
        "colab_type": "text"
      },
      "source": [
        "<a href=\"https://colab.research.google.com/github/otoperalias/teaching/blob/TallerUTE_AnalisisCuanti/UTE_TallerAnalisisCuanti_2024.ipynb\" target=\"_parent\"><img src=\"https://colab.research.google.com/assets/colab-badge.svg\" alt=\"Open In Colab\"/></a>"
      ]
    },
    {
      "cell_type": "markdown",
      "source": [
        "<img src=\"https://github.com/otoperalias/teaching/blob/TallerUTE_AnalisisCuanti/material/6.%20M%C3%89TODOS%20CUANTITATIVOS%20WORKSHOP%20(1).jpg?raw=true\" alt=\"drawing\" width=\"900\"/>\n",
        "\n"
      ],
      "metadata": {
        "id": "m8l8hADy_TjZ"
      }
    },
    {
      "cell_type": "markdown",
      "source": [
        "## Taller de Análisis de Datos Cuantitativos\n",
        "\n",
        "### Maestría en Urbanismo (UTE, Ecuador).\n",
        "\n",
        "Instructor: [Daniel Oto-Peralías](https://otoperalias.github.io/)\n",
        "_________________________"
      ],
      "metadata": {
        "id": "lByeC5V4GRSE"
      }
    },
    {
      "cell_type": "markdown",
      "source": [
        "El objetivo del taller es aprender a explotar una encuesta o un censo a través de programas estadísticos de análisis cuantitativo.\n",
        "\n",
        "Usaremos el [Censo de Población y Vivienda de Ecuador (2010)](https://www.ecuadorencifras.gob.ec/censo-de-poblacion-y-vivienda/) para analizar las características de las viviendas de la provincia de Loja. La tarea a realizar será la creación de un indicador de calidad de las viviendas.\n",
        "\n",
        "**Vamos a necesitar el siguiente material:**\n",
        "1. Los [datos del censo](https://www.ecuadorencifras.gob.ec/base-de-datos-censo-de-poblacion-y-vivienda/): en *A NIVEL DE SECTOR*, hacemos clic en *Censo Población y Vivienda 2010* y luego seleccionamos *Loja  (formato CSV)*.  \n",
        "Nótese que al realizar la descarga, se obtiene una carpeta comprimida. Una vez descomprimida, vemos que dentro hay 4 carpetas comprimidas, una de ellas \"Loja_CSV_Vivienda\", que es la que vamos a utilizar. Esta última carpeta no debe descomprimirse ya que se importa directamente comprimida.\n",
        "2. El [cuestionario del censo](https://www.ecuadorencifras.gob.ec//wp-content/descargas/Poblacion_y_demo/Cuestionario_censal/cuestionario_censal.pdf), donde podemos ver el significado de los códigos numéricos que aparecen en los datos.\n",
        "3. El diccionario de datos del censo, para conocer el significado de cada variable. Se puede obtener a través de [este enlace](https://aplicaciones3.ecuadorencifras.gob.ec/BIINEC-war/index.xhtml?oe=CENSOS%20DE%20POBLACI%D3N%20Y%20VIVIENDA%20NACIONAL&a=2010&m=DECENAL&t=Datos%20Abiertos%20CSV), clicando en *Datos Abiertos CSV*, pero para evitaros tener que descargar dicho archivo tan pesado (~1GB), lo proporciono en [este enlace](https://github.com/otoperalias/teaching/raw/TallerUTE_AnalisisCuanti/material/Diccionario%20de%20Datos%20CPV2010.xls).\n",
        "4. Además, es útil tener a mano esta publicación con una descripción de los resultados del Censo para la provincia de Loja. Disponible [aquí](https://www.ecuadorencifras.gob.ec/censo-de-poblacion-y-vivienda/), clicando en *Resultados provinciales* en *Loja*.\n",
        "5. Por ultimo, descargamos las capas geográficas del *Clasificador Geográfico Estadístico*, disponible en el [portal de Geografía Estadística del INEC](https://www.ecuadorencifras.gob.ec/documentos/web-inec/Geografia_Estadistica/Micrositio_geoportal/index.html). Le damos al ratón para abajo hasta la sección **Clasificador Geográfico Estadístico**, seleccionamos \"2010-CENSAL\" y clicamos en el icono \"zip SHP\". Nótese que descargamos una carpeta comprimida con tres capas geográficas (provincias, cantones y parroquias). Debemos descomprimir este fichero."
      ],
      "metadata": {
        "id": "9QJVM6_S_zYR"
      }
    },
    {
      "cell_type": "markdown",
      "source": [
        "**Sobre el programa informático:**\n",
        "\n",
        "* En este taller usamos [**Google Colab**](https://colab.research.google.com/?hl=es), que es un *notebook* virtual desde el que podemos usar **Python**.\n",
        "* La librería principal que vamos a usar es **Pandas**, una \"paquete\" especializado en el procesamiento y análisis de datos cuantitativos.\n",
        "* La gran ventaja de Python-Pandas frente a otras alternativas (SPSS/Stata/etc.) es su carácter gratuito y la gran cantidad de recursos de ayuda que existe en Internet, debido a su enorme comunidad de usuarios."
      ],
      "metadata": {
        "id": "MH3tT32NHU5I"
      }
    },
    {
      "cell_type": "markdown",
      "source": [
        "## 1. Importamos las librerías que vamos a utilizar"
      ],
      "metadata": {
        "id": "Ug_RPmKzJnC8"
      }
    },
    {
      "cell_type": "markdown",
      "source": [
        "Para usar el paquete de **Pandas** y poder visualizar los datos, tenemos que importar estas librerías:"
      ],
      "metadata": {
        "id": "li8DMsZV25Wv"
      }
    },
    {
      "cell_type": "code",
      "execution_count": null,
      "metadata": {
        "id": "Y8_GMaPLouFM"
      },
      "outputs": [],
      "source": [
        "import pandas as pd\n",
        "import geopandas as gpd\n",
        "import matplotlib.pyplot as plt\n",
        "import seaborn as sns"
      ]
    },
    {
      "cell_type": "markdown",
      "source": [
        "## 2. Importamos los datos\n"
      ],
      "metadata": {
        "id": "fehhNZfQJ2hs"
      }
    },
    {
      "cell_type": "markdown",
      "source": [
        "Para importar los datos, en primer lugar, tenemos que descargar los datos en nuestro ordenador y subirlos a Google Colab:\n",
        "1. Clicamos en el icono de carpeta que hay en la parte superior de la barra de la izquierda (📁) y entonces clicamos en el primer icono de upload.\n",
        "2. Se abre una ventana para seleccionar el archivo que queremos subir y seleccionamos la carpeta comprimida \"Loja_CSV_Vivienda\"."
      ],
      "metadata": {
        "id": "rnYzfsQZJ75j"
      }
    },
    {
      "cell_type": "markdown",
      "source": [
        "Una vez que tenemos subido el fichero y que aparece como tal (\"Loja_CSV_Vivienda.zip\") en la barra izquierda, podemos importarlo:"
      ],
      "metadata": {
        "id": "5oykwNuTLU-Z"
      }
    },
    {
      "cell_type": "code",
      "source": [
        "viv=pd.read_csv(\"Loja_CSV_Vivienda.zip\",compression='zip')"
      ],
      "metadata": {
        "id": "L-igsBqArNpN"
      },
      "execution_count": null,
      "outputs": []
    },
    {
      "cell_type": "markdown",
      "source": [
        "Para visualizar la tabla, escribimos el nombre que le hemos dado"
      ],
      "metadata": {
        "id": "DgKtdN2CLa0K"
      }
    },
    {
      "cell_type": "code",
      "source": [
        "viv"
      ],
      "metadata": {
        "id": "SQI1CN6Jr5W-"
      },
      "execution_count": null,
      "outputs": []
    },
    {
      "cell_type": "markdown",
      "source": [
        "Como se observa, esta tabla de datos (```dataframe```) tiene 155317 filas y 31 columnas. Cada fila contiene los datos censales de una vivienda.  \n",
        "En los ```dataframe``` las filas se identifican con un ```index```, que generalmente es único para cada fila. Las columnas se identifican con un nombre. No debe confundirse el index de la tabla con una columna. Es decir, el index no es la primera columna.\n",
        "\n",
        "<img src=\"https://github.com/otoperalias/teaching/blob/TallerUTE_AnalisisCuanti/material/df_structure.jpg?raw=true\" alt=\"drawing\" width=\"550\"/>"
      ],
      "metadata": {
        "id": "TGf4OQxaKtCF"
      }
    },
    {
      "cell_type": "markdown",
      "source": [
        "## 3. Exploración inicial"
      ],
      "metadata": {
        "id": "gq6WEgcpnecL"
      }
    },
    {
      "cell_type": "markdown",
      "source": [
        "Para conocer las columnas que contiene la tabla, escribimos el siguiente código:"
      ],
      "metadata": {
        "id": "97F5KvCZMYKH"
      }
    },
    {
      "cell_type": "code",
      "source": [
        "viv.columns"
      ],
      "metadata": {
        "id": "doEmXame4jNY"
      },
      "execution_count": null,
      "outputs": []
    },
    {
      "cell_type": "markdown",
      "source": [
        "Nótese que necesitamos el diccionario de datos del censo para conocer el significado de cada columna. Por otra parte, para saber el significado de los diferentes valores que toman las variables, necesitamos el cuestionario del censo. Ambos documentos se mencionan al comienzo de este notebook."
      ],
      "metadata": {
        "id": "SZW7L5PyMf_X"
      }
    },
    {
      "cell_type": "markdown",
      "source": [
        "Para obtener el número de filas de la tabla (o sea, su longitud) escribimos lo siguiente:"
      ],
      "metadata": {
        "id": "XwyB3AvuNEtv"
      }
    },
    {
      "cell_type": "code",
      "source": [
        "len(viv)"
      ],
      "metadata": {
        "id": "35aUF5vmtZ4T"
      },
      "execution_count": null,
      "outputs": []
    },
    {
      "cell_type": "markdown",
      "source": [
        "Podemos comprobar en el PDF con los resultados para Loja que en esta provincia hay 155308 viviendas. La pequeña diferencia se debe a que hay 9 cuestionarios de hogares sin viviendas (código 17 en la variable VTV).  \n",
        "La función ```value_counts()``` nos da la distribución de frecuencias de una variable."
      ],
      "metadata": {
        "id": "JOcZtO3eNS-G"
      }
    },
    {
      "cell_type": "code",
      "source": [
        "# Tipo de Vivienda\n",
        "viv[\"VTV\"].value_counts()"
      ],
      "metadata": {
        "id": "ShieU-le4Gxs"
      },
      "execution_count": null,
      "outputs": []
    },
    {
      "cell_type": "markdown",
      "source": [
        "En cuanto a terminología, las palabras *variable*, *campo* y *columna* se refieren a lo mismo. En inglés, *variable*, *field* y *column*."
      ],
      "metadata": {
        "id": "wiMGw81ZN8JA"
      }
    },
    {
      "cell_type": "markdown",
      "source": [
        "Ahora creamos un gráfico similar al del PDF (página 7: *¿Qué tipo de vivienda tenemos?*):"
      ],
      "metadata": {
        "id": "Uc7vPFZKOUYl"
      }
    },
    {
      "cell_type": "code",
      "source": [
        "sns.histplot(data=viv,x=\"VTV\",stat=\"percent\")"
      ],
      "metadata": {
        "id": "dKaR0u5wyzE6"
      },
      "execution_count": null,
      "outputs": []
    },
    {
      "cell_type": "markdown",
      "source": [
        "El siguiente bloque de código procesa ligeramente los datos para crear un gráfico más entendible. En concreto, creamos una nueva variable en la que asignamos a cada código numérico su etiqueta."
      ],
      "metadata": {
        "id": "V5M0RTKgO0H_"
      }
    },
    {
      "cell_type": "code",
      "source": [
        "# Procesamos los datos para mejorar el gráfico\n",
        "viv['tipov']=\"\" # Añadimos una nueva columna y en las líneas de código siguientes le damos contenido según los códigos de la columna VTV\n",
        "viv.loc[viv['VTV']==1,'tipov']=\"Casa/Villa\"\n",
        "viv.loc[viv['VTV']==2,'tipov']=\"Departamento\"\n",
        "viv.loc[viv['VTV']==3,'tipov']=\"Cuarto\"\n",
        "viv.loc[viv['VTV']==4,'tipov']=\"Mediagua\"\n",
        "viv.loc[viv['VTV']==5,'tipov']=\"Rancho\"\n",
        "viv.loc[(viv['VTV']==6) | (viv['VTV']==7),'tipov']=\"Covacha/Choza\"\n",
        "viv.loc[(viv['VTV']==8),'tipov']=\"Otro\""
      ],
      "metadata": {
        "id": "CgghpHthzBmh"
      },
      "execution_count": null,
      "outputs": []
    },
    {
      "cell_type": "markdown",
      "source": [
        "Ahora filtramos los datos para centrarnos en las viviendas particulares (excluyendo las colectivas):"
      ],
      "metadata": {
        "id": "I_w9ySPs6w9p"
      }
    },
    {
      "cell_type": "code",
      "source": [
        "vivpar=viv.loc[viv['VTV']<=8].copy()"
      ],
      "metadata": {
        "id": "JE6mLeBw6_--"
      },
      "execution_count": null,
      "outputs": []
    },
    {
      "cell_type": "markdown",
      "source": [
        "Para que las barras del gráfico salgan ordenadas según el código de la variable VTV, ordenamos la tabla por dicha variable:"
      ],
      "metadata": {
        "id": "iMqx5Ur67D7H"
      }
    },
    {
      "cell_type": "code",
      "source": [
        "vivpar=vivpar.sort_values(\"VTV\")"
      ],
      "metadata": {
        "id": "kzpoJZ0Y7Vc3"
      },
      "execution_count": null,
      "outputs": []
    },
    {
      "cell_type": "markdown",
      "source": [
        "Creamos el gráfico:"
      ],
      "metadata": {
        "id": "9cFjLmp-7bpf"
      }
    },
    {
      "cell_type": "code",
      "source": [
        "fig,ax=plt.subplots()  # Aquí se indica que queremos crear una figura (fig) que contiene un gráfico (ax)\n",
        "sns.histplot(data=vivpar,x=\"tipov\",stat=\"percent\",ax=ax)  # Se indica que queremos representar un histograma, que muestre los porcentajes\n",
        "ax.tick_params(axis='x', rotation=90) # Etiquetas del eje x giradas 90 grados para visualizarse mejor.\n",
        "ax.set_ylabel(\"Porcentaje\") # Título del eje y, donde se indica la unidad de medida\n",
        "ax.set_xlabel(\"\")  # No queremos título en el eje x, porque se sobre entiende.\n",
        "ax.set_title(\"¿QUÉ TIPO DE VIVIENDA TENEMOS?\")  # Título de la figura\n",
        "plt.show() # Comando para que se dibuje el gráfico."
      ],
      "metadata": {
        "id": "iqGxc1ti7e-Y"
      },
      "execution_count": null,
      "outputs": []
    },
    {
      "cell_type": "markdown",
      "source": [
        "## 4. Construcción del indicador de calidad de las viviendas"
      ],
      "metadata": {
        "id": "hXkT_j_VnlrZ"
      }
    },
    {
      "cell_type": "markdown",
      "source": [
        "### 4.1. Diseño del indicador.\n",
        "\n",
        "\n",
        "Nuestro objetivo es construir un indicador sintético (o compuesto) de calidad de las viviendas. Los indicadores o índices sintéticos se construyen para medir algo que no es directamente cuantificable. Por ejemplo, la altura de los edificios o el material del suelo sí es observable y cuantificable directamente, pero *la calidad* de las viviendas depende del criterio que fije el investigador. Por tanto, lo primero que hay que hacer es definir el concepto de calidad de la vivienda y, posteriormente, operacionalizarlo.  \n",
        "**En general, hay que seguir estos pasos:**\n",
        "1. **Conceptualización**: definir el fenómeno que se quiere medir.\n",
        "2. **Dimensiones**: precisar las dimensiones del fenómeno a medir.  \n",
        "3. **Indicadores parciales**: qué indicadores vamos a utilizar para medir cada dimensión.\n",
        "4. **Variables simples**: las variables que van a formar parte de cada indicador parcial.\n",
        "5. **Método de agregación**: decidir el método de agregación de las variables simples en indicadores parciales, de los indicadores parciales en dimensiones y de las dimensiones en el indicador sintético. La media aritmética es el método más sencillo e implica que los diferentes componentes tienen la misma importancia y se compensan perfectamente entre sí (es decir, un valor alto en uno compensa un valor bajo en otro). Otros métodos son, por ejemplo, la media ponderada, donde a cada componente se le asigna un peso diferente, y la media geométrica, que evita que los componentes sean directamente compensables entre sí.\n",
        "\n",
        "Aplicado al indicador que queremos construir:\n",
        "1.  Definimos la calidad de la vivienda como la calidad de los materiales, el estado de conservación y el nivel de salubridad.\n",
        "2. Tenemos tres dimensiones: calidad de los materiales, estado de conservación y nivel de salubridad.\n",
        "3. Vamos a usar los siguientes indicadores parciales:\n",
        " * Calidad de los materiales: material predominante en el techo (V01), paredes (V03) y piso (V05).\n",
        " * Estado de conservación: estado del techo (V02), paredes (V04) y suelo (V06).\n",
        " * Salubridad: suministro de agua por red pública (V7), conectado a alcantarillado (V09) y basura al carro corrector (V13).\n",
        "4. En el punto anterior se incluye entre paréntesis las variables del censo que vamos a utilizar.\n",
        "5. El método de agregación será siempre, por sencillez, la media aritmética."
      ],
      "metadata": {
        "id": "0QKJsIYpYV-9"
      }
    },
    {
      "cell_type": "markdown",
      "source": [
        "### 4.2. Variables simples."
      ],
      "metadata": {
        "id": "Fe5fTKeaskEJ"
      }
    },
    {
      "cell_type": "markdown",
      "source": [
        "#### 4.2.1. Calidad de materiales"
      ],
      "metadata": {
        "id": "zBmG0rLKmijl"
      }
    },
    {
      "cell_type": "code",
      "source": [
        "# Techo (1 si hormigón o teja; 0 en los demás casos)\n",
        "vivpar['techo_mat']=0\n",
        "vivpar.loc[((vivpar['V01']==\"1\") | (vivpar['V01']==\"4\")), 'techo_mat']=1\n",
        "\n",
        "# Pared (1 si hormigón o ladrillo-bloque; 0 en los demás casos)\n",
        "vivpar['pared_mat']=0\n",
        "vivpar.loc[((vivpar['V03']==\"1\") | (vivpar['V03']==\"2\")), 'pared_mat']=1\n",
        "\n",
        "# Piso (1 si madera tratada (duela, parquet...) o baldosas-cerámica; 0 en los demás casos)\n",
        "vivpar['piso_mat']=0\n",
        "vivpar.loc[((vivpar['V05']==\"1\") | (vivpar['V05']==\"3\")), 'piso_mat']=1\n",
        "\n",
        "# Echamos un vistazo a las variables creadas\n",
        "vivpar[['techo_mat','pared_mat','piso_mat']].describe()"
      ],
      "metadata": {
        "id": "OeRJjU1Klz2z"
      },
      "execution_count": null,
      "outputs": []
    },
    {
      "cell_type": "markdown",
      "source": [
        "#### 4.2.2. Estado de conservación\n",
        "\n"
      ],
      "metadata": {
        "id": "1sUlhCV-oAs9"
      }
    },
    {
      "cell_type": "code",
      "source": [
        "# Techo (1 si bueno, 0 el resto)\n",
        "vivpar['techo_est']=0\n",
        "vivpar.loc[(vivpar['V02']==\"1\") , 'techo_est']=1\n",
        "\n",
        "# Paredes (1 si bueno, 0 el resto)\n",
        "vivpar['pared_est']=0\n",
        "vivpar.loc[(vivpar['V04']==\"1\") , 'pared_est']=1\n",
        "\n",
        "# Suelo (1 si bueno, 0 el resto)\n",
        "vivpar['piso_est']=0\n",
        "vivpar.loc[(vivpar['V06']==\"1\") , 'piso_est']=1\n",
        "\n",
        "# Echamos un vistazo a las variables creadas\n",
        "vivpar[['techo_est','pared_est','piso_est']].describe()"
      ],
      "metadata": {
        "id": "_PQTEOpilz57"
      },
      "execution_count": null,
      "outputs": []
    },
    {
      "cell_type": "markdown",
      "source": [
        "#### 4.2.3. Salubridad"
      ],
      "metadata": {
        "id": "-FIPDm48pKNx"
      }
    },
    {
      "cell_type": "code",
      "source": [
        "# Suministro de agua (1 si red pública; 0 el resto)\n",
        "vivpar['agua']=0\n",
        "vivpar.loc[(vivpar['V07']==\"1\") , 'agua']=1\n",
        "\n",
        "# Alcantarillado (1 si red pública o pozo séptico, 0 el resto)\n",
        "vivpar['alcant']=0\n",
        "vivpar.loc[((vivpar['V09']==\"1\") | (vivpar['V09']==\"2\") ), 'alcant']=1\n",
        "\n",
        "# Basura (1 si carro colector, 0 el resto)\n",
        "vivpar['basura']=0\n",
        "vivpar.loc[(vivpar['V13']==\"1\") , 'basura']=1\n",
        "\n",
        "# Echamos un vistazo a las variables creadas\n",
        "vivpar[['agua','alcant','basura']].describe()"
      ],
      "metadata": {
        "id": "aV3vF6bKxWmq"
      },
      "execution_count": null,
      "outputs": []
    },
    {
      "cell_type": "markdown",
      "source": [
        "### 4.3. Construcción de los indicadores parciales"
      ],
      "metadata": {
        "id": "9fTO_O6gtA7X"
      }
    },
    {
      "cell_type": "code",
      "source": [
        "# Calidad de materiales\n",
        "vivpar[\"material\"]=(vivpar['techo_mat']+vivpar['pared_mat']+vivpar['piso_mat'])/3\n",
        "# Estado de conservación\n",
        "vivpar[\"estado\"]=(vivpar['techo_est']+vivpar['pared_est']+vivpar['piso_est'])/3\n",
        "# Salubridad\n",
        "vivpar[\"salu\"]=(vivpar['agua']+vivpar['alcant']+vivpar['basura'])/3\n",
        "\n",
        "# Echamos un vistazo a los indicadores parciales creados\n",
        "vivpar[['material','estado','salu']].describe()"
      ],
      "metadata": {
        "id": "uFQuoHBMzfCa"
      },
      "execution_count": null,
      "outputs": []
    },
    {
      "cell_type": "markdown",
      "source": [
        "**Nota metodológica**: nótese que en este caso todas las variables son directamente agregables, ya que tienen escala de 0 a 1. Si las escalas fueran diferentes habría que estandarizar las variables para convertirlas a la misma escala. De lo contrario, las variables con una escala mayor (por ejemplo, de 0 a 100) pesarían más en el indicador."
      ],
      "metadata": {
        "id": "_m1n_zRmwc3b"
      }
    },
    {
      "cell_type": "markdown",
      "source": [
        "### 4.4. Construcción del indicador sintético"
      ],
      "metadata": {
        "id": "7O0hb2Pirn_y"
      }
    },
    {
      "cell_type": "code",
      "source": [
        "# Indicador sintético de calidad de las viviendas:\n",
        "vivpar[\"calidad\"]=(vivpar['material']+vivpar['alcant']+vivpar['basura'])/3\n",
        "\n",
        "# Echamos un vistazo al indicador sintético de calidad de las viviendas:\n",
        "vivpar['calidad'].describe()"
      ],
      "metadata": {
        "id": "uv3DSmzY0UWa"
      },
      "execution_count": null,
      "outputs": []
    },
    {
      "cell_type": "code",
      "source": [
        "# Distribución de frecuencias\n",
        "sns.histplot(data=vivpar,x=\"calidad\",stat=\"percent\")"
      ],
      "metadata": {
        "id": "NgXYWyz51Kh6"
      },
      "execution_count": null,
      "outputs": []
    },
    {
      "cell_type": "markdown",
      "source": [
        "## 5. Agregaciones espaciales"
      ],
      "metadata": {
        "id": "oxzazpMvebsm"
      }
    },
    {
      "cell_type": "markdown",
      "source": [
        "Hasta ahora hemos estado usando datos individuales (a nivel de vivienda), pero con frecuencia nos interesa conocer los datos agregados de diferentes unidades geográficas, como la parroquia o el cantón.  \n",
        "Vamos a agrupar las filas de la tabla por parroquias usando la función ```groupby()```."
      ],
      "metadata": {
        "id": "hdQwH5DcefqG"
      }
    },
    {
      "cell_type": "markdown",
      "source": [
        "Primero vamos a crear una variable con el código identificativo de cada parroquia. Según el INEC, el código de la parroquia es la concatenación de los dos dígitos del código provincial, los dos del cantonal y los dos del parroquial."
      ],
      "metadata": {
        "id": "NByOIHsbtaq-"
      }
    },
    {
      "cell_type": "code",
      "source": [
        "# 1. Convertimos las columnas o variables a usar en formato texto o string (str)\n",
        "vivpar['prov']=vivpar['I01'].astype(str) # 2 dígitos provincia\n",
        "vivpar['cant']=vivpar['I02'].astype(str) # 1/2 dígitos cantón\n",
        "vivpar['parr']=vivpar['I03'].astype(str) # 2 dígitos parroquia\n",
        "\n",
        "# 2. Añadimos 0 al código cantonal cuando el valor es menor que 10 y, en consecuencia, tiene solo un dígito. Al hacer esto, conseguimos que tenga 2 dígitos.\n",
        "vivpar.loc[(vivpar['I02']<10),'cant']=\"0\"+vivpar['cant']\n",
        "\n",
        "# 3. Creamos la variable identificativa de cada parroquia:\n",
        "vivpar['DPA_PARROQ']=vivpar['prov']+vivpar['cant']+vivpar['parr']\n"
      ],
      "metadata": {
        "id": "LDHMEZhkk_7q"
      },
      "execution_count": null,
      "outputs": []
    },
    {
      "cell_type": "markdown",
      "source": [
        "Ahora ya podemos agrupar por parroquias usando la función ```groupby()```."
      ],
      "metadata": {
        "id": "QztZFAuttiZi"
      }
    },
    {
      "cell_type": "code",
      "source": [
        "columnas=['DPA_PARROQ','material', 'estado', 'salu', 'calidad']\n",
        "viv_parroq=vivpar[columnas].groupby(by='DPA_PARROQ', as_index=False).mean()"
      ],
      "metadata": {
        "id": "E9GTOO0bs0IL"
      },
      "execution_count": null,
      "outputs": []
    },
    {
      "cell_type": "markdown",
      "source": [
        "\n",
        "Esta es la tabla agregada a nivel parroquial:"
      ],
      "metadata": {
        "id": "ktCFWPUUup5t"
      }
    },
    {
      "cell_type": "code",
      "source": [
        "viv_parroq"
      ],
      "metadata": {
        "id": "3j5MpYPomXyu"
      },
      "execution_count": null,
      "outputs": []
    },
    {
      "cell_type": "markdown",
      "source": [
        "Obsérvese que la función ```mean()``` tiene sentido para agregar estas variables, pero téngase en cuenta que este no siempre es el caso."
      ],
      "metadata": {
        "id": "dZ-pXlCDqmtR"
      }
    },
    {
      "cell_type": "markdown",
      "source": [
        "Ahora vamos a echar un vistazo a la distribución de frecuencias a este nivel agregado:"
      ],
      "metadata": {
        "id": "pV9xfw-w3n9n"
      }
    },
    {
      "cell_type": "code",
      "source": [
        "sns.histplot(data=viv_parroq,x=\"calidad\",stat=\"percent\")"
      ],
      "metadata": {
        "id": "3_a4ZpyM3mzN"
      },
      "execution_count": null,
      "outputs": []
    },
    {
      "cell_type": "markdown",
      "source": [
        "## 6. Representación geográfica"
      ],
      "metadata": {
        "id": "AuCBD4NltWtQ"
      }
    },
    {
      "cell_type": "markdown",
      "source": [
        "A continuación vamos a representar los datos geográficamente. Para ello, tenemos que importar la capa geográfica de parroquias de Ecuador. Dicha capa la descargamos inicialmente y la debemos tener descomprimida en nuestro ordenador. Debemos subir a Google Colab todos los archivos con el nombre *nxparroquias* (7 en total)."
      ],
      "metadata": {
        "id": "XFW9-QdyPPuG"
      }
    },
    {
      "cell_type": "markdown",
      "source": [
        "Leemos el archivo para crear la capa geográfica. Usamos el módilo ```geopandas```importando como ```gpd```:"
      ],
      "metadata": {
        "id": "H4TUceBl5QWM"
      }
    },
    {
      "cell_type": "code",
      "source": [
        "parroquias=gpd.read_file(\"nxparroquias.shp\")"
      ],
      "metadata": {
        "id": "UYogVvwr5Yzv"
      },
      "execution_count": null,
      "outputs": []
    },
    {
      "cell_type": "markdown",
      "source": [
        "Echamos un vistazo a la tabla:"
      ],
      "metadata": {
        "id": "DGRW7B9-5mck"
      }
    },
    {
      "cell_type": "code",
      "source": [
        "parroquias"
      ],
      "metadata": {
        "id": "n9C6T7w25pIb"
      },
      "execution_count": null,
      "outputs": []
    },
    {
      "cell_type": "markdown",
      "source": [
        "Vemos que hay una columna denominada DPA_PARROQ, con el código identificativo de cada parroquia. Otra que nos interesa contiene el nombre de cada parroquia y también otra importante es la denominada \"geometry\". Esta última contiene la información geográfica."
      ],
      "metadata": {
        "id": "H5T0kHU95rel"
      }
    },
    {
      "cell_type": "markdown",
      "source": [
        "Con ```geopandas```es muy fácil representar gráficamente:"
      ],
      "metadata": {
        "id": "3zhbLgu56JHX"
      }
    },
    {
      "cell_type": "code",
      "source": [
        "parroquias.plot()"
      ],
      "metadata": {
        "id": "9EhtzmsM6Nz2"
      },
      "execution_count": null,
      "outputs": []
    },
    {
      "cell_type": "markdown",
      "source": [
        "El sistema de coordenadas geográficas puede consultarse con la propiedad ```crs```:"
      ],
      "metadata": {
        "id": "rUPCcLmP6Ssm"
      }
    },
    {
      "cell_type": "code",
      "source": [
        "parroquias.crs"
      ],
      "metadata": {
        "id": "6VamIyqO6blO"
      },
      "execution_count": null,
      "outputs": []
    },
    {
      "cell_type": "markdown",
      "source": [
        "Solo necesitamos las parroquias de Loja. Por tanto, aplicamos el siguiente filtro:"
      ],
      "metadata": {
        "id": "CTpnZooN6f4P"
      }
    },
    {
      "cell_type": "code",
      "source": [
        "# Seleccionamos las parroquias de Loja (códgo parroquias 11)\n",
        "loja=parroquias.loc[parroquias.DPA_PROVIN==\"11\"]\n",
        "loja"
      ],
      "metadata": {
        "id": "1tRZwGwA6phG"
      },
      "execution_count": null,
      "outputs": []
    },
    {
      "cell_type": "markdown",
      "source": [
        "Como paso previo a representar gráficamente, necesitamos unir la tabla con datos geográficos (loja) con la tabla anterior (viv_parroq). A la hora de enlazar dos tablas, necesitamos que tengan una columna común que permita unirlas. Dicha columna es DPA_PARROQ:"
      ],
      "metadata": {
        "id": "EBzYmtbqRh3B"
      }
    },
    {
      "cell_type": "code",
      "source": [
        "# Unimos las dos tablas\n",
        "loja=loja.merge(viv_parroq,on=\"DPA_PARROQ\")\n",
        "loja"
      ],
      "metadata": {
        "id": "TUC81S3DTLcs"
      },
      "execution_count": null,
      "outputs": []
    },
    {
      "cell_type": "markdown",
      "source": [
        "Finalmente, creamos la representación gráfica del índice de calidad de las viviendas:"
      ],
      "metadata": {
        "id": "D8_9Kq0YTgjJ"
      }
    },
    {
      "cell_type": "code",
      "source": [
        "loja.plot(\"calidad\", legend=True)"
      ],
      "metadata": {
        "id": "InexlQUFTx3o"
      },
      "execution_count": null,
      "outputs": []
    },
    {
      "cell_type": "markdown",
      "source": [
        "Para mejorar el aspecto del mapa, empleados el siguiente código:"
      ],
      "metadata": {
        "id": "wCgdVAvATzEB"
      }
    },
    {
      "cell_type": "code",
      "source": [
        "fig, ax=plt.subplots(dpi=100)\n",
        "loja.plot(\"calidad\", legend=True,legend_kwds={'shrink': 0.5},ax=ax)\n",
        "ax.axis(\"off\")\n",
        "ax.set_title(\"Índice de calidad de las viviendas en Loja\",size=\"12\")\n",
        "fig.text(0.2,0.05,\"Fuente: INEC. Elaboración propia.\",size=\"10\")\n",
        "plt.show()"
      ],
      "metadata": {
        "id": "HACCvBOET5Yf"
      },
      "execution_count": null,
      "outputs": []
    },
    {
      "cell_type": "markdown",
      "source": [
        "## Ejercicios propuestos"
      ],
      "metadata": {
        "id": "rte9CiFrzvDj"
      }
    },
    {
      "cell_type": "markdown",
      "source": [
        "1. Representar geográficamente cada uno de los tres indicadores parciales.\n",
        "2. Crear un nuevo indicador que sea el porcentaje de viviendas cuyo servicio de luz (energía) eléctrica provenga principalmente de la red de empresa eléctrica de servicio público (variable V10). Calcular la media de dicha variable y mostrar su distribución de frecuencias.\n",
        "3. Representar geográficamente el indicador anterior"
      ],
      "metadata": {
        "id": "SdYBudAw0Io6"
      }
    },
    {
      "cell_type": "markdown",
      "source": [
        "---\n",
        "\n",
        "**Consejos básicos**:  \n",
        "Al principio, la mejor manera de escribir código es reutilizando código ya escrito y adaptándolo a nuestras necesidades. Por ejemplo, los ejercicios propuestos se pueden realizar fácilmente usando el código que se proporciona en este notebook, simplemente introduciendo modificaciones mínimas.  \n",
        "Hay que tener en cuenta que cualquier mínimo error al escribir el código, por pequeño que sea (falta un paréntesis, una letra aparece en mayúscula cuando debe estar en minúscula, falta una coma, una comilla, etc) nos va a dar error al ejecutar. Tenéis que ser muy cuidadosos y todo tiene que estar literalmente bien escrito.  Por ello, es importante reutilizar el código ya escrito y fijarse muy bien en que no falte nada.\n",
        "\n",
        "---\n"
      ],
      "metadata": {
        "id": "C49y_6oFBE-o"
      }
    },
    {
      "cell_type": "markdown",
      "source": [
        "## Recursos para el aprendizaje autónomo:\n",
        "\n",
        "Existe una enorme cantidad de recursos disponibles en Internet para aprender a usar ```Pandas``` y más en general ```Python```.  \n",
        "Por ejemplo, este curso aplicado a técnicas geoespaciales:\n",
        "https://geo-python-site.readthedocs.io/en/latest/  \n",
        "\n",
        "Hay también cursos gratuitos en plataformas como www.coursera.org o https://www.edx.org/\n",
        "\n",
        "Es muy común consultar constantemente las dudas en Google. Lo más práctico es escribir la duda en inglés, ya que normalmente hay más ayuda. Suele ser de mucha utilidad las respuestas en el foro https://stackoverflow.com/\n",
        "<br></br>\n",
        "Y por supuesto, la ayuda oficial es también muy buen recurso:  \n",
        "https://pandas.pydata.org/  \n",
        "https://seaborn.pydata.org/  \n",
        "https://matplotlib.org/\n",
        "\n"
      ],
      "metadata": {
        "id": "y1uJ_nkB3EV7"
      }
    }
  ]
}